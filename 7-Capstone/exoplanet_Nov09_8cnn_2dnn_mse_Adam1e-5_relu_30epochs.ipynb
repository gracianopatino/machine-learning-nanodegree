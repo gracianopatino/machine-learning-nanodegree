{
 "cells": [
  {
   "cell_type": "markdown",
   "metadata": {},
   "source": [
    "# Machine Learning Engineer Nanodegree\n",
    "\n",
    "## Capstone project: Exoplanet search (from Kaggle)\n",
    "\n",
    "Student Name: Graciano Patino\n",
    "\n",
    "Kaggle reference: https://www.kaggle.com/keplersmachines/kepler-labelled-time-series-data?/\n",
    "\n",
    "The mission as stated in the Github (https://github.com/winterdelta/KeplerAI) is to build a classification algorithm for identifying if a particular time series input includes an exoplanet or not. It also mentions that a number of methods were tested: 1-D CNN in Torch7, XGBoost in R and PCA in Python. However, none of these methods provided strong results according to the kaggle and Github references. \n",
    "\n",
    "For this project, I would evaluate deep learning algorithms. Per paper in the paragraph (below), these algorithms appear to provide better results compared to the ones already tried as mentioned above.\n",
    "\n",
    "1)\tInitially I would evaluate 1-D CNN using Keras instead of Torch7. \n",
    "2)\tBased on reference paper, I would try adding different number of layers and filters in combination with other CNN parameters. Details would be included in project report.\n",
    "3)\tThe output of the CNNs would be the input to one or more dense layers.\n",
    "4)\tPerformance of each model to be measured as per evaluation metrics section.\n",
    "5)\tPer kaggle source the test set is confirmed to have 5 exoplanets. This will also be useful on checking performance of algorithms. If an algorithm is unable to identify exoplanets on then testing set, then model might not be good. \n",
    "\n",
    "Please that the list above of models considered is not meant to be exhaustive for all possible scenarios in deep learning algorithms. It might be the case that other deep learning algorithms might be considered later should the ones proposed (above) fail in identifying any exoplanet as expected.\n"
   ]
  },
  {
   "cell_type": "markdown",
   "metadata": {},
   "source": [
    "### Project design\n",
    "\n",
    "The workflow for solving this problem would have the following order:\n",
    "\n",
    "    1) Exploring the datasets (check dimensions of data, labels, etc.)\n",
    "    2) Data preprocessing: \n",
    "    2.1) The datasets provided by kaggle are supposed to be clean (for the most part).\n",
    "    2.2) It is noted that the data is not normalized. (Some normalization is required.)\n",
    "    2.3) Github reference (above) mentions that techniques like data augmentation could help as we are dealing with time series. Perhaps systematically shifting rows and adding noise could generate additional realistic (albeit synthetic) trends. This might be explored depending on results from the different algorithms tested for solving the problem.\n",
    "    3) Evaluate machine learning algorithms: This involves building the models and selecting best model by using evaluation metrics and comparing to benchmark model(s).\n",
    "    4) Model tuning to optimize results: This involves using evaluating performance of the model and fine tuning hyper-parameters until a satisfactory model is identified. This is by using evaluation metrics to evaluate performance.\n",
    "    5) Final conclusions.\n"
   ]
  },
  {
   "cell_type": "code",
   "execution_count": 1,
   "metadata": {},
   "outputs": [],
   "source": [
    "# Import libraries necessary for this project\n",
    "import numpy as np\n",
    "import pandas as pd\n",
    "import matplotlib.pyplot as plt\n",
    "import math\n",
    "import itertools\n",
    "from IPython.display import display # Allows the use of display() for DataFrames\n",
    "from get_results_v2 import plot_roc_auc, confusion_matrix_com\n",
    "\n",
    "# Pretty display for notebooks\n",
    "%matplotlib inline\n",
    "\n",
    "# Some Sklearn libraries are required\n",
    "from sklearn.metrics import roc_auc_score\n",
    "from sklearn.metrics import precision_recall_curve\n",
    "from sklearn.utils.fixes import signature\n",
    "from sklearn.metrics import average_precision_score"
   ]
  },
  {
   "cell_type": "code",
   "execution_count": 2,
   "metadata": {},
   "outputs": [],
   "source": [
    "# Load the training data from Exoplanet dataset\n",
    "train_data = pd.read_csv('kepler/exoTrain.csv')"
   ]
  },
  {
   "cell_type": "code",
   "execution_count": 3,
   "metadata": {},
   "outputs": [
    {
     "data": {
      "text/plain": [
       "(5087, 3198)"
      ]
     },
     "execution_count": 3,
     "metadata": {},
     "output_type": "execute_result"
    }
   ],
   "source": [
    "# Find dimensions of the train data\n",
    "train_data.shape"
   ]
  },
  {
   "cell_type": "code",
   "execution_count": 4,
   "metadata": {},
   "outputs": [],
   "source": [
    "# Getting X_train and y_train\n",
    "# Using iloc to select data using position instead of label and converting to numpy array using values\n",
    "X_train = train_data.iloc[:,1:].values \n",
    "y_train = train_data.iloc[:,0:1].values "
   ]
  },
  {
   "cell_type": "code",
   "execution_count": 5,
   "metadata": {},
   "outputs": [
    {
     "data": {
      "text/plain": [
       "(5087, 3197)"
      ]
     },
     "execution_count": 5,
     "metadata": {},
     "output_type": "execute_result"
    }
   ],
   "source": [
    "# Find dimensions of the X_train data\n",
    "X_train.shape"
   ]
  },
  {
   "cell_type": "code",
   "execution_count": 6,
   "metadata": {},
   "outputs": [
    {
     "data": {
      "text/plain": [
       "(5087, 1)"
      ]
     },
     "execution_count": 6,
     "metadata": {},
     "output_type": "execute_result"
    }
   ],
   "source": [
    "# Find dimensions of the labels (y_train) data\n",
    "y_train.shape"
   ]
  },
  {
   "cell_type": "code",
   "execution_count": 7,
   "metadata": {},
   "outputs": [
    {
     "data": {
      "text/plain": [
       "array([[2],\n",
       "       [2],\n",
       "       [2],\n",
       "       [2],\n",
       "       [2]])"
      ]
     },
     "execution_count": 7,
     "metadata": {},
     "output_type": "execute_result"
    }
   ],
   "source": [
    "# y_train: Label is 2 for exoplanet and 1 for non-exoplanet\n",
    "y_train[:5]"
   ]
  },
  {
   "cell_type": "code",
   "execution_count": 8,
   "metadata": {},
   "outputs": [],
   "source": [
    "y_train -= 1 # Changing labels to: 1 for exoplanet and 0 for non-exoplanet"
   ]
  },
  {
   "cell_type": "code",
   "execution_count": 9,
   "metadata": {},
   "outputs": [
    {
     "data": {
      "text/plain": [
       "array([[1],\n",
       "       [1],\n",
       "       [1],\n",
       "       [1],\n",
       "       [1]])"
      ]
     },
     "execution_count": 9,
     "metadata": {},
     "output_type": "execute_result"
    }
   ],
   "source": [
    "y_train[:5]"
   ]
  },
  {
   "cell_type": "code",
   "execution_count": 10,
   "metadata": {
    "scrolled": true
   },
   "outputs": [],
   "source": [
    "# Load the testing data from Exoplanet dataset\n",
    "test_data = pd.read_csv('kepler/exoTest.csv')"
   ]
  },
  {
   "cell_type": "code",
   "execution_count": 11,
   "metadata": {},
   "outputs": [
    {
     "data": {
      "text/plain": [
       "(570, 3198)"
      ]
     },
     "execution_count": 11,
     "metadata": {},
     "output_type": "execute_result"
    }
   ],
   "source": [
    "# Find dimensions of the test data\n",
    "test_data.shape"
   ]
  },
  {
   "cell_type": "code",
   "execution_count": 12,
   "metadata": {},
   "outputs": [],
   "source": [
    "# Getting X_test and y_test\n",
    "# Using iloc to select data using position instead of label and converting to numpy array (using values)\n",
    "X_test = test_data.iloc[:,1:].values\n",
    "y_test = test_data.iloc[:,0:1].values"
   ]
  },
  {
   "cell_type": "code",
   "execution_count": 13,
   "metadata": {},
   "outputs": [
    {
     "data": {
      "text/plain": [
       "(570, 3197)"
      ]
     },
     "execution_count": 13,
     "metadata": {},
     "output_type": "execute_result"
    }
   ],
   "source": [
    "# Find dimensions of the X_test data\n",
    "X_test.shape"
   ]
  },
  {
   "cell_type": "code",
   "execution_count": 14,
   "metadata": {},
   "outputs": [
    {
     "data": {
      "text/plain": [
       "(570, 1)"
      ]
     },
     "execution_count": 14,
     "metadata": {},
     "output_type": "execute_result"
    }
   ],
   "source": [
    "# Find dimensions of the labels (y_test) data\n",
    "y_test.shape"
   ]
  },
  {
   "cell_type": "code",
   "execution_count": 15,
   "metadata": {},
   "outputs": [
    {
     "data": {
      "text/plain": [
       "array([[2],\n",
       "       [2],\n",
       "       [2],\n",
       "       [2],\n",
       "       [2],\n",
       "       [1]])"
      ]
     },
     "execution_count": 15,
     "metadata": {},
     "output_type": "execute_result"
    }
   ],
   "source": [
    "# y_test: Label is 2 for exoplanet and 1 for non-exoplanet\n",
    "y_test[:6]"
   ]
  },
  {
   "cell_type": "code",
   "execution_count": 16,
   "metadata": {},
   "outputs": [],
   "source": [
    "y_test -= 1 # Changing labels to: 1 for exoplanet and 0 for non-exoplanet"
   ]
  },
  {
   "cell_type": "code",
   "execution_count": 17,
   "metadata": {},
   "outputs": [
    {
     "data": {
      "text/plain": [
       "array([[1],\n",
       "       [1],\n",
       "       [1],\n",
       "       [1],\n",
       "       [1],\n",
       "       [0]])"
      ]
     },
     "execution_count": 17,
     "metadata": {},
     "output_type": "execute_result"
    }
   ],
   "source": [
    "y_test[:6]"
   ]
  },
  {
   "cell_type": "code",
   "execution_count": 18,
   "metadata": {},
   "outputs": [],
   "source": [
    "# Normalizing the data since it is not normalized according to Kaggle/Github\n",
    "from sklearn.preprocessing import StandardScaler"
   ]
  },
  {
   "cell_type": "code",
   "execution_count": 19,
   "metadata": {},
   "outputs": [
    {
     "data": {
      "text/plain": [
       "array([[  93.85,   83.81,   20.1 , ...,   61.42,    5.08,  -39.54],\n",
       "       [ -38.88,  -33.83,  -58.54, ...,    6.46,   16.  ,   19.93],\n",
       "       [ 532.64,  535.92,  513.73, ...,  -28.91,  -70.02,  -96.67],\n",
       "       ..., \n",
       "       [ 273.39,  278.  ,  261.73, ...,   88.42,   79.07,   79.43],\n",
       "       [   3.82,    2.09,   -3.29, ...,  -14.55,   -6.41,   -2.55],\n",
       "       [ 323.28,  306.36,  293.16, ...,  -16.72,  -14.09,   27.82]])"
      ]
     },
     "execution_count": 19,
     "metadata": {},
     "output_type": "execute_result"
    }
   ],
   "source": [
    "# Checking X_train data\n",
    "X_train"
   ]
  },
  {
   "cell_type": "code",
   "execution_count": 20,
   "metadata": {},
   "outputs": [
    {
     "data": {
      "text/plain": [
       "array([[  93.85,  -38.88,  532.64, ...,  273.39,    3.82,  323.28],\n",
       "       [  83.81,  -33.83,  535.92, ...,  278.  ,    2.09,  306.36],\n",
       "       [  20.1 ,  -58.54,  513.73, ...,  261.73,   -3.29,  293.16],\n",
       "       ..., \n",
       "       [  61.42,    6.46,  -28.91, ...,   88.42,  -14.55,  -16.72],\n",
       "       [   5.08,   16.  ,  -70.02, ...,   79.07,   -6.41,  -14.09],\n",
       "       [ -39.54,   19.93,  -96.67, ...,   79.43,   -2.55,   27.82]])"
      ]
     },
     "execution_count": 20,
     "metadata": {},
     "output_type": "execute_result"
    }
   ],
   "source": [
    "# Tranposing X_train before applying scaling such that mean is zero and variance is one\n",
    "X_train.transpose()"
   ]
  },
  {
   "cell_type": "code",
   "execution_count": 21,
   "metadata": {},
   "outputs": [
    {
     "data": {
      "text/plain": [
       "array([[  1.19880000e+02,   1.00210000e+02,   8.64600000e+01, ...,\n",
       "          3.57800000e+01,   2.69430000e+02,   5.77200000e+01],\n",
       "       [  5.73659000e+03,   5.69998000e+03,   5.71716000e+03, ...,\n",
       "         -2.36619000e+03,  -2.29486000e+03,  -2.03472000e+03],\n",
       "       [  8.44480000e+02,   8.17490000e+02,   7.70070000e+02, ...,\n",
       "         -1.62680000e+02,  -3.67900000e+01,   3.06300000e+01],\n",
       "       ..., \n",
       "       [ -5.40100000e+01,  -4.41300000e+01,  -4.12300000e+01, ...,\n",
       "          5.47000000e+00,   1.44600000e+01,   1.87000000e+01],\n",
       "       [  9.13600000e+01,   8.56000000e+01,   4.88100000e+01, ...,\n",
       "         -8.43000000e+00,  -6.48000000e+00,   1.76000000e+01],\n",
       "       [  3.07119000e+03,   2.78253000e+03,   2.60869000e+03, ...,\n",
       "         -2.77220000e+02,  -6.96300000e+01,   1.21560000e+02]])"
      ]
     },
     "execution_count": 21,
     "metadata": {},
     "output_type": "execute_result"
    }
   ],
   "source": [
    "# # Checking X_train data\n",
    "X_test"
   ]
  },
  {
   "cell_type": "code",
   "execution_count": 22,
   "metadata": {},
   "outputs": [
    {
     "data": {
      "text/plain": [
       "array([[  1.19880000e+02,   5.73659000e+03,   8.44480000e+02, ...,\n",
       "         -5.40100000e+01,   9.13600000e+01,   3.07119000e+03],\n",
       "       [  1.00210000e+02,   5.69998000e+03,   8.17490000e+02, ...,\n",
       "         -4.41300000e+01,   8.56000000e+01,   2.78253000e+03],\n",
       "       [  8.64600000e+01,   5.71716000e+03,   7.70070000e+02, ...,\n",
       "         -4.12300000e+01,   4.88100000e+01,   2.60869000e+03],\n",
       "       ..., \n",
       "       [  3.57800000e+01,  -2.36619000e+03,  -1.62680000e+02, ...,\n",
       "          5.47000000e+00,  -8.43000000e+00,  -2.77220000e+02],\n",
       "       [  2.69430000e+02,  -2.29486000e+03,  -3.67900000e+01, ...,\n",
       "          1.44600000e+01,  -6.48000000e+00,  -6.96300000e+01],\n",
       "       [  5.77200000e+01,  -2.03472000e+03,   3.06300000e+01, ...,\n",
       "          1.87000000e+01,   1.76000000e+01,   1.21560000e+02]])"
      ]
     },
     "execution_count": 22,
     "metadata": {},
     "output_type": "execute_result"
    }
   ],
   "source": [
    "# Tranposing X_test before applying scaling such that mean is zero and variance is one\n",
    "X_test.transpose()"
   ]
  },
  {
   "cell_type": "code",
   "execution_count": 23,
   "metadata": {},
   "outputs": [],
   "source": [
    "# Standardize features by removing the mean and scaling to unit variance (sklearn.preprocessing)\n",
    "scaler = StandardScaler()\n",
    "X_train = scaler.fit_transform(X_train) # Output in a numpy.ndarray\n",
    "X_test = scaler.fit_transform(X_test) # Output in a numpy.ndarray"
   ]
  },
  {
   "cell_type": "code",
   "execution_count": 24,
   "metadata": {},
   "outputs": [
    {
     "data": {
      "text/plain": [
       "array([[-0.00235557, -0.00852774,  0.01804893, ...,  0.00599336,\n",
       "        -0.00654212,  0.00831333],\n",
       "       [-0.00205404, -0.0074516 ,  0.01868969, ...,  0.00685579,\n",
       "        -0.00580352,  0.00815701],\n",
       "       [-0.00579778, -0.00938685,  0.01673115, ...,  0.00523005,\n",
       "        -0.00686528,  0.00666449],\n",
       "       ..., \n",
       "       [ 0.0341983 ,  0.03109682,  0.02910084, ...,  0.03572195,\n",
       "         0.0299112 ,  0.02978874],\n",
       "       [ 0.02736753,  0.02803863,  0.02275218, ...,  0.03191466,\n",
       "         0.0266614 ,  0.02618942],\n",
       "       [ 0.01805157,  0.02216476,  0.01410023, ...,  0.02628002,\n",
       "         0.02060995,  0.02271046]])"
      ]
     },
     "execution_count": 24,
     "metadata": {},
     "output_type": "execute_result"
    }
   ],
   "source": [
    "X_train.transpose() # Transpose back to original dimensions"
   ]
  },
  {
   "cell_type": "code",
   "execution_count": 25,
   "metadata": {},
   "outputs": [
    {
     "data": {
      "text/plain": [
       "array([[-0.03143654,  0.41497541,  0.02615413, ..., -0.04525719,\n",
       "        -0.03370329,  0.20313139],\n",
       "       [-0.05057432,  0.39343385,  0.00629912, ..., -0.0620191 ,\n",
       "        -0.05173276,  0.16210798],\n",
       "       [-0.03559448,  0.41363759,  0.01894572, ..., -0.04578193,\n",
       "        -0.0385983 ,  0.16563567],\n",
       "       ..., \n",
       "       [-0.00907555, -0.2624662 , -0.03001166, ..., -0.01227304,\n",
       "        -0.01373939, -0.04209481],\n",
       "       [ 0.00470934, -0.26591026, -0.02760726, ..., -0.02219864,\n",
       "        -0.02440852, -0.03107299],\n",
       "       [-0.00786554, -0.22375419, -0.01066057, ..., -0.01189145,\n",
       "        -0.01200494, -0.00127881]])"
      ]
     },
     "execution_count": 25,
     "metadata": {},
     "output_type": "execute_result"
    }
   ],
   "source": [
    "X_test.transpose() # Transpose back to original dimensions"
   ]
  },
  {
   "cell_type": "code",
   "execution_count": 26,
   "metadata": {},
   "outputs": [],
   "source": [
    "# Fix random seed for reproducibility\n",
    "seed = 10\n",
    "np.random.seed(seed)"
   ]
  },
  {
   "cell_type": "code",
   "execution_count": 27,
   "metadata": {},
   "outputs": [],
   "source": [
    "# In this cell, the train is being broken up into two sets: train and validation.\n",
    "# By using stratify parameter, data is split in a stratified fashion, using this as the class labels.\n",
    "from sklearn.model_selection import train_test_split\n",
    "\n",
    "X_train_new, X_val, y_train_new, y_val = train_test_split(X_train, y_train, test_size=0.2, random_state=10, stratify=y_train)"
   ]
  },
  {
   "cell_type": "code",
   "execution_count": 28,
   "metadata": {},
   "outputs": [
    {
     "data": {
      "text/plain": [
       "7"
      ]
     },
     "execution_count": 28,
     "metadata": {},
     "output_type": "execute_result"
    }
   ],
   "source": [
    "# Checking how many exoplanets are in validation set (20% would be ~ 7 exoplanets)\n",
    "y_val.sum()"
   ]
  },
  {
   "cell_type": "code",
   "execution_count": 29,
   "metadata": {},
   "outputs": [
    {
     "data": {
      "text/plain": [
       "30"
      ]
     },
     "execution_count": 29,
     "metadata": {},
     "output_type": "execute_result"
    }
   ],
   "source": [
    "# Checking how many exoplanets are in new training set (80% would be ~ 30 exoplanets)\n",
    "y_train_new.sum()"
   ]
  },
  {
   "cell_type": "code",
   "execution_count": null,
   "metadata": {},
   "outputs": [],
   "source": []
  },
  {
   "cell_type": "code",
   "execution_count": 30,
   "metadata": {},
   "outputs": [
    {
     "data": {
      "text/plain": [
       "(4069, 3197)"
      ]
     },
     "execution_count": 30,
     "metadata": {},
     "output_type": "execute_result"
    }
   ],
   "source": [
    "X_train_new.shape"
   ]
  },
  {
   "cell_type": "code",
   "execution_count": 31,
   "metadata": {},
   "outputs": [
    {
     "data": {
      "text/plain": [
       "(4069, 1)"
      ]
     },
     "execution_count": 31,
     "metadata": {},
     "output_type": "execute_result"
    }
   ],
   "source": [
    "y_train_new.shape"
   ]
  },
  {
   "cell_type": "code",
   "execution_count": 32,
   "metadata": {},
   "outputs": [],
   "source": [
    "# Testing adding augmentation by using Numpy fliplr technique (reversing the other of the time series on each\n",
    "# entry with exoplanet = 1)\n",
    "\n",
    "exoyes = X_train_new[y_train_new[:,0] == 1]\n",
    "X_rev = np.fliplr(exoyes)\n",
    "X_t = np.vstack([X_rev, X_train_new])\n",
    "y_t = np.hstack([np.ones(len(X_rev)), y_train_new[:,0]])\n"
   ]
  },
  {
   "cell_type": "code",
   "execution_count": 33,
   "metadata": {},
   "outputs": [
    {
     "data": {
      "text/plain": [
       "(30, 3197)"
      ]
     },
     "execution_count": 33,
     "metadata": {},
     "output_type": "execute_result"
    }
   ],
   "source": [
    "exoyes.shape"
   ]
  },
  {
   "cell_type": "code",
   "execution_count": 34,
   "metadata": {},
   "outputs": [
    {
     "data": {
      "text/plain": [
       "(30, 3197)"
      ]
     },
     "execution_count": 34,
     "metadata": {},
     "output_type": "execute_result"
    }
   ],
   "source": [
    "X_rev.shape"
   ]
  },
  {
   "cell_type": "code",
   "execution_count": 35,
   "metadata": {},
   "outputs": [
    {
     "data": {
      "text/plain": [
       "(4099, 3197)"
      ]
     },
     "execution_count": 35,
     "metadata": {},
     "output_type": "execute_result"
    }
   ],
   "source": [
    "X_t.shape"
   ]
  },
  {
   "cell_type": "code",
   "execution_count": 36,
   "metadata": {},
   "outputs": [
    {
     "data": {
      "text/plain": [
       "(4099,)"
      ]
     },
     "execution_count": 36,
     "metadata": {},
     "output_type": "execute_result"
    }
   ],
   "source": [
    "y_t.shape"
   ]
  },
  {
   "cell_type": "code",
   "execution_count": 37,
   "metadata": {},
   "outputs": [
    {
     "data": {
      "text/plain": [
       "60.0"
      ]
     },
     "execution_count": 37,
     "metadata": {},
     "output_type": "execute_result"
    }
   ],
   "source": [
    "y_t.sum()"
   ]
  },
  {
   "cell_type": "code",
   "execution_count": 38,
   "metadata": {},
   "outputs": [
    {
     "name": "stderr",
     "output_type": "stream",
     "text": [
      "Using TensorFlow backend.\n"
     ]
    }
   ],
   "source": [
    "from keras.models import Sequential, Model\n",
    "from keras.layers import Conv1D, MaxPool1D, Dense, Dropout, Flatten\n",
    "from keras.layers import BatchNormalization, Input, concatenate, Activation\n",
    "from keras.optimizers import Adam, Nadam, SGD\n",
    "from keras.callbacks import ModelCheckpoint "
   ]
  },
  {
   "cell_type": "code",
   "execution_count": 39,
   "metadata": {},
   "outputs": [],
   "source": [
    "#Convert data into 3d tensor (Input 0 in Conv1D is incompatible with layer conv1d_1: expected ndim=3, found ndim=2)\n",
    "X_t = np.reshape(X_t,(X_t.shape[0],X_t.shape[1],1))\n",
    "X_val = np.reshape(X_val,(X_val.shape[0],X_val.shape[1],1))\n",
    "X_test = np.reshape(X_test,(X_test.shape[0],X_test.shape[1],1))"
   ]
  },
  {
   "cell_type": "code",
   "execution_count": 40,
   "metadata": {},
   "outputs": [
    {
     "data": {
      "text/plain": [
       "(570, 3197, 1)"
      ]
     },
     "execution_count": 40,
     "metadata": {},
     "output_type": "execute_result"
    }
   ],
   "source": [
    "# Checking shape of X_test tensor\n",
    "X_test.shape"
   ]
  },
  {
   "cell_type": "code",
   "execution_count": 41,
   "metadata": {},
   "outputs": [
    {
     "data": {
      "text/plain": [
       "(4099, 3197, 1)"
      ]
     },
     "execution_count": 41,
     "metadata": {},
     "output_type": "execute_result"
    }
   ],
   "source": [
    "# Checking shape of X_train_new tensor\n",
    "X_t.shape"
   ]
  },
  {
   "cell_type": "code",
   "execution_count": 42,
   "metadata": {},
   "outputs": [
    {
     "data": {
      "text/plain": [
       "(1018, 3197, 1)"
      ]
     },
     "execution_count": 42,
     "metadata": {},
     "output_type": "execute_result"
    }
   ],
   "source": [
    "# Checking shape of X_val tensor\n",
    "X_val.shape"
   ]
  },
  {
   "cell_type": "code",
   "execution_count": 43,
   "metadata": {},
   "outputs": [
    {
     "name": "stdout",
     "output_type": "stream",
     "text": [
      "_________________________________________________________________\n",
      "Layer (type)                 Output Shape              Param #   \n",
      "=================================================================\n",
      "conv1d_1 (Conv1D)            (None, 3192, 4)           28        \n",
      "_________________________________________________________________\n",
      "conv1d_2 (Conv1D)            (None, 3187, 4)           100       \n",
      "_________________________________________________________________\n",
      "max_pooling1d_1 (MaxPooling1 (None, 797, 4)            0         \n",
      "_________________________________________________________________\n",
      "dropout_1 (Dropout)          (None, 797, 4)            0         \n",
      "_________________________________________________________________\n",
      "batch_normalization_1 (Batch (None, 797, 4)            16        \n",
      "_________________________________________________________________\n",
      "conv1d_3 (Conv1D)            (None, 792, 8)            200       \n",
      "_________________________________________________________________\n",
      "conv1d_4 (Conv1D)            (None, 787, 8)            392       \n",
      "_________________________________________________________________\n",
      "max_pooling1d_2 (MaxPooling1 (None, 197, 8)            0         \n",
      "_________________________________________________________________\n",
      "dropout_2 (Dropout)          (None, 197, 8)            0         \n",
      "_________________________________________________________________\n",
      "batch_normalization_2 (Batch (None, 197, 8)            32        \n",
      "_________________________________________________________________\n",
      "conv1d_5 (Conv1D)            (None, 192, 16)           784       \n",
      "_________________________________________________________________\n",
      "conv1d_6 (Conv1D)            (None, 187, 16)           1552      \n",
      "_________________________________________________________________\n",
      "max_pooling1d_3 (MaxPooling1 (None, 47, 16)            0         \n",
      "_________________________________________________________________\n",
      "dropout_3 (Dropout)          (None, 47, 16)            0         \n",
      "_________________________________________________________________\n",
      "batch_normalization_3 (Batch (None, 47, 16)            64        \n",
      "_________________________________________________________________\n",
      "conv1d_7 (Conv1D)            (None, 42, 32)            3104      \n",
      "_________________________________________________________________\n",
      "conv1d_8 (Conv1D)            (None, 37, 32)            6176      \n",
      "_________________________________________________________________\n",
      "max_pooling1d_4 (MaxPooling1 (None, 9, 32)             0         \n",
      "_________________________________________________________________\n",
      "dropout_4 (Dropout)          (None, 9, 32)             0         \n",
      "_________________________________________________________________\n",
      "batch_normalization_4 (Batch (None, 9, 32)             128       \n",
      "_________________________________________________________________\n",
      "flatten_1 (Flatten)          (None, 288)               0         \n",
      "_________________________________________________________________\n",
      "dense_1 (Dense)              (None, 32)                9248      \n",
      "_________________________________________________________________\n",
      "dropout_5 (Dropout)          (None, 32)                0         \n",
      "_________________________________________________________________\n",
      "dense_2 (Dense)              (None, 1)                 33        \n",
      "=================================================================\n",
      "Total params: 21,857.0\n",
      "Trainable params: 21,737.0\n",
      "Non-trainable params: 120.0\n",
      "_________________________________________________________________\n"
     ]
    }
   ],
   "source": [
    "# Create model\n",
    "model = Sequential()\n",
    "\n",
    "# Parameters\n",
    "dropout_rate=0.2\n",
    "filters=4\n",
    "activation='relu'\n",
    "init_mode='uniform'\n",
    "\n",
    "# Defining network architecture\n",
    "\n",
    "model.add(Conv1D(filters=filters, kernel_size=6, kernel_initializer=init_mode, activation=activation, input_shape=(3197,1)))\n",
    "model.add(Conv1D(filters=filters, kernel_size=6, kernel_initializer=init_mode, activation=activation))\n",
    "model.add(MaxPool1D(strides=4))\n",
    "model.add(Dropout(dropout_rate))\n",
    "model.add(BatchNormalization())\n",
    "model.add(Conv1D(filters=filters*2, kernel_size=6, kernel_initializer=init_mode, activation=activation))\n",
    "model.add(Conv1D(filters=filters*2, kernel_size=6, kernel_initializer=init_mode, activation=activation))\n",
    "model.add(MaxPool1D(strides=4))\n",
    "model.add(Dropout(dropout_rate))\n",
    "model.add(BatchNormalization())\n",
    "model.add(Conv1D(filters=filters*4, kernel_size=6, kernel_initializer=init_mode, activation=activation))\n",
    "model.add(Conv1D(filters=filters*4, kernel_size=6, kernel_initializer=init_mode, activation=activation))\n",
    "model.add(MaxPool1D(strides=4))\n",
    "model.add(Dropout(dropout_rate))\n",
    "model.add(BatchNormalization())\n",
    "model.add(Conv1D(filters=filters*8, kernel_size=6, kernel_initializer=init_mode, activation=activation))\n",
    "model.add(Conv1D(filters=filters*8, kernel_size=6, kernel_initializer=init_mode, activation=activation))\n",
    "model.add(MaxPool1D(strides=4))\n",
    "model.add(Dropout(dropout_rate))\n",
    "model.add(BatchNormalization())\n",
    "model.add(Flatten())\n",
    "model.add(Dense(filters*8, activation=activation, kernel_initializer=init_mode))\n",
    "model.add(Dropout(dropout_rate))\n",
    "model.add(Dense(1, kernel_initializer=init_mode, activation='sigmoid'))\n",
    "\n",
    "# summarize the model\n",
    "model.summary()"
   ]
  },
  {
   "cell_type": "code",
   "execution_count": 44,
   "metadata": {},
   "outputs": [
    {
     "name": "stdout",
     "output_type": "stream",
     "text": [
      "Train on 4099 samples, validate on 1018 samples\n",
      "Epoch 1/30\n",
      "Epoch 00000: val_loss improved from inf to 0.69271, saving model to model-f4-ks6-8cnn-YD-2dnn-YD_fliplr_mse_adam_relu_30epochs.weights.best.hdf5\n",
      "8s - loss: 0.6927 - mean_squared_error: 0.2498 - val_loss: 0.6927 - val_mean_squared_error: 0.2498\n",
      "Epoch 2/30\n",
      "Epoch 00001: val_loss improved from 0.69271 to 0.69226, saving model to model-f4-ks6-8cnn-YD-2dnn-YD_fliplr_mse_adam_relu_30epochs.weights.best.hdf5\n",
      "8s - loss: 0.6912 - mean_squared_error: 0.2490 - val_loss: 0.6923 - val_mean_squared_error: 0.2496\n",
      "Epoch 3/30\n",
      "Epoch 00002: val_loss improved from 0.69226 to 0.69178, saving model to model-f4-ks6-8cnn-YD-2dnn-YD_fliplr_mse_adam_relu_30epochs.weights.best.hdf5\n",
      "8s - loss: 0.6883 - mean_squared_error: 0.2476 - val_loss: 0.6918 - val_mean_squared_error: 0.2493\n",
      "Epoch 4/30\n",
      "Epoch 00003: val_loss improved from 0.69178 to 0.69128, saving model to model-f4-ks6-8cnn-YD-2dnn-YD_fliplr_mse_adam_relu_30epochs.weights.best.hdf5\n",
      "8s - loss: 0.6820 - mean_squared_error: 0.2444 - val_loss: 0.6913 - val_mean_squared_error: 0.2491\n",
      "Epoch 5/30\n",
      "Epoch 00004: val_loss improved from 0.69128 to 0.69069, saving model to model-f4-ks6-8cnn-YD-2dnn-YD_fliplr_mse_adam_relu_30epochs.weights.best.hdf5\n",
      "8s - loss: 0.6674 - mean_squared_error: 0.2371 - val_loss: 0.6907 - val_mean_squared_error: 0.2488\n",
      "Epoch 6/30\n",
      "Epoch 00005: val_loss improved from 0.69069 to 0.68975, saving model to model-f4-ks6-8cnn-YD-2dnn-YD_fliplr_mse_adam_relu_30epochs.weights.best.hdf5\n",
      "8s - loss: 0.6358 - mean_squared_error: 0.2214 - val_loss: 0.6898 - val_mean_squared_error: 0.2483\n",
      "Epoch 7/30\n",
      "Epoch 00006: val_loss improved from 0.68975 to 0.68739, saving model to model-f4-ks6-8cnn-YD-2dnn-YD_fliplr_mse_adam_relu_30epochs.weights.best.hdf5\n",
      "8s - loss: 0.5828 - mean_squared_error: 0.1952 - val_loss: 0.6874 - val_mean_squared_error: 0.2471\n",
      "Epoch 8/30\n",
      "Epoch 00007: val_loss improved from 0.68739 to 0.68216, saving model to model-f4-ks6-8cnn-YD-2dnn-YD_fliplr_mse_adam_relu_30epochs.weights.best.hdf5\n",
      "8s - loss: 0.5186 - mean_squared_error: 0.1642 - val_loss: 0.6822 - val_mean_squared_error: 0.2445\n",
      "Epoch 9/30\n",
      "Epoch 00008: val_loss improved from 0.68216 to 0.67021, saving model to model-f4-ks6-8cnn-YD-2dnn-YD_fliplr_mse_adam_relu_30epochs.weights.best.hdf5\n",
      "8s - loss: 0.4587 - mean_squared_error: 0.1362 - val_loss: 0.6702 - val_mean_squared_error: 0.2385\n",
      "Epoch 10/30\n",
      "Epoch 00009: val_loss improved from 0.67021 to 0.63890, saving model to model-f4-ks6-8cnn-YD-2dnn-YD_fliplr_mse_adam_relu_30epochs.weights.best.hdf5\n",
      "8s - loss: 0.4060 - mean_squared_error: 0.1129 - val_loss: 0.6389 - val_mean_squared_error: 0.2229\n",
      "Epoch 11/30\n",
      "Epoch 00010: val_loss improved from 0.63890 to 0.57822, saving model to model-f4-ks6-8cnn-YD-2dnn-YD_fliplr_mse_adam_relu_30epochs.weights.best.hdf5\n",
      "8s - loss: 0.3636 - mean_squared_error: 0.0951 - val_loss: 0.5782 - val_mean_squared_error: 0.1929\n",
      "Epoch 12/30\n",
      "Epoch 00011: val_loss improved from 0.57822 to 0.49591, saving model to model-f4-ks6-8cnn-YD-2dnn-YD_fliplr_mse_adam_relu_30epochs.weights.best.hdf5\n",
      "8s - loss: 0.3275 - mean_squared_error: 0.0809 - val_loss: 0.4959 - val_mean_squared_error: 0.1531\n",
      "Epoch 13/30\n",
      "Epoch 00012: val_loss improved from 0.49591 to 0.40986, saving model to model-f4-ks6-8cnn-YD-2dnn-YD_fliplr_mse_adam_relu_30epochs.weights.best.hdf5\n",
      "8s - loss: 0.2967 - mean_squared_error: 0.0696 - val_loss: 0.4099 - val_mean_squared_error: 0.1139\n",
      "Epoch 14/30\n",
      "Epoch 00013: val_loss improved from 0.40986 to 0.33499, saving model to model-f4-ks6-8cnn-YD-2dnn-YD_fliplr_mse_adam_relu_30epochs.weights.best.hdf5\n",
      "8s - loss: 0.2720 - mean_squared_error: 0.0610 - val_loss: 0.3350 - val_mean_squared_error: 0.0829\n",
      "Epoch 15/30\n",
      "Epoch 00014: val_loss improved from 0.33499 to 0.28099, saving model to model-f4-ks6-8cnn-YD-2dnn-YD_fliplr_mse_adam_relu_30epochs.weights.best.hdf5\n",
      "8s - loss: 0.2503 - mean_squared_error: 0.0540 - val_loss: 0.2810 - val_mean_squared_error: 0.0630\n",
      "Epoch 16/30\n",
      "Epoch 00015: val_loss improved from 0.28099 to 0.23887, saving model to model-f4-ks6-8cnn-YD-2dnn-YD_fliplr_mse_adam_relu_30epochs.weights.best.hdf5\n",
      "8s - loss: 0.2291 - mean_squared_error: 0.0475 - val_loss: 0.2389 - val_mean_squared_error: 0.0494\n",
      "Epoch 17/30\n",
      "Epoch 00016: val_loss improved from 0.23887 to 0.20932, saving model to model-f4-ks6-8cnn-YD-2dnn-YD_fliplr_mse_adam_relu_30epochs.weights.best.hdf5\n",
      "8s - loss: 0.2115 - mean_squared_error: 0.0424 - val_loss: 0.2093 - val_mean_squared_error: 0.0409\n",
      "Epoch 18/30\n",
      "Epoch 00017: val_loss improved from 0.20932 to 0.18512, saving model to model-f4-ks6-8cnn-YD-2dnn-YD_fliplr_mse_adam_relu_30epochs.weights.best.hdf5\n",
      "8s - loss: 0.1977 - mean_squared_error: 0.0387 - val_loss: 0.1851 - val_mean_squared_error: 0.0348\n",
      "Epoch 19/30\n",
      "Epoch 00018: val_loss improved from 0.18512 to 0.16762, saving model to model-f4-ks6-8cnn-YD-2dnn-YD_fliplr_mse_adam_relu_30epochs.weights.best.hdf5\n",
      "8s - loss: 0.1857 - mean_squared_error: 0.0359 - val_loss: 0.1676 - val_mean_squared_error: 0.0307\n",
      "Epoch 20/30\n",
      "Epoch 00019: val_loss improved from 0.16762 to 0.15680, saving model to model-f4-ks6-8cnn-YD-2dnn-YD_fliplr_mse_adam_relu_30epochs.weights.best.hdf5\n",
      "8s - loss: 0.1729 - mean_squared_error: 0.0328 - val_loss: 0.1568 - val_mean_squared_error: 0.0285\n",
      "Epoch 21/30\n",
      "Epoch 00020: val_loss improved from 0.15680 to 0.14542, saving model to model-f4-ks6-8cnn-YD-2dnn-YD_fliplr_mse_adam_relu_30epochs.weights.best.hdf5\n",
      "8s - loss: 0.1633 - mean_squared_error: 0.0306 - val_loss: 0.1454 - val_mean_squared_error: 0.0262\n",
      "Epoch 22/30\n",
      "Epoch 00021: val_loss improved from 0.14542 to 0.13562, saving model to model-f4-ks6-8cnn-YD-2dnn-YD_fliplr_mse_adam_relu_30epochs.weights.best.hdf5\n",
      "8s - loss: 0.1521 - mean_squared_error: 0.0283 - val_loss: 0.1356 - val_mean_squared_error: 0.0244\n",
      "Epoch 23/30\n",
      "Epoch 00022: val_loss improved from 0.13562 to 0.13125, saving model to model-f4-ks6-8cnn-YD-2dnn-YD_fliplr_mse_adam_relu_30epochs.weights.best.hdf5\n",
      "8s - loss: 0.1444 - mean_squared_error: 0.0269 - val_loss: 0.1313 - val_mean_squared_error: 0.0237\n",
      "Epoch 24/30\n",
      "Epoch 00023: val_loss improved from 0.13125 to 0.12594, saving model to model-f4-ks6-8cnn-YD-2dnn-YD_fliplr_mse_adam_relu_30epochs.weights.best.hdf5\n",
      "8s - loss: 0.1377 - mean_squared_error: 0.0255 - val_loss: 0.1259 - val_mean_squared_error: 0.0228\n",
      "Epoch 25/30\n",
      "Epoch 00024: val_loss improved from 0.12594 to 0.11831, saving model to model-f4-ks6-8cnn-YD-2dnn-YD_fliplr_mse_adam_relu_30epochs.weights.best.hdf5\n",
      "8s - loss: 0.1320 - mean_squared_error: 0.0247 - val_loss: 0.1183 - val_mean_squared_error: 0.0215\n",
      "Epoch 26/30\n",
      "Epoch 00025: val_loss improved from 0.11831 to 0.11223, saving model to model-f4-ks6-8cnn-YD-2dnn-YD_fliplr_mse_adam_relu_30epochs.weights.best.hdf5\n",
      "8s - loss: 0.1243 - mean_squared_error: 0.0231 - val_loss: 0.1122 - val_mean_squared_error: 0.0206\n",
      "Epoch 27/30\n",
      "Epoch 00026: val_loss improved from 0.11223 to 0.10706, saving model to model-f4-ks6-8cnn-YD-2dnn-YD_fliplr_mse_adam_relu_30epochs.weights.best.hdf5\n",
      "8s - loss: 0.1200 - mean_squared_error: 0.0226 - val_loss: 0.1071 - val_mean_squared_error: 0.0198\n",
      "Epoch 28/30\n",
      "Epoch 00027: val_loss improved from 0.10706 to 0.10377, saving model to model-f4-ks6-8cnn-YD-2dnn-YD_fliplr_mse_adam_relu_30epochs.weights.best.hdf5\n",
      "8s - loss: 0.1149 - mean_squared_error: 0.0217 - val_loss: 0.1038 - val_mean_squared_error: 0.0194\n",
      "Epoch 29/30\n",
      "Epoch 00028: val_loss improved from 0.10377 to 0.10305, saving model to model-f4-ks6-8cnn-YD-2dnn-YD_fliplr_mse_adam_relu_30epochs.weights.best.hdf5\n",
      "8s - loss: 0.1117 - mean_squared_error: 0.0212 - val_loss: 0.1031 - val_mean_squared_error: 0.0193\n",
      "Epoch 30/30\n",
      "Epoch 00029: val_loss improved from 0.10305 to 0.09682, saving model to model-f4-ks6-8cnn-YD-2dnn-YD_fliplr_mse_adam_relu_30epochs.weights.best.hdf5\n",
      "8s - loss: 0.1072 - mean_squared_error: 0.0206 - val_loss: 0.0968 - val_mean_squared_error: 0.0184\n"
     ]
    }
   ],
   "source": [
    "\n",
    "model.compile(optimizer=Adam(lr=1e-5), loss=\"binary_crossentropy\", metrics=[\"mse\"])\n",
    "\n",
    "# train the model\n",
    "checkpointer = ModelCheckpoint(filepath='model-f4-ks6-8cnn-YD-2dnn-YD_fliplr_mse_adam_relu_30epochs.weights.best.hdf5', verbose=1, save_best_only=True)\n",
    "\n",
    "history = model.fit(X_t, y_t, batch_size=80, epochs=30, validation_data=(X_val, y_val), callbacks=[checkpointer], \n",
    "          verbose=2, shuffle=False)"
   ]
  },
  {
   "cell_type": "code",
   "execution_count": null,
   "metadata": {},
   "outputs": [],
   "source": []
  },
  {
   "cell_type": "code",
   "execution_count": 45,
   "metadata": {},
   "outputs": [
    {
     "name": "stdout",
     "output_type": "stream",
     "text": [
      "dict_keys(['val_mean_squared_error', 'val_loss', 'loss', 'mean_squared_error'])\n"
     ]
    }
   ],
   "source": [
    "print(history.history.keys())"
   ]
  },
  {
   "cell_type": "code",
   "execution_count": 46,
   "metadata": {},
   "outputs": [
    {
     "data": {
      "image/png": "[encoded data removed]",
      "text/plain": [
       "<matplotlib.figure.Figure at 0x7efe6071ba90>"
      ]
     },
     "metadata": {},
     "output_type": "display_data"
    },
    {
     "data": {
      "image/png": "[encoded data removed]",
      "text/plain": [
       "<matplotlib.figure.Figure at 0x7efe606f32b0>"
      ]
     },
     "metadata": {},
     "output_type": "display_data"
    }
   ],
   "source": [
    "# summarize history for mean squared error\n",
    "plt.plot(history.history['mean_squared_error'])\n",
    "plt.plot(history.history['val_mean_squared_error'])\n",
    "plt.title('model mse')\n",
    "plt.ylabel('mse')\n",
    "plt.xlabel('epoch')\n",
    "plt.legend(['train', 'test'], loc='upper left')\n",
    "plt.show()\n",
    "\n",
    "# summarize history for loss\n",
    "plt.plot(history.history['loss'])\n",
    "plt.plot(history.history['val_loss'])\n",
    "plt.title('model loss')\n",
    "plt.ylabel('loss')\n",
    "plt.xlabel('epoch')\n",
    "plt.legend(['train', 'test'], loc='upper left')\n",
    "plt.show()"
   ]
  },
  {
   "cell_type": "markdown",
   "metadata": {},
   "source": []
  },
  {
   "cell_type": "code",
   "execution_count": 47,
   "metadata": {},
   "outputs": [],
   "source": [
    "# load the weights that yielded the best validation accuracy\n",
    "model.load_weights(filepath='model-f4-ks6-8cnn-YD-2dnn-YD_fliplr_mse_adam_relu_30epochs.weights.best.hdf5')\n",
    "\n",
    "y_prob = model.predict(X_test)"
   ]
  },
  {
   "cell_type": "code",
   "execution_count": 48,
   "metadata": {},
   "outputs": [
    {
     "data": {
      "image/png": "[encoded data removed]",
      "text/plain": [
       "<matplotlib.figure.Figure at 0x7efe6442b8d0>"
      ]
     },
     "metadata": {},
     "output_type": "display_data"
    },
    {
     "name": "stdout",
     "output_type": "stream",
     "text": [
      "Score: 0.771\n"
     ]
    }
   ],
   "source": [
    "plot_roc_auc(y_test, y_prob)"
   ]
  },
  {
   "cell_type": "code",
   "execution_count": 49,
   "metadata": {},
   "outputs": [
    {
     "data": {
      "text/plain": [
       "0.77132743362831857"
      ]
     },
     "execution_count": 49,
     "metadata": {},
     "output_type": "execute_result"
    }
   ],
   "source": [
    "roc_auc_score(y_test, y_prob)"
   ]
  },
  {
   "cell_type": "code",
   "execution_count": 50,
   "metadata": {},
   "outputs": [
    {
     "data": {
      "text/plain": [
       "array([[ 0.50039548],\n",
       "       [ 0.52760035],\n",
       "       [ 0.50179529],\n",
       "       [ 0.493184  ],\n",
       "       [ 0.5019092 ],\n",
       "       [ 0.49855995],\n",
       "       [ 0.49349794],\n",
       "       [ 0.49826652],\n",
       "       [ 0.49482694],\n",
       "       [ 0.50256306]], dtype=float32)"
      ]
     },
     "execution_count": 50,
     "metadata": {},
     "output_type": "execute_result"
    }
   ],
   "source": [
    "y_prob[0:10]"
   ]
  },
  {
   "cell_type": "code",
   "execution_count": 51,
   "metadata": {},
   "outputs": [
    {
     "name": "stdout",
     "output_type": "stream",
     "text": [
      "Confusion matrix:\n",
      " [[486  79]\n",
      " [  1   4]] \n",
      "\n",
      "             precision    recall  f1-score   support\n",
      "\n",
      "    class 0       1.00      0.86      0.92       565\n",
      "    class 1       0.05      0.80      0.09         5\n",
      "\n",
      "avg / total       0.99      0.86      0.92       570\n",
      "\n"
     ]
    }
   ],
   "source": [
    "confusion_matrix_com(y_test, y_prob, thresh=0.5)"
   ]
  },
  {
   "cell_type": "code",
   "execution_count": 55,
   "metadata": {},
   "outputs": [
    {
     "name": "stdout",
     "output_type": "stream",
     "text": [
      "Confusion matrix:\n",
      " [[562   3]\n",
      " [  4   1]] \n",
      "\n",
      "             precision    recall  f1-score   support\n",
      "\n",
      "    class 0       0.99      0.99      0.99       565\n",
      "    class 1       0.25      0.20      0.22         5\n",
      "\n",
      "avg / total       0.99      0.99      0.99       570\n",
      "\n"
     ]
    }
   ],
   "source": [
    "confusion_matrix_com(y_test, y_prob, thresh=0.52)"
   ]
  },
  {
   "cell_type": "code",
   "execution_count": 56,
   "metadata": {},
   "outputs": [
    {
     "name": "stdout",
     "output_type": "stream",
     "text": [
      "Confusion matrix:\n",
      " [[ 75 490]\n",
      " [  0   5]] \n",
      "\n",
      "             precision    recall  f1-score   support\n",
      "\n",
      "    class 0       1.00      0.13      0.23       565\n",
      "    class 1       0.01      1.00      0.02         5\n",
      "\n",
      "avg / total       0.99      0.14      0.23       570\n",
      "\n"
     ]
    }
   ],
   "source": [
    "confusion_matrix_com(y_test, y_prob, thresh=0.493)"
   ]
  },
  {
   "cell_type": "code",
   "execution_count": null,
   "metadata": {},
   "outputs": [],
   "source": []
  }
 ],
 "metadata": {
  "kernelspec": {
   "display_name": "Python 3",
   "language": "python",
   "name": "python3"
  },
  "language_info": {
   "codemirror_mode": {
    "name": "ipython",
    "version": 3
   },
   "file_extension": ".py",
   "mimetype": "text/x-python",
   "name": "python",
   "nbconvert_exporter": "python",
   "pygments_lexer": "ipython3",
   "version": "3.5.2"
  }
 },
 "nbformat": 4,
 "nbformat_minor": 2
}
