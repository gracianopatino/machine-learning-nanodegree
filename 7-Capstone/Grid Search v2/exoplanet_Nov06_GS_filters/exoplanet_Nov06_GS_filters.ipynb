{
 "cells": [
  {
   "cell_type": "markdown",
   "metadata": {},
   "source": [
    "# Machine Learning Engineer Nanodegree\n",
    "\n",
    "## Capstone project: Exoplanet search (from Kaggle)\n",
    "\n",
    "Student Name: Graciano Patino\n",
    "\n",
    "Kaggle reference: https://www.kaggle.com/keplersmachines/kepler-labelled-time-series-data?/\n",
    "\n",
    "The mission as stated in the Github (https://github.com/winterdelta/KeplerAI) is to build a classification algorithm for identifying if a particular time series input includes an exoplanet or not. It also mentions that a number of methods were tested: 1-D CNN in Torch7, XGBoost in R and PCA in Python. However, none of these methods provided strong results according to the kaggle and Github references. \n",
    "\n",
    "For this project, I would evaluate deep learning algorithms. Per paper in the paragraph (below), these algorithms appear to provide better results compared to the ones already tried as mentioned above.\n",
    "\n",
    "    1)\tInitially I would evaluate 1-D CNN using Keras instead of Torch7. \n",
    "    2)\tBased on reference paper, I would try adding different number of layers and filters in combination with other CNN parameters. Details would be included in project report.\n",
    "    3)\tThe output of the CNNs would be the input to one or more dense layers.\n",
    "    4)\tPerformance of each model to be measured as per evaluation metrics section.\n",
    "    5)\tPer kaggle source the test set is confirmed to have 5 exoplanets. This will also be useful on checking performance of algorithms. If an algorithm is unable to identify exoplanets on then testing set, then model might not be good. \n",
    "\n",
    "Please that the list above of models considered is not meant to be exhaustive for all possible scenarios in deep learning algorithms. It might be the case that other deep learning algorithms might be considered later should the ones proposed (above) fail in identifying any exoplanet as expected.\n",
    "\n",
    "Reference paper: IDENTIFYING EXOPLANETS WITH DEEP LEARNING: A FIVE PLANET RESONANT CHAIN AROUND KEPLER-80 AND AN EIGHTH PLANET AROUND KEPLER-90 \n",
    "(https://www.cfa.harvard.edu/~avanderb/kepler90i.pdf)\n"
   ]
  },
  {
   "cell_type": "markdown",
   "metadata": {},
   "source": [
    "#### Note\n",
    "\n",
    "In this Jupyter Notebook: Applying Grid Search to identify parameters for network."
   ]
  },
  {
   "cell_type": "code",
   "execution_count": 1,
   "metadata": {},
   "outputs": [],
   "source": [
    "# Import libraries necessary for this project\n",
    "import numpy as np\n",
    "import pandas as pd\n",
    "import matplotlib.pyplot as plt\n",
    "import math\n",
    "import itertools\n",
    "from IPython.display import display # Allows the use of display() for DataFrames\n",
    "from get_results import plot_roc_auc, confusion_matrix_com\n",
    "\n",
    "# Pretty display for notebooks\n",
    "%matplotlib inline\n",
    "\n",
    "# Some Sklearn libraries are required\n",
    "from sklearn.metrics import roc_auc_score\n",
    "from sklearn.metrics import precision_recall_curve\n",
    "from sklearn.utils.fixes import signature\n",
    "from sklearn.metrics import average_precision_score"
   ]
  },
  {
   "cell_type": "code",
   "execution_count": 2,
   "metadata": {},
   "outputs": [],
   "source": [
    "# Load the training data from Exoplanet dataset\n",
    "train_data = pd.read_csv('kepler/exoTrain.csv')"
   ]
  },
  {
   "cell_type": "code",
   "execution_count": 3,
   "metadata": {},
   "outputs": [
    {
     "data": {
      "text/plain": [
       "(5087, 3198)"
      ]
     },
     "execution_count": 3,
     "metadata": {},
     "output_type": "execute_result"
    }
   ],
   "source": [
    "# Find dimensions of the train data\n",
    "train_data.shape"
   ]
  },
  {
   "cell_type": "code",
   "execution_count": 4,
   "metadata": {},
   "outputs": [
    {
     "data": {
      "text/plain": [
       "0"
      ]
     },
     "execution_count": 4,
     "metadata": {},
     "output_type": "execute_result"
    }
   ],
   "source": [
    "# Testing  if train_data has any null fields\n",
    "testing = pd.isnull(train_data)\n",
    "testing *= 1\n",
    "testing2 = testing.sum()\n",
    "testing2.sum() # If results is zero, then there a no fields with \"null\" value"
   ]
  },
  {
   "cell_type": "code",
   "execution_count": 5,
   "metadata": {},
   "outputs": [],
   "source": [
    "# Getting X_train and y_train\n",
    "# Using iloc to select data using position instead of label and converting to numpy array using values\n",
    "X_train = train_data.iloc[:,1:].values \n",
    "y_train = train_data.iloc[:,0:1].values "
   ]
  },
  {
   "cell_type": "code",
   "execution_count": 6,
   "metadata": {},
   "outputs": [
    {
     "data": {
      "text/plain": [
       "(5087, 3197)"
      ]
     },
     "execution_count": 6,
     "metadata": {},
     "output_type": "execute_result"
    }
   ],
   "source": [
    "# Find dimensions of the X_train data\n",
    "X_train.shape"
   ]
  },
  {
   "cell_type": "code",
   "execution_count": 7,
   "metadata": {},
   "outputs": [
    {
     "data": {
      "text/plain": [
       "(5087, 1)"
      ]
     },
     "execution_count": 7,
     "metadata": {},
     "output_type": "execute_result"
    }
   ],
   "source": [
    "# Find dimensions of the labels (y_train) data\n",
    "y_train.shape"
   ]
  },
  {
   "cell_type": "code",
   "execution_count": 8,
   "metadata": {},
   "outputs": [
    {
     "data": {
      "text/plain": [
       "array([[2],\n",
       "       [2],\n",
       "       [2],\n",
       "       [2],\n",
       "       [2]])"
      ]
     },
     "execution_count": 8,
     "metadata": {},
     "output_type": "execute_result"
    }
   ],
   "source": [
    "# y_train: Label is 2 for exoplanet and 1 for non-exoplanet\n",
    "y_train[:5]"
   ]
  },
  {
   "cell_type": "code",
   "execution_count": 9,
   "metadata": {},
   "outputs": [],
   "source": [
    "y_train -= 1 # Changing labels to: 1 for exoplanet and 0 for non-exoplanet"
   ]
  },
  {
   "cell_type": "code",
   "execution_count": 10,
   "metadata": {},
   "outputs": [
    {
     "data": {
      "text/plain": [
       "array([[1],\n",
       "       [1],\n",
       "       [1],\n",
       "       [1],\n",
       "       [1]])"
      ]
     },
     "execution_count": 10,
     "metadata": {},
     "output_type": "execute_result"
    }
   ],
   "source": [
    "y_train[:5]"
   ]
  },
  {
   "cell_type": "code",
   "execution_count": 11,
   "metadata": {
    "scrolled": true
   },
   "outputs": [],
   "source": [
    "# Load the testing data from Exoplanet dataset\n",
    "test_data = pd.read_csv('kepler/exoTest.csv')"
   ]
  },
  {
   "cell_type": "code",
   "execution_count": 12,
   "metadata": {},
   "outputs": [
    {
     "data": {
      "text/plain": [
       "(570, 3198)"
      ]
     },
     "execution_count": 12,
     "metadata": {},
     "output_type": "execute_result"
    }
   ],
   "source": [
    "# Find dimensions of the test data\n",
    "test_data.shape"
   ]
  },
  {
   "cell_type": "code",
   "execution_count": 13,
   "metadata": {},
   "outputs": [
    {
     "data": {
      "text/plain": [
       "0"
      ]
     },
     "execution_count": 13,
     "metadata": {},
     "output_type": "execute_result"
    }
   ],
   "source": [
    "# Testing  if test_data has any \"null\" fields\n",
    "testing = pd.isnull(test_data)\n",
    "testing *= 1\n",
    "testing2 = testing.sum()\n",
    "testing2.sum() # If results is zero, then there a no fields with \"null\" value"
   ]
  },
  {
   "cell_type": "code",
   "execution_count": 14,
   "metadata": {},
   "outputs": [],
   "source": [
    "# Getting X_test and y_test\n",
    "# Using iloc to select data using position instead of label and converting to numpy array (using values)\n",
    "X_test = test_data.iloc[:,1:].values\n",
    "y_test = test_data.iloc[:,0:1].values"
   ]
  },
  {
   "cell_type": "code",
   "execution_count": 15,
   "metadata": {},
   "outputs": [
    {
     "data": {
      "text/plain": [
       "(570, 3197)"
      ]
     },
     "execution_count": 15,
     "metadata": {},
     "output_type": "execute_result"
    }
   ],
   "source": [
    "# Find dimensions of the X_test data\n",
    "X_test.shape"
   ]
  },
  {
   "cell_type": "code",
   "execution_count": 16,
   "metadata": {},
   "outputs": [
    {
     "data": {
      "text/plain": [
       "(570, 1)"
      ]
     },
     "execution_count": 16,
     "metadata": {},
     "output_type": "execute_result"
    }
   ],
   "source": [
    "# Find dimensions of the labels (y_test) data\n",
    "y_test.shape"
   ]
  },
  {
   "cell_type": "code",
   "execution_count": 17,
   "metadata": {},
   "outputs": [
    {
     "data": {
      "text/plain": [
       "array([[2],\n",
       "       [2],\n",
       "       [2],\n",
       "       [2],\n",
       "       [2],\n",
       "       [1]])"
      ]
     },
     "execution_count": 17,
     "metadata": {},
     "output_type": "execute_result"
    }
   ],
   "source": [
    "# y_test: Label is 2 for exoplanet and 1 for non-exoplanet\n",
    "y_test[:6]"
   ]
  },
  {
   "cell_type": "code",
   "execution_count": 18,
   "metadata": {},
   "outputs": [],
   "source": [
    "y_test -= 1 # Changing labels to: 1 for exoplanet and 0 for non-exoplanet"
   ]
  },
  {
   "cell_type": "code",
   "execution_count": 19,
   "metadata": {},
   "outputs": [
    {
     "data": {
      "text/plain": [
       "array([[1],\n",
       "       [1],\n",
       "       [1],\n",
       "       [1],\n",
       "       [1],\n",
       "       [0]])"
      ]
     },
     "execution_count": 19,
     "metadata": {},
     "output_type": "execute_result"
    }
   ],
   "source": [
    "y_test[:6]"
   ]
  },
  {
   "cell_type": "code",
   "execution_count": 20,
   "metadata": {},
   "outputs": [],
   "source": [
    "# Normalizing the data since it is not normalized according to Kaggle/Github\n",
    "from sklearn.preprocessing import StandardScaler"
   ]
  },
  {
   "cell_type": "code",
   "execution_count": 21,
   "metadata": {},
   "outputs": [
    {
     "data": {
      "text/plain": [
       "array([[  93.85,   83.81,   20.1 , ...,   61.42,    5.08,  -39.54],\n",
       "       [ -38.88,  -33.83,  -58.54, ...,    6.46,   16.  ,   19.93],\n",
       "       [ 532.64,  535.92,  513.73, ...,  -28.91,  -70.02,  -96.67],\n",
       "       ..., \n",
       "       [ 273.39,  278.  ,  261.73, ...,   88.42,   79.07,   79.43],\n",
       "       [   3.82,    2.09,   -3.29, ...,  -14.55,   -6.41,   -2.55],\n",
       "       [ 323.28,  306.36,  293.16, ...,  -16.72,  -14.09,   27.82]])"
      ]
     },
     "execution_count": 21,
     "metadata": {},
     "output_type": "execute_result"
    }
   ],
   "source": [
    "# Checking X_train data\n",
    "X_train"
   ]
  },
  {
   "cell_type": "code",
   "execution_count": 22,
   "metadata": {},
   "outputs": [
    {
     "data": {
      "text/plain": [
       "array([[  93.85,  -38.88,  532.64, ...,  273.39,    3.82,  323.28],\n",
       "       [  83.81,  -33.83,  535.92, ...,  278.  ,    2.09,  306.36],\n",
       "       [  20.1 ,  -58.54,  513.73, ...,  261.73,   -3.29,  293.16],\n",
       "       ..., \n",
       "       [  61.42,    6.46,  -28.91, ...,   88.42,  -14.55,  -16.72],\n",
       "       [   5.08,   16.  ,  -70.02, ...,   79.07,   -6.41,  -14.09],\n",
       "       [ -39.54,   19.93,  -96.67, ...,   79.43,   -2.55,   27.82]])"
      ]
     },
     "execution_count": 22,
     "metadata": {},
     "output_type": "execute_result"
    }
   ],
   "source": [
    "# Tranposing X_train before applying scaling such that mean is zero and variance is one\n",
    "X_train.transpose()"
   ]
  },
  {
   "cell_type": "code",
   "execution_count": 23,
   "metadata": {},
   "outputs": [
    {
     "data": {
      "text/plain": [
       "array([[  1.19880000e+02,   1.00210000e+02,   8.64600000e+01, ...,\n",
       "          3.57800000e+01,   2.69430000e+02,   5.77200000e+01],\n",
       "       [  5.73659000e+03,   5.69998000e+03,   5.71716000e+03, ...,\n",
       "         -2.36619000e+03,  -2.29486000e+03,  -2.03472000e+03],\n",
       "       [  8.44480000e+02,   8.17490000e+02,   7.70070000e+02, ...,\n",
       "         -1.62680000e+02,  -3.67900000e+01,   3.06300000e+01],\n",
       "       ..., \n",
       "       [ -5.40100000e+01,  -4.41300000e+01,  -4.12300000e+01, ...,\n",
       "          5.47000000e+00,   1.44600000e+01,   1.87000000e+01],\n",
       "       [  9.13600000e+01,   8.56000000e+01,   4.88100000e+01, ...,\n",
       "         -8.43000000e+00,  -6.48000000e+00,   1.76000000e+01],\n",
       "       [  3.07119000e+03,   2.78253000e+03,   2.60869000e+03, ...,\n",
       "         -2.77220000e+02,  -6.96300000e+01,   1.21560000e+02]])"
      ]
     },
     "execution_count": 23,
     "metadata": {},
     "output_type": "execute_result"
    }
   ],
   "source": [
    "# # Checking X_train data\n",
    "X_test"
   ]
  },
  {
   "cell_type": "code",
   "execution_count": 24,
   "metadata": {},
   "outputs": [
    {
     "data": {
      "text/plain": [
       "array([[  1.19880000e+02,   5.73659000e+03,   8.44480000e+02, ...,\n",
       "         -5.40100000e+01,   9.13600000e+01,   3.07119000e+03],\n",
       "       [  1.00210000e+02,   5.69998000e+03,   8.17490000e+02, ...,\n",
       "         -4.41300000e+01,   8.56000000e+01,   2.78253000e+03],\n",
       "       [  8.64600000e+01,   5.71716000e+03,   7.70070000e+02, ...,\n",
       "         -4.12300000e+01,   4.88100000e+01,   2.60869000e+03],\n",
       "       ..., \n",
       "       [  3.57800000e+01,  -2.36619000e+03,  -1.62680000e+02, ...,\n",
       "          5.47000000e+00,  -8.43000000e+00,  -2.77220000e+02],\n",
       "       [  2.69430000e+02,  -2.29486000e+03,  -3.67900000e+01, ...,\n",
       "          1.44600000e+01,  -6.48000000e+00,  -6.96300000e+01],\n",
       "       [  5.77200000e+01,  -2.03472000e+03,   3.06300000e+01, ...,\n",
       "          1.87000000e+01,   1.76000000e+01,   1.21560000e+02]])"
      ]
     },
     "execution_count": 24,
     "metadata": {},
     "output_type": "execute_result"
    }
   ],
   "source": [
    "# Tranposing X_test before applying scaling such that mean is zero and variance is one\n",
    "X_test.transpose()"
   ]
  },
  {
   "cell_type": "code",
   "execution_count": 25,
   "metadata": {},
   "outputs": [],
   "source": [
    "# Standardize features by removing the mean and scaling to unit variance (sklearn.preprocessing)\n",
    "scaler = StandardScaler()\n",
    "X_train = scaler.fit_transform(X_train) # Output in a numpy.ndarray\n",
    "X_test = scaler.fit_transform(X_test) # Output in a numpy.ndarray"
   ]
  },
  {
   "cell_type": "code",
   "execution_count": 26,
   "metadata": {},
   "outputs": [
    {
     "data": {
      "text/plain": [
       "array([[-0.00235557, -0.00852774,  0.01804893, ...,  0.00599336,\n",
       "        -0.00654212,  0.00831333],\n",
       "       [-0.00205404, -0.0074516 ,  0.01868969, ...,  0.00685579,\n",
       "        -0.00580352,  0.00815701],\n",
       "       [-0.00579778, -0.00938685,  0.01673115, ...,  0.00523005,\n",
       "        -0.00686528,  0.00666449],\n",
       "       ..., \n",
       "       [ 0.0341983 ,  0.03109682,  0.02910084, ...,  0.03572195,\n",
       "         0.0299112 ,  0.02978874],\n",
       "       [ 0.02736753,  0.02803863,  0.02275218, ...,  0.03191466,\n",
       "         0.0266614 ,  0.02618942],\n",
       "       [ 0.01805157,  0.02216476,  0.01410023, ...,  0.02628002,\n",
       "         0.02060995,  0.02271046]])"
      ]
     },
     "execution_count": 26,
     "metadata": {},
     "output_type": "execute_result"
    }
   ],
   "source": [
    "X_train.transpose() # Transpose back to original dimensions"
   ]
  },
  {
   "cell_type": "code",
   "execution_count": 27,
   "metadata": {},
   "outputs": [
    {
     "data": {
      "text/plain": [
       "array([[-0.03143654,  0.41497541,  0.02615413, ..., -0.04525719,\n",
       "        -0.03370329,  0.20313139],\n",
       "       [-0.05057432,  0.39343385,  0.00629912, ..., -0.0620191 ,\n",
       "        -0.05173276,  0.16210798],\n",
       "       [-0.03559448,  0.41363759,  0.01894572, ..., -0.04578193,\n",
       "        -0.0385983 ,  0.16563567],\n",
       "       ..., \n",
       "       [-0.00907555, -0.2624662 , -0.03001166, ..., -0.01227304,\n",
       "        -0.01373939, -0.04209481],\n",
       "       [ 0.00470934, -0.26591026, -0.02760726, ..., -0.02219864,\n",
       "        -0.02440852, -0.03107299],\n",
       "       [-0.00786554, -0.22375419, -0.01066057, ..., -0.01189145,\n",
       "        -0.01200494, -0.00127881]])"
      ]
     },
     "execution_count": 27,
     "metadata": {},
     "output_type": "execute_result"
    }
   ],
   "source": [
    "X_test.transpose() # Transpose back to original dimensions"
   ]
  },
  {
   "cell_type": "code",
   "execution_count": 28,
   "metadata": {},
   "outputs": [],
   "source": [
    "# Fix random seed for reproducibility\n",
    "seed = 10\n",
    "np.random.seed(seed)"
   ]
  },
  {
   "cell_type": "code",
   "execution_count": null,
   "metadata": {},
   "outputs": [],
   "source": []
  },
  {
   "cell_type": "code",
   "execution_count": 29,
   "metadata": {},
   "outputs": [
    {
     "name": "stderr",
     "output_type": "stream",
     "text": [
      "Using TensorFlow backend.\n"
     ]
    }
   ],
   "source": [
    "# Importing Keras libraries\n",
    "\n",
    "from keras.models import Sequential, Model\n",
    "from keras.layers import Conv1D, MaxPool1D, Dense, Dropout, Flatten\n",
    "from keras.layers import BatchNormalization, Input, concatenate, Activation\n",
    "from keras.optimizers import Adam, SGD, RMSprop, Adagrad, Adadelta, Adamax, Nadam\n",
    "from keras.callbacks import ModelCheckpoint "
   ]
  },
  {
   "cell_type": "code",
   "execution_count": 30,
   "metadata": {},
   "outputs": [],
   "source": [
    "#Convert data into 3d tensor (Input 0 in Conv1D is incompatible with layer conv1d_1: expected ndim=3, found ndim=2)\n",
    "X_train = np.reshape(X_train,(X_train.shape[0],X_train.shape[1],1))\n",
    "X_test = np.reshape(X_test,(X_test.shape[0],X_test.shape[1],1))"
   ]
  },
  {
   "cell_type": "code",
   "execution_count": 31,
   "metadata": {},
   "outputs": [
    {
     "data": {
      "text/plain": [
       "(570, 3197, 1)"
      ]
     },
     "execution_count": 31,
     "metadata": {},
     "output_type": "execute_result"
    }
   ],
   "source": [
    "# Checking shape of X_test tensor\n",
    "X_test.shape"
   ]
  },
  {
   "cell_type": "code",
   "execution_count": 32,
   "metadata": {},
   "outputs": [
    {
     "data": {
      "text/plain": [
       "(5087, 3197, 1)"
      ]
     },
     "execution_count": 32,
     "metadata": {},
     "output_type": "execute_result"
    }
   ],
   "source": [
    "# Checking shape of X_train_new tensor\n",
    "X_train.shape"
   ]
  },
  {
   "cell_type": "markdown",
   "metadata": {},
   "source": [
    "#### Data exploration and preparation ended (above)"
   ]
  },
  {
   "cell_type": "markdown",
   "metadata": {},
   "source": [
    "# Ending Data Preparation"
   ]
  },
  {
   "cell_type": "code",
   "execution_count": null,
   "metadata": {},
   "outputs": [],
   "source": []
  },
  {
   "cell_type": "markdown",
   "metadata": {},
   "source": [
    "# GRID SEARCH "
   ]
  },
  {
   "cell_type": "markdown",
   "metadata": {},
   "source": [
    "## Grid Search Implementation"
   ]
  },
  {
   "cell_type": "markdown",
   "metadata": {},
   "source": [
    "Reference on using GridSearch for tuning Hyperparameters for DL models:\n",
    "\n",
    "https://machinelearningmastery.com/grid-search-hyperparameters-deep-learning-models-python-keras/"
   ]
  },
  {
   "cell_type": "code",
   "execution_count": null,
   "metadata": {},
   "outputs": [],
   "source": []
  },
  {
   "cell_type": "markdown",
   "metadata": {},
   "source": [
    "# GRID SEARCH 8cnn, 2dnn"
   ]
  },
  {
   "cell_type": "code",
   "execution_count": 33,
   "metadata": {},
   "outputs": [],
   "source": [
    "# Selecting a subset of the training set\n",
    "X_GS1000 = X_train[0:1000,:]\n",
    "y_GS1000 = y_train[0:1000,:]"
   ]
  },
  {
   "cell_type": "code",
   "execution_count": null,
   "metadata": {},
   "outputs": [],
   "source": []
  },
  {
   "cell_type": "code",
   "execution_count": 34,
   "metadata": {},
   "outputs": [],
   "source": [
    "# Use scikit-learn to grid search the batch size and epochs\n",
    "from sklearn.model_selection import GridSearchCV\n",
    "from keras.wrappers.scikit_learn import KerasClassifier\n",
    "# Function to create model, required for KerasClassifier\n",
    "def create_model(lr=0.001, momentum=0.0, dropout_rate=0.2, filters=8):\n",
    "    # create model\n",
    "    model = Sequential()\n",
    "    # Defining network architecture\n",
    "    model.add(Conv1D(filters=filters, kernel_size=6, activation='relu', input_shape=(3197,1)))\n",
    "    model.add(Conv1D(filters=filters, kernel_size=6, activation='relu'))\n",
    "    model.add(MaxPool1D(strides=4))\n",
    "    model.add(Dropout(dropout_rate))\n",
    "    model.add(BatchNormalization())\n",
    "    model.add(Conv1D(filters=filters*2, kernel_size=6, activation='relu'))\n",
    "    model.add(Conv1D(filters=filters*2, kernel_size=6, activation='relu'))\n",
    "    model.add(MaxPool1D(strides=4))\n",
    "    model.add(Dropout(dropout_rate))\n",
    "    model.add(BatchNormalization())\n",
    "    model.add(Conv1D(filters=filters*4, kernel_size=6, activation='relu'))\n",
    "    model.add(Conv1D(filters=filters*4, kernel_size=6, activation='relu'))\n",
    "    model.add(MaxPool1D(strides=4))\n",
    "    model.add(Dropout(dropout_rate))\n",
    "    model.add(BatchNormalization())\n",
    "    model.add(Conv1D(filters=filters*8, kernel_size=6, activation='relu'))\n",
    "    model.add(Conv1D(filters=filters*8, kernel_size=6, activation='relu'))\n",
    "    model.add(MaxPool1D(strides=4))\n",
    "    model.add(Dropout(dropout_rate))\n",
    "    model.add(BatchNormalization())\n",
    "    model.add(Flatten())\n",
    "    model.add(Dense(filters*8, activation='relu'))\n",
    "    model.add(Dropout(dropout_rate))\n",
    "    model.add(Dense(1, activation='sigmoid'))\n",
    "    # Compile model\n",
    "    optimizer = SGD(lr=lr, momentum=momentum)\n",
    "    model.compile(optimizer=optimizer, loss=\"binary_crossentropy\", metrics=[\"accuracy\"])\n",
    "    return model\n",
    "# Fix random seed for reproducibility (done above on previous cells)\n",
    "# Dataset was created in previous section\n"
   ]
  },
  {
   "cell_type": "code",
   "execution_count": 35,
   "metadata": {},
   "outputs": [
    {
     "name": "stdout",
     "output_type": "stream",
     "text": [
      "Epoch 1/10\n",
      "Epoch 1/10\n",
      "Epoch 1/10\n",
      "Epoch 1/10\n",
      "4s - loss: 0.6794 - acc: 0.7631\n",
      "Epoch 2/10\n",
      "4s - loss: 0.6841 - acc: 0.6807\n",
      "Epoch 2/10\n",
      "4s - loss: 0.6999 - acc: 0.7402\n",
      "Epoch 2/10\n",
      "8s - loss: 0.6824 - acc: 0.6787\n",
      "4s - loss: 0.6491 - acc: 0.8471\n",
      "Epoch 2/10\n",
      "Epoch 3/10\n",
      "4s - loss: 0.6132 - acc: 0.8801\n",
      "Epoch 3/10\n",
      "4s - loss: 0.6216 - acc: 0.8634\n",
      "Epoch 3/10\n",
      "4s - loss: 0.5221 - acc: 0.9205\n",
      "Epoch 4/10\n",
      "4s - loss: 0.6280 - acc: 0.9100\n",
      "Epoch 4/10\n",
      "4s - loss: 0.5719 - acc: 0.9444\n",
      "Epoch 4/10\n",
      "8s - loss: 0.6607 - acc: 0.9805\n",
      "Epoch 3/10\n",
      "4s - loss: 0.4700 - acc: 0.9220\n",
      "Epoch 5/10\n",
      "4s - loss: 0.5753 - acc: 0.9175\n",
      "Epoch 5/10\n",
      "4s - loss: 0.4913 - acc: 0.9730\n",
      "Epoch 5/10\n",
      "4s - loss: 0.4301 - acc: 0.9190\n",
      "Epoch 6/10\n",
      "4s - loss: 0.5175 - acc: 0.9205\n",
      "Epoch 6/10\n",
      "4s - loss: 0.4702 - acc: 0.9745\n",
      "Epoch 6/10\n",
      "8s - loss: 0.6380 - acc: 0.9865\n",
      "Epoch 4/10\n",
      "4s - loss: 0.3566 - acc: 0.9250\n",
      "Epoch 7/10\n",
      "4s - loss: 0.4841 - acc: 0.9235\n",
      "Epoch 7/10\n",
      "4s - loss: 0.4173 - acc: 0.9835\n",
      "Epoch 7/10\n",
      "4s - loss: 0.3250 - acc: 0.9280\n",
      "Epoch 8/10\n",
      "4s - loss: 0.4493 - acc: 0.9310\n",
      "Epoch 8/10\n",
      "4s - loss: 0.3626 - acc: 0.9880\n",
      "Epoch 8/10\n",
      "8s - loss: 0.6147 - acc: 0.9985\n",
      "Epoch 5/10\n",
      "4s - loss: 0.3002 - acc: 0.9265\n",
      "Epoch 9/10\n",
      "4s - loss: 0.3957 - acc: 0.9310\n",
      "Epoch 9/10\n",
      "4s - loss: 0.3220 - acc: 0.9895\n",
      "Epoch 9/10\n",
      "4s - loss: 0.3614 - acc: 0.9295\n",
      "Epoch 10/10\n",
      "4s - loss: 0.2926 - acc: 0.9310\n",
      "Epoch 10/10\n",
      "4s - loss: 0.2274 - acc: 0.9925\n",
      "Epoch 10/10\n",
      "8s - loss: 0.5993 - acc: 0.9895\n",
      "Epoch 6/10\n",
      "4s - loss: 0.3283 - acc: 0.9325\n",
      "4s - loss: 0.3005 - acc: 0.9310\n",
      "4s - loss: 0.2069 - acc: 0.9880\n",
      "6s - loss: 0.5783 - acc: 0.9955\n",
      "Epoch 7/10\n",
      "Epoch 1/10\n",
      "Epoch 1/10\n",
      "Epoch 1/10\n",
      "7s - loss: 0.5551 - acc: 0.9940\n",
      "Epoch 8/10\n",
      "9s - loss: 0.6865 - acc: 0.7586\n",
      "Epoch 2/10\n",
      "9s - loss: 0.6825 - acc: 0.7331\n",
      "Epoch 2/10\n",
      "8s - loss: 0.5306 - acc: 0.9985\n",
      "Epoch 9/10\n",
      "15s - loss: 0.6876 - acc: 0.8874\n",
      "Epoch 2/10\n",
      "8s - loss: 0.6737 - acc: 0.8621\n",
      "Epoch 3/10\n",
      "8s - loss: 0.6734 - acc: 0.8441\n",
      "Epoch 3/10\n",
      "8s - loss: 0.4961 - acc: 0.9940\n",
      "Epoch 10/10\n",
      "8s - loss: 0.6659 - acc: 0.8921\n",
      "Epoch 4/10\n",
      "8s - loss: 0.6696 - acc: 0.8846\n",
      "Epoch 4/10\n",
      "14s - loss: 0.6788 - acc: 0.9820\n",
      "Epoch 3/10\n",
      "8s - loss: 0.4851 - acc: 0.9940\n",
      "8s - loss: 0.6556 - acc: 0.9055\n",
      "Epoch 5/10\n",
      "8s - loss: 0.6565 - acc: 0.8891\n",
      "Epoch 5/10\n",
      "7s - loss: 0.6447 - acc: 0.9145\n",
      "Epoch 6/10\n",
      "7s - loss: 0.6502 - acc: 0.9175\n",
      "Epoch 6/10\n",
      "13s - loss: 0.6696 - acc: 0.9955\n",
      "Epoch 4/10\n",
      "Epoch 1/10\n",
      "7s - loss: 0.6296 - acc: 0.9340\n",
      "Epoch 7/10\n",
      "8s - loss: 0.6431 - acc: 0.9205\n",
      "Epoch 7/10\n",
      "14s - loss: 0.6615 - acc: 0.9985\n",
      "Epoch 5/10\n",
      "8s - loss: 0.6006 - acc: 0.9325\n",
      "Epoch 8/10\n",
      "8s - loss: 0.6261 - acc: 0.9220\n",
      "Epoch 8/10\n",
      "16s - loss: 0.6884 - acc: 0.8441\n",
      "Epoch 2/10\n",
      "8s - loss: 0.5527 - acc: 0.9385\n",
      "Epoch 9/10\n",
      "8s - loss: 0.6095 - acc: 0.9370\n",
      "Epoch 9/10\n",
      "14s - loss: 0.6531 - acc: 1.0000\n",
      "Epoch 6/10\n",
      "14s - loss: 0.6817 - acc: 0.9220\n",
      "Epoch 3/10\n",
      "8s - loss: 0.4728 - acc: 0.9415\n",
      "Epoch 10/10\n",
      "8s - loss: 0.5808 - acc: 0.9400\n",
      "Epoch 10/10\n",
      "8s - loss: 0.3725 - acc: 0.9430\n",
      "8s - loss: 0.5448 - acc: 0.9415\n",
      "14s - loss: 0.6444 - acc: 1.0000\n",
      "Epoch 7/10\n",
      "14s - loss: 0.6746 - acc: 0.9445\n",
      "Epoch 4/10\n",
      "Epoch 1/10\n",
      "Epoch 1/10\n",
      "12s - loss: 0.6335 - acc: 1.0000\n",
      "Epoch 8/10\n",
      "11s - loss: 0.6691 - acc: 0.9400\n",
      "Epoch 5/10\n",
      "15s - loss: 0.6887 - acc: 0.8531\n",
      "Epoch 2/10\n",
      "14s - loss: 0.6181 - acc: 1.0000\n",
      "Epoch 9/10\n",
      "14s - loss: 0.6621 - acc: 0.9430\n",
      "Epoch 6/10\n",
      "22s - loss: 0.6902 - acc: 0.7042\n",
      "Epoch 2/10\n",
      "14s - loss: 0.6819 - acc: 0.9370\n",
      "Epoch 3/10\n",
      "15s - loss: 0.6078 - acc: 1.0000\n",
      "Epoch 10/10\n",
      "14s - loss: 0.6546 - acc: 0.9445\n",
      "Epoch 7/10\n",
      "20s - loss: 0.6827 - acc: 0.9144\n",
      "Epoch 3/10\n",
      "14s - loss: 0.6736 - acc: 0.9415\n",
      "Epoch 4/10\n",
      "14s - loss: 0.5877 - acc: 1.0000\n",
      "14s - loss: 0.6472 - acc: 0.9400\n",
      "Epoch 8/10\n",
      "14s - loss: 0.6676 - acc: 0.9445\n",
      "Epoch 5/10\n",
      "13s - loss: 0.6378 - acc: 0.9445\n",
      "Epoch 9/10\n",
      "19s - loss: 0.6755 - acc: 0.9550\n",
      "Epoch 4/10\n",
      "Epoch 1/10\n",
      "13s - loss: 0.6583 - acc: 0.9415\n",
      "Epoch 6/10\n",
      "14s - loss: 0.6303 - acc: 0.9445\n",
      "Epoch 10/10\n",
      "20s - loss: 0.6694 - acc: 0.9595\n",
      "Epoch 5/10\n",
      "14s - loss: 0.6529 - acc: 0.9415\n",
      "Epoch 7/10\n",
      "23s - loss: 0.6913 - acc: 0.6627\n",
      "Epoch 2/10\n",
      "15s - loss: 0.6180 - acc: 0.9415\n",
      "14s - loss: 0.6435 - acc: 0.9445\n",
      "Epoch 8/10\n",
      "21s - loss: 0.6623 - acc: 0.9745\n",
      "Epoch 6/10\n",
      "Epoch 1/10\n",
      "20s - loss: 0.6846 - acc: 0.8621\n",
      "Epoch 3/10\n",
      "13s - loss: 0.6369 - acc: 0.9415\n",
      "Epoch 9/10\n",
      "20s - loss: 0.6552 - acc: 0.9880\n",
      "Epoch 7/10\n",
      "14s - loss: 0.6259 - acc: 0.9430\n",
      "Epoch 10/10\n",
      "21s - loss: 0.6786 - acc: 0.9085\n",
      "Epoch 4/10\n",
      "22s - loss: 0.6909 - acc: 0.6837\n",
      "Epoch 2/10\n",
      "14s - loss: 0.6162 - acc: 0.9430\n",
      "21s - loss: 0.6499 - acc: 0.9820\n",
      "Epoch 8/10\n",
      "21s - loss: 0.6743 - acc: 0.8951\n",
      "Epoch 5/10\n",
      "21s - loss: 0.6843 - acc: 0.8876\n",
      "Epoch 3/10\n",
      "Epoch 1/10\n",
      "19s - loss: 0.6429 - acc: 0.9865\n",
      "Epoch 9/10\n",
      "20s - loss: 0.6686 - acc: 0.9175\n",
      "Epoch 6/10\n",
      "19s - loss: 0.6789 - acc: 0.9100\n",
      "Epoch 4/10\n",
      "22s - loss: 0.6364 - acc: 0.9880\n",
      "Epoch 10/10\n",
      "30s - loss: 0.6886 - acc: 0.9039\n",
      "Epoch 2/10\n",
      "21s - loss: 0.6745 - acc: 0.8996\n",
      "Epoch 5/10\n",
      "22s - loss: 0.6641 - acc: 0.9145\n",
      "Epoch 7/10\n",
      "22s - loss: 0.6296 - acc: 0.9925\n",
      "21s - loss: 0.6686 - acc: 0.9250\n",
      "Epoch 6/10\n",
      "22s - loss: 0.6602 - acc: 0.9220\n",
      "Epoch 8/10\n",
      "28s - loss: 0.6802 - acc: 0.9700\n",
      "Epoch 3/10\n",
      "Epoch 1/10\n",
      "20s - loss: 0.6641 - acc: 0.9160\n",
      "Epoch 7/10\n",
      "20s - loss: 0.6547 - acc: 0.9325\n",
      "Epoch 9/10\n",
      "26s - loss: 0.6725 - acc: 0.9625\n",
      "Epoch 4/10\n",
      "22s - loss: 0.6609 - acc: 0.9070\n",
      "Epoch 8/10\n",
      "22s - loss: 0.6475 - acc: 0.9355\n",
      "Epoch 10/10\n",
      "31s - loss: 0.6895 - acc: 0.8246\n",
      "Epoch 2/10\n",
      "29s - loss: 0.6645 - acc: 0.9775\n",
      "Epoch 5/10\n",
      "22s - loss: 0.6559 - acc: 0.9310\n",
      "Epoch 9/10\n",
      "21s - loss: 0.6458 - acc: 0.9400\n",
      "28s - loss: 0.6829 - acc: 0.9055\n",
      "Epoch 3/10\n",
      "20s - loss: 0.6490 - acc: 0.9385\n",
      "Epoch 10/10\n",
      "Epoch 1/10\n",
      "26s - loss: 0.6567 - acc: 0.9880\n",
      "Epoch 6/10\n",
      "27s - loss: 0.6768 - acc: 0.9250\n",
      "Epoch 4/10\n",
      "21s - loss: 0.6439 - acc: 0.9340\n",
      "29s - loss: 0.6495 - acc: 0.9775\n",
      "Epoch 7/10\n",
      "31s - loss: 0.6900 - acc: 0.8516\n",
      "Epoch 2/10\n",
      "Epoch 1/10\n",
      "26s - loss: 0.6708 - acc: 0.9220\n",
      "Epoch 5/10\n",
      "27s - loss: 0.6425 - acc: 0.9850\n",
      "Epoch 8/10\n",
      "28s - loss: 0.6834 - acc: 0.9160\n",
      "Epoch 3/10\n",
      "29s - loss: 0.6635 - acc: 0.9220\n",
      "Epoch 6/10\n",
      "29s - loss: 0.6331 - acc: 0.9880\n",
      "Epoch 9/10\n",
      "30s - loss: 0.6772 - acc: 0.9220\n",
      "Epoch 4/10\n",
      "48s - loss: 0.6883 - acc: 0.9730\n",
      "Epoch 2/10\n",
      "29s - loss: 0.6578 - acc: 0.9265\n",
      "Epoch 7/10\n",
      "29s - loss: 0.6270 - acc: 0.9775\n",
      "Epoch 10/10\n",
      "29s - loss: 0.6708 - acc: 0.9265\n",
      "Epoch 5/10\n",
      "29s - loss: 0.6536 - acc: 0.9310\n",
      "Epoch 8/10\n",
      "46s - loss: 0.6802 - acc: 0.9820\n",
      "Epoch 3/10\n",
      "29s - loss: 0.6180 - acc: 0.9835\n",
      "29s - loss: 0.6646 - acc: 0.9250\n",
      "Epoch 6/10\n",
      "29s - loss: 0.6459 - acc: 0.9265\n",
      "Epoch 9/10\n",
      "Epoch 1/10\n",
      "27s - loss: 0.6574 - acc: 0.9355\n",
      "Epoch 7/10\n",
      "44s - loss: 0.6716 - acc: 0.9895\n",
      "Epoch 4/10\n",
      "27s - loss: 0.6391 - acc: 0.9310\n",
      "Epoch 10/10\n",
      "29s - loss: 0.6531 - acc: 0.9280\n",
      "Epoch 8/10\n",
      "29s - loss: 0.6334 - acc: 0.9310\n",
      "49s - loss: 0.6914 - acc: 0.8396\n",
      "Epoch 2/10\n",
      "46s - loss: 0.6635 - acc: 0.9835\n",
      "Epoch 5/10\n",
      "29s - loss: 0.6462 - acc: 0.9235\n",
      "Epoch 9/10\n",
      "Epoch 1/10\n",
      "27s - loss: 0.6399 - acc: 0.9340\n",
      "Epoch 10/10\n",
      "44s - loss: 0.6866 - acc: 0.9385\n",
      "Epoch 3/10\n",
      "44s - loss: 0.6558 - acc: 0.9895\n",
      "Epoch 6/10\n",
      "29s - loss: 0.6336 - acc: 0.9310\n",
      "49s - loss: 0.6912 - acc: 0.8306\n",
      "Epoch 2/10\n",
      "46s - loss: 0.6820 - acc: 0.9400\n",
      "Epoch 4/10\n",
      "44s - loss: 0.6491 - acc: 0.9835\n",
      "Epoch 7/10\n",
      "Epoch 1/10\n",
      "44s - loss: 0.6868 - acc: 0.9355\n",
      "Epoch 3/10\n",
      "44s - loss: 0.6769 - acc: 0.9445\n",
      "Epoch 5/10\n",
      "45s - loss: 0.6389 - acc: 0.9955\n",
      "Epoch 8/10\n",
      "61s - loss: 0.6910 - acc: 0.9324\n",
      "Epoch 2/10\n",
      "46s - loss: 0.6821 - acc: 0.9445\n",
      "Epoch 4/10\n",
      "46s - loss: 0.6717 - acc: 0.9445\n",
      "Epoch 6/10\n",
      "46s - loss: 0.6313 - acc: 0.9850\n",
      "Epoch 9/10\n",
      "46s - loss: 0.6773 - acc: 0.9430\n",
      "Epoch 5/10\n",
      "59s - loss: 0.6852 - acc: 0.9985\n",
      "Epoch 3/10\n",
      "46s - loss: 0.6651 - acc: 0.9430\n",
      "Epoch 7/10\n",
      "46s - loss: 0.6216 - acc: 0.9955\n",
      "Epoch 10/10\n",
      "46s - loss: 0.6723 - acc: 0.9430\n",
      "Epoch 6/10\n",
      "47s - loss: 0.6587 - acc: 0.9430\n",
      "Epoch 8/10\n",
      "59s - loss: 0.6781 - acc: 1.0000\n",
      "Epoch 4/10\n",
      "46s - loss: 0.6155 - acc: 0.9970\n",
      "46s - loss: 0.6662 - acc: 0.9430\n",
      "Epoch 7/10\n",
      "Epoch 1/10\n",
      "44s - loss: 0.6526 - acc: 0.9430\n",
      "Epoch 9/10\n",
      "56s - loss: 0.6707 - acc: 1.0000\n",
      "Epoch 5/10\n",
      "44s - loss: 0.6594 - acc: 0.9460\n",
      "Epoch 8/10\n",
      "46s - loss: 0.6465 - acc: 0.9445\n",
      "Epoch 10/10\n",
      "62s - loss: 0.6915 - acc: 0.8786\n",
      "Epoch 2/10\n",
      "58s - loss: 0.6636 - acc: 0.9985\n",
      "Epoch 6/10\n",
      "46s - loss: 0.6535 - acc: 0.9430\n",
      "Epoch 9/10\n",
      "47s - loss: 0.6403 - acc: 0.9445\n",
      "46s - loss: 0.6472 - acc: 0.9445\n",
      "Epoch 10/10\n",
      "59s - loss: 0.6870 - acc: 0.9445\n",
      "Epoch 3/10\n",
      "58s - loss: 0.6563 - acc: 1.0000\n"
     ]
    },
    {
     "name": "stdout",
     "output_type": "stream",
     "text": [
      "Epoch 7/10\n",
      "Epoch 1/10\n",
      "44s - loss: 0.6411 - acc: 0.9430\n",
      "57s - loss: 0.6818 - acc: 0.9430\n",
      "Epoch 4/10\n",
      "57s - loss: 0.6494 - acc: 1.0000\n",
      "Epoch 8/10\n",
      "62s - loss: 0.6916 - acc: 0.7616\n",
      "Epoch 2/10\n",
      "Epoch 1/10\n",
      "56s - loss: 0.6759 - acc: 0.9445\n",
      "Epoch 5/10\n",
      "57s - loss: 0.6423 - acc: 1.0000\n",
      "Epoch 9/10\n",
      "56s - loss: 0.6868 - acc: 0.9445\n",
      "Epoch 3/10\n",
      "60s - loss: 0.6702 - acc: 0.9445\n",
      "Epoch 6/10\n",
      "59s - loss: 0.6354 - acc: 1.0000\n",
      "Epoch 10/10\n",
      "59s - loss: 0.6807 - acc: 0.9445\n",
      "Epoch 4/10\n",
      "139s - loss: 0.6911 - acc: 0.8378\n",
      "Epoch 2/10\n",
      "59s - loss: 0.6644 - acc: 0.9445\n",
      "Epoch 7/10\n",
      "59s - loss: 0.6287 - acc: 1.0000\n",
      "59s - loss: 0.6747 - acc: 0.9445\n",
      "Epoch 5/10\n",
      "Epoch 1/10\n",
      "57s - loss: 0.6588 - acc: 0.9445\n",
      "Epoch 8/10\n",
      "57s - loss: 0.6688 - acc: 0.9445\n",
      "Epoch 6/10\n",
      "59s - loss: 0.6534 - acc: 0.9445\n",
      "Epoch 9/10\n",
      "132s - loss: 0.6839 - acc: 1.0000\n",
      "Epoch 3/10\n",
      "59s - loss: 0.6629 - acc: 0.9445\n",
      "Epoch 7/10\n",
      "59s - loss: 0.6479 - acc: 0.9445\n",
      "Epoch 10/10\n",
      "137s - loss: 0.6911 - acc: 0.8876\n",
      "Epoch 2/10\n",
      "60s - loss: 0.6571 - acc: 0.9445\n",
      "Epoch 8/10\n",
      "59s - loss: 0.6426 - acc: 0.9445\n",
      "60s - loss: 0.6514 - acc: 0.9445\n",
      "Epoch 9/10\n",
      "135s - loss: 0.6762 - acc: 1.0000\n",
      "Epoch 4/10\n",
      "Epoch 1/10\n",
      "57s - loss: 0.6459 - acc: 0.9445\n",
      "Epoch 10/10\n",
      "132s - loss: 0.6865 - acc: 0.9445\n",
      "Epoch 3/10\n",
      "59s - loss: 0.6403 - acc: 0.9445\n",
      "132s - loss: 0.6686 - acc: 1.0000\n",
      "Epoch 5/10\n",
      "Epoch 1/10\n",
      "136s - loss: 0.6917 - acc: 0.7781\n",
      "Epoch 2/10\n",
      "131s - loss: 0.6822 - acc: 0.9445\n",
      "Epoch 4/10\n",
      "133s - loss: 0.6610 - acc: 1.0000\n",
      "Epoch 6/10\n",
      "136s - loss: 0.6861 - acc: 0.9430\n",
      "Epoch 3/10\n",
      "135s - loss: 0.6774 - acc: 0.9445\n",
      "Epoch 5/10\n",
      "203s - loss: 0.6902 - acc: 0.9730\n",
      "Epoch 2/10\n",
      "136s - loss: 0.6537 - acc: 1.0000\n",
      "Epoch 7/10\n",
      "137s - loss: 0.6800 - acc: 0.9445\n",
      "Epoch 4/10\n",
      "135s - loss: 0.6729 - acc: 0.9445\n",
      "Epoch 6/10\n",
      "137s - loss: 0.6463 - acc: 1.0000\n",
      "Epoch 8/10\n",
      "200s - loss: 0.6836 - acc: 0.9970\n",
      "Epoch 3/10\n",
      "136s - loss: 0.6739 - acc: 0.9445\n",
      "Epoch 5/10\n",
      "135s - loss: 0.6678 - acc: 0.9445\n",
      "Epoch 7/10\n",
      "136s - loss: 0.6391 - acc: 1.0000\n",
      "Epoch 9/10\n",
      "137s - loss: 0.6681 - acc: 0.9445\n",
      "Epoch 6/10\n",
      "136s - loss: 0.6629 - acc: 0.9445\n",
      "Epoch 8/10\n",
      "199s - loss: 0.6768 - acc: 1.0000\n",
      "Epoch 4/10\n",
      "136s - loss: 0.6320 - acc: 1.0000\n",
      "Epoch 10/10\n",
      "136s - loss: 0.6622 - acc: 0.9445\n",
      "Epoch 7/10\n",
      "137s - loss: 0.6562 - acc: 0.9445\n",
      "Epoch 9/10\n",
      "136s - loss: 0.6252 - acc: 1.0000\n",
      "199s - loss: 0.6701 - acc: 1.0000\n",
      "Epoch 5/10\n",
      "137s - loss: 0.6564 - acc: 0.9445\n",
      "Epoch 8/10\n",
      "138s - loss: 0.6498 - acc: 0.9445\n",
      "Epoch 10/10\n",
      "Epoch 1/10\n",
      "133s - loss: 0.6508 - acc: 0.9445\n",
      "Epoch 9/10\n",
      "134s - loss: 0.6435 - acc: 0.9445\n",
      "198s - loss: 0.6638 - acc: 1.0000\n",
      "Epoch 6/10\n",
      "Epoch 1/10\n",
      "202s - loss: 0.6907 - acc: 0.8786\n",
      "Epoch 2/10\n",
      "134s - loss: 0.6452 - acc: 0.9445\n",
      "Epoch 10/10\n",
      "199s - loss: 0.6574 - acc: 1.0000\n",
      "Epoch 7/10\n",
      "137s - loss: 0.6397 - acc: 0.9445\n",
      "202s - loss: 0.6852 - acc: 0.9415\n",
      "Epoch 3/10\n",
      "204s - loss: 0.6915 - acc: 0.8066\n",
      "Epoch 2/10\n",
      "178s - loss: 0.6504 - acc: 1.0000\n",
      "Epoch 8/10\n",
      "158s - loss: 0.6801 - acc: 0.9445\n",
      "Epoch 4/10\n",
      "158s - loss: 0.6856 - acc: 0.9445\n",
      "Epoch 3/10\n",
      "150s - loss: 0.6446 - acc: 1.0000\n",
      "Epoch 9/10\n",
      "152s - loss: 0.6788 - acc: 0.9445\n",
      "Epoch 4/10\n",
      "152s - loss: 0.6747 - acc: 0.9445\n",
      "Epoch 5/10\n",
      "151s - loss: 0.6382 - acc: 1.0000\n",
      "Epoch 10/10\n",
      "151s - loss: 0.6722 - acc: 0.9445\n",
      "Epoch 5/10\n",
      "153s - loss: 0.6700 - acc: 0.9445\n",
      "Epoch 6/10\n",
      "151s - loss: 0.6323 - acc: 1.0000\n",
      "154s - loss: 0.6657 - acc: 0.9445\n",
      "Epoch 6/10\n",
      "155s - loss: 0.6648 - acc: 0.9445\n",
      "Epoch 7/10\n",
      "105s - loss: 0.6594 - acc: 0.9445\n",
      "Epoch 7/10\n",
      "103s - loss: 0.6606 - acc: 0.9445\n",
      "Epoch 8/10\n",
      "101s - loss: 0.6530 - acc: 0.9445\n",
      "Epoch 8/10\n",
      "101s - loss: 0.6556 - acc: 0.9445\n",
      "Epoch 9/10\n",
      "101s - loss: 0.6470 - acc: 0.9445\n",
      "Epoch 9/10\n",
      "101s - loss: 0.6497 - acc: 0.9445\n",
      "Epoch 10/10\n",
      "101s - loss: 0.6409 - acc: 0.9445\n",
      "Epoch 10/10\n",
      "101s - loss: 0.6449 - acc: 0.9445\n",
      "78s - loss: 0.6350 - acc: 0.9445\n",
      "Epoch 1/10\n",
      "2s - loss: 0.6716 - acc: 0.7580\n",
      "Epoch 2/10\n",
      "1s - loss: 0.6077 - acc: 0.9240\n",
      "Epoch 3/10\n",
      "1s - loss: 0.5125 - acc: 0.9410\n",
      "Epoch 4/10\n",
      "1s - loss: 0.4536 - acc: 0.9370\n",
      "Epoch 5/10\n",
      "1s - loss: 0.3869 - acc: 0.9460\n",
      "Epoch 6/10\n",
      "1s - loss: 0.3280 - acc: 0.9490\n",
      "Epoch 7/10\n",
      "1s - loss: 0.2807 - acc: 0.9530\n",
      "Epoch 8/10\n",
      "1s - loss: 0.2573 - acc: 0.9540\n",
      "Epoch 9/10\n",
      "1s - loss: 0.2267 - acc: 0.9560\n",
      "Epoch 10/10\n",
      "1s - loss: 0.2083 - acc: 0.9560\n"
     ]
    }
   ],
   "source": [
    "# Create model\n",
    "model = KerasClassifier(build_fn=create_model, epochs=10, batch_size=80, verbose=2)\n",
    "# define the grid search parameters\n",
    "filters = [4, 8, 12, 16, 20, 25, 30, 50, 64]\n",
    "param_grid = dict(filters=filters)\n",
    "grid = GridSearchCV(estimator=model, param_grid=param_grid, n_jobs=-1)\n",
    "grid_result = grid.fit(X_GS1000, y_GS1000)\n"
   ]
  },
  {
   "cell_type": "code",
   "execution_count": 36,
   "metadata": {},
   "outputs": [
    {
     "name": "stdout",
     "output_type": "stream",
     "text": [
      "Best: 0.963000 using {'filters': 4}\n",
      "0.963000 (0.052248) with: {'filters': 4}\n",
      "0.963000 (0.052248) with: {'filters': 8}\n",
      "0.963000 (0.052248) with: {'filters': 12}\n",
      "0.963000 (0.052248) with: {'filters': 16}\n",
      "0.963000 (0.052248) with: {'filters': 20}\n",
      "0.963000 (0.052248) with: {'filters': 25}\n",
      "0.963000 (0.052248) with: {'filters': 30}\n",
      "0.963000 (0.052248) with: {'filters': 50}\n",
      "0.963000 (0.052248) with: {'filters': 64}\n"
     ]
    }
   ],
   "source": [
    "# summarize results\n",
    "print(\"Best: %f using %s\" % (grid_result.best_score_, grid_result.best_params_))\n",
    "means = grid_result.cv_results_['mean_test_score']\n",
    "stds = grid_result.cv_results_['std_test_score']\n",
    "params = grid_result.cv_results_['params']\n",
    "for mean, stdev, param in zip(means, stds, params):\n",
    "    print(\"%f (%f) with: %r\" % (mean, stdev, param))"
   ]
  },
  {
   "cell_type": "markdown",
   "metadata": {},
   "source": [
    "### Run1: Best: 0.963000 using {'filters': 12} (Adam LR=1e-5) (3cnn, 2dnn)\n",
    "    0.956000 (0.047686) with: {'filters': 4}\n",
    "    0.961000 (0.050890) with: {'filters': 8}\n",
    "    0.963000 (0.052248) with: {'filters': 12}\n",
    "    0.961000 (0.048849) with: {'filters': 16}\n",
    "    0.963000 (0.050142) with: {'filters': 20}"
   ]
  },
  {
   "cell_type": "markdown",
   "metadata": {},
   "source": [
    "### Run2: Best: 0.963000 using {'filters': 12} (Adam LR=1e-5, beta_1=0.9, beta_2=0.999 ) (3cnn, 2dnn)\n",
    "    0.956000 (0.047686) with: {'filters': 4}\n",
    "    0.961000 (0.050890) with: {'filters': 8}\n",
    "    0.963000 (0.052248) with: {'filters': 12}\n",
    "    0.961000 (0.048849) with: {'filters': 16}\n",
    "    0.963000 (0.050142) with: {'filters': 20}\n",
    "    0.959000 (0.049476) with: {'filters': 25}\n",
    "    0.962000 (0.051554) with: {'filters': 30}"
   ]
  },
  {
   "cell_type": "markdown",
   "metadata": {},
   "source": [
    "### Run3: Best: 0.963000 using {'filters': 8} (Adam LR=1e-5, beta_1=0.9, beta_2=0.999 ) (3cnn, 2dnn)\n",
    "\n",
    "    0.956000 (0.047686) with: {'filters': 4}\n",
    "    0.963000 (0.052248) with: {'filters': 8}\n",
    "    0.963000 (0.052248) with: {'filters': 12}\n",
    "    0.961000 (0.048849) with: {'filters': 16}\n",
    "    0.963000 (0.050142) with: {'filters': 20}\n",
    "    0.959000 (0.049476) with: {'filters': 25}\n",
    "    0.962000 (0.051554) with: {'filters': 30}\n",
    "    0.963000 (0.052248) with: {'filters': 50}\n",
    "    0.963000 (0.052248) with: {'filters': 64}\n"
   ]
  },
  {
   "cell_type": "markdown",
   "metadata": {},
   "source": [
    "### Run 4: Best: 0.963000 using {'filters': 4} (SGD LR=0.001, momentun=0) (8cnn, 2dnn)\n",
    "    0.963000 (0.052248) with: {'filters': 4}\n",
    "    0.963000 (0.052248) with: {'filters': 8}\n",
    "    0.963000 (0.052248) with: {'filters': 12}\n",
    "    0.963000 (0.052248) with: {'filters': 16}\n",
    "    0.963000 (0.052248) with: {'filters': 20}\n",
    "    0.963000 (0.052248) with: {'filters': 25}\n",
    "    0.963000 (0.052248) with: {'filters': 30}\n",
    "    0.963000 (0.052248) with: {'filters': 50}\n",
    "    0.963000 (0.052248) with: {'filters': 64}\n"
   ]
  },
  {
   "cell_type": "code",
   "execution_count": null,
   "metadata": {},
   "outputs": [],
   "source": []
  }
 ],
 "metadata": {
  "kernelspec": {
   "display_name": "Python 3",
   "language": "python",
   "name": "python3"
  },
  "language_info": {
   "codemirror_mode": {
    "name": "ipython",
    "version": 3
   },
   "file_extension": ".py",
   "mimetype": "text/x-python",
   "name": "python",
   "nbconvert_exporter": "python",
   "pygments_lexer": "ipython3",
   "version": "3.5.2"
  }
 },
 "nbformat": 4,
 "nbformat_minor": 2
}
