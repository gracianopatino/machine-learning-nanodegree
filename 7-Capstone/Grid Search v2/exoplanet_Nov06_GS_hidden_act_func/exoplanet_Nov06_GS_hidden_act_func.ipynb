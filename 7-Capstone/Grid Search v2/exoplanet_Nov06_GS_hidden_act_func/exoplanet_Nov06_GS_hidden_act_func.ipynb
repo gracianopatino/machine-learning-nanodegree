{
 "cells": [
  {
   "cell_type": "markdown",
   "metadata": {},
   "source": [
    "# Machine Learning Engineer Nanodegree\n",
    "\n",
    "## Capstone project: Exoplanet search (from Kaggle)\n",
    "\n",
    "Student Name: Graciano Patino\n",
    "\n",
    "Kaggle reference: https://www.kaggle.com/keplersmachines/kepler-labelled-time-series-data?/\n",
    "\n",
    "The mission as stated in the Github (https://github.com/winterdelta/KeplerAI) is to build a classification algorithm for identifying if a particular time series input includes an exoplanet or not. It also mentions that a number of methods were tested: 1-D CNN in Torch7, XGBoost in R and PCA in Python. However, none of these methods provided strong results according to the kaggle and Github references. \n",
    "\n",
    "For this project, I would evaluate deep learning algorithms. Per paper in the paragraph (below), these algorithms appear to provide better results compared to the ones already tried as mentioned above.\n",
    "\n",
    "    1)\tInitially I would evaluate 1-D CNN using Keras instead of Torch7. \n",
    "    2)\tBased on reference paper, I would try adding different number of layers and filters in combination with other CNN parameters. Details would be included in project report.\n",
    "    3)\tThe output of the CNNs would be the input to one or more dense layers.\n",
    "    4)\tPerformance of each model to be measured as per evaluation metrics section.\n",
    "    5)\tPer kaggle source the test set is confirmed to have 5 exoplanets. This will also be useful on checking performance of algorithms. If an algorithm is unable to identify exoplanets on then testing set, then model might not be good. \n",
    "\n",
    "Please that the list above of models considered is not meant to be exhaustive for all possible scenarios in deep learning algorithms. It might be the case that other deep learning algorithms might be considered later should the ones proposed (above) fail in identifying any exoplanet as expected.\n",
    "\n",
    "Reference paper: IDENTIFYING EXOPLANETS WITH DEEP LEARNING: A FIVE PLANET RESONANT CHAIN AROUND KEPLER-80 AND AN EIGHTH PLANET AROUND KEPLER-90 \n",
    "(https://www.cfa.harvard.edu/~avanderb/kepler90i.pdf)\n"
   ]
  },
  {
   "cell_type": "markdown",
   "metadata": {},
   "source": [
    "#### Note\n",
    "\n",
    "In this Jupyter Notebook: Applying Grid Search to identify parameters for network."
   ]
  },
  {
   "cell_type": "code",
   "execution_count": 1,
   "metadata": {},
   "outputs": [],
   "source": [
    "# Import libraries necessary for this project\n",
    "import numpy as np\n",
    "import pandas as pd\n",
    "import matplotlib.pyplot as plt\n",
    "import math\n",
    "import itertools\n",
    "from IPython.display import display # Allows the use of display() for DataFrames\n",
    "from get_results import plot_roc_auc, confusion_matrix_com\n",
    "\n",
    "# Pretty display for notebooks\n",
    "%matplotlib inline\n",
    "\n",
    "# Some Sklearn libraries are required\n",
    "from sklearn.metrics import roc_auc_score\n",
    "from sklearn.metrics import precision_recall_curve\n",
    "from sklearn.utils.fixes import signature\n",
    "from sklearn.metrics import average_precision_score"
   ]
  },
  {
   "cell_type": "code",
   "execution_count": 2,
   "metadata": {},
   "outputs": [],
   "source": [
    "# Load the training data from Exoplanet dataset\n",
    "train_data = pd.read_csv('kepler/exoTrain.csv')"
   ]
  },
  {
   "cell_type": "code",
   "execution_count": 3,
   "metadata": {},
   "outputs": [
    {
     "data": {
      "text/plain": [
       "(5087, 3198)"
      ]
     },
     "execution_count": 3,
     "metadata": {},
     "output_type": "execute_result"
    }
   ],
   "source": [
    "# Find dimensions of the train data\n",
    "train_data.shape"
   ]
  },
  {
   "cell_type": "code",
   "execution_count": 4,
   "metadata": {},
   "outputs": [
    {
     "data": {
      "text/plain": [
       "0"
      ]
     },
     "execution_count": 4,
     "metadata": {},
     "output_type": "execute_result"
    }
   ],
   "source": [
    "# Testing  if train_data has any null fields\n",
    "testing = pd.isnull(train_data)\n",
    "testing *= 1\n",
    "testing2 = testing.sum()\n",
    "testing2.sum() # If results is zero, then there a no fields with \"null\" value"
   ]
  },
  {
   "cell_type": "code",
   "execution_count": 5,
   "metadata": {},
   "outputs": [],
   "source": [
    "# Getting X_train and y_train\n",
    "# Using iloc to select data using position instead of label and converting to numpy array using values\n",
    "X_train = train_data.iloc[:,1:].values \n",
    "y_train = train_data.iloc[:,0:1].values "
   ]
  },
  {
   "cell_type": "code",
   "execution_count": 6,
   "metadata": {},
   "outputs": [
    {
     "data": {
      "text/plain": [
       "(5087, 3197)"
      ]
     },
     "execution_count": 6,
     "metadata": {},
     "output_type": "execute_result"
    }
   ],
   "source": [
    "# Find dimensions of the X_train data\n",
    "X_train.shape"
   ]
  },
  {
   "cell_type": "code",
   "execution_count": 7,
   "metadata": {},
   "outputs": [
    {
     "data": {
      "text/plain": [
       "(5087, 1)"
      ]
     },
     "execution_count": 7,
     "metadata": {},
     "output_type": "execute_result"
    }
   ],
   "source": [
    "# Find dimensions of the labels (y_train) data\n",
    "y_train.shape"
   ]
  },
  {
   "cell_type": "code",
   "execution_count": 8,
   "metadata": {},
   "outputs": [
    {
     "data": {
      "text/plain": [
       "array([[2],\n",
       "       [2],\n",
       "       [2],\n",
       "       [2],\n",
       "       [2]])"
      ]
     },
     "execution_count": 8,
     "metadata": {},
     "output_type": "execute_result"
    }
   ],
   "source": [
    "# y_train: Label is 2 for exoplanet and 1 for non-exoplanet\n",
    "y_train[:5]"
   ]
  },
  {
   "cell_type": "code",
   "execution_count": 9,
   "metadata": {},
   "outputs": [],
   "source": [
    "y_train -= 1 # Changing labels to: 1 for exoplanet and 0 for non-exoplanet"
   ]
  },
  {
   "cell_type": "code",
   "execution_count": 10,
   "metadata": {},
   "outputs": [
    {
     "data": {
      "text/plain": [
       "array([[1],\n",
       "       [1],\n",
       "       [1],\n",
       "       [1],\n",
       "       [1]])"
      ]
     },
     "execution_count": 10,
     "metadata": {},
     "output_type": "execute_result"
    }
   ],
   "source": [
    "y_train[:5]"
   ]
  },
  {
   "cell_type": "code",
   "execution_count": 11,
   "metadata": {
    "scrolled": true
   },
   "outputs": [],
   "source": [
    "# Load the testing data from Exoplanet dataset\n",
    "test_data = pd.read_csv('kepler/exoTest.csv')"
   ]
  },
  {
   "cell_type": "code",
   "execution_count": 12,
   "metadata": {},
   "outputs": [
    {
     "data": {
      "text/plain": [
       "(570, 3198)"
      ]
     },
     "execution_count": 12,
     "metadata": {},
     "output_type": "execute_result"
    }
   ],
   "source": [
    "# Find dimensions of the test data\n",
    "test_data.shape"
   ]
  },
  {
   "cell_type": "code",
   "execution_count": 13,
   "metadata": {},
   "outputs": [
    {
     "data": {
      "text/plain": [
       "0"
      ]
     },
     "execution_count": 13,
     "metadata": {},
     "output_type": "execute_result"
    }
   ],
   "source": [
    "# Testing  if test_data has any \"null\" fields\n",
    "testing = pd.isnull(test_data)\n",
    "testing *= 1\n",
    "testing2 = testing.sum()\n",
    "testing2.sum() # If results is zero, then there a no fields with \"null\" value"
   ]
  },
  {
   "cell_type": "code",
   "execution_count": 14,
   "metadata": {},
   "outputs": [],
   "source": [
    "# Getting X_test and y_test\n",
    "# Using iloc to select data using position instead of label and converting to numpy array (using values)\n",
    "X_test = test_data.iloc[:,1:].values\n",
    "y_test = test_data.iloc[:,0:1].values"
   ]
  },
  {
   "cell_type": "code",
   "execution_count": 15,
   "metadata": {},
   "outputs": [
    {
     "data": {
      "text/plain": [
       "(570, 3197)"
      ]
     },
     "execution_count": 15,
     "metadata": {},
     "output_type": "execute_result"
    }
   ],
   "source": [
    "# Find dimensions of the X_test data\n",
    "X_test.shape"
   ]
  },
  {
   "cell_type": "code",
   "execution_count": 16,
   "metadata": {},
   "outputs": [
    {
     "data": {
      "text/plain": [
       "(570, 1)"
      ]
     },
     "execution_count": 16,
     "metadata": {},
     "output_type": "execute_result"
    }
   ],
   "source": [
    "# Find dimensions of the labels (y_test) data\n",
    "y_test.shape"
   ]
  },
  {
   "cell_type": "code",
   "execution_count": 17,
   "metadata": {},
   "outputs": [
    {
     "data": {
      "text/plain": [
       "array([[2],\n",
       "       [2],\n",
       "       [2],\n",
       "       [2],\n",
       "       [2],\n",
       "       [1]])"
      ]
     },
     "execution_count": 17,
     "metadata": {},
     "output_type": "execute_result"
    }
   ],
   "source": [
    "# y_test: Label is 2 for exoplanet and 1 for non-exoplanet\n",
    "y_test[:6]"
   ]
  },
  {
   "cell_type": "code",
   "execution_count": 18,
   "metadata": {},
   "outputs": [],
   "source": [
    "y_test -= 1 # Changing labels to: 1 for exoplanet and 0 for non-exoplanet"
   ]
  },
  {
   "cell_type": "code",
   "execution_count": 19,
   "metadata": {},
   "outputs": [
    {
     "data": {
      "text/plain": [
       "array([[1],\n",
       "       [1],\n",
       "       [1],\n",
       "       [1],\n",
       "       [1],\n",
       "       [0]])"
      ]
     },
     "execution_count": 19,
     "metadata": {},
     "output_type": "execute_result"
    }
   ],
   "source": [
    "y_test[:6]"
   ]
  },
  {
   "cell_type": "code",
   "execution_count": 20,
   "metadata": {},
   "outputs": [],
   "source": [
    "# Normalizing the data since it is not normalized according to Kaggle/Github\n",
    "from sklearn.preprocessing import StandardScaler"
   ]
  },
  {
   "cell_type": "code",
   "execution_count": 21,
   "metadata": {},
   "outputs": [
    {
     "data": {
      "text/plain": [
       "array([[  93.85,   83.81,   20.1 , ...,   61.42,    5.08,  -39.54],\n",
       "       [ -38.88,  -33.83,  -58.54, ...,    6.46,   16.  ,   19.93],\n",
       "       [ 532.64,  535.92,  513.73, ...,  -28.91,  -70.02,  -96.67],\n",
       "       ..., \n",
       "       [ 273.39,  278.  ,  261.73, ...,   88.42,   79.07,   79.43],\n",
       "       [   3.82,    2.09,   -3.29, ...,  -14.55,   -6.41,   -2.55],\n",
       "       [ 323.28,  306.36,  293.16, ...,  -16.72,  -14.09,   27.82]])"
      ]
     },
     "execution_count": 21,
     "metadata": {},
     "output_type": "execute_result"
    }
   ],
   "source": [
    "# Checking X_train data\n",
    "X_train"
   ]
  },
  {
   "cell_type": "code",
   "execution_count": 22,
   "metadata": {},
   "outputs": [
    {
     "data": {
      "text/plain": [
       "array([[  93.85,  -38.88,  532.64, ...,  273.39,    3.82,  323.28],\n",
       "       [  83.81,  -33.83,  535.92, ...,  278.  ,    2.09,  306.36],\n",
       "       [  20.1 ,  -58.54,  513.73, ...,  261.73,   -3.29,  293.16],\n",
       "       ..., \n",
       "       [  61.42,    6.46,  -28.91, ...,   88.42,  -14.55,  -16.72],\n",
       "       [   5.08,   16.  ,  -70.02, ...,   79.07,   -6.41,  -14.09],\n",
       "       [ -39.54,   19.93,  -96.67, ...,   79.43,   -2.55,   27.82]])"
      ]
     },
     "execution_count": 22,
     "metadata": {},
     "output_type": "execute_result"
    }
   ],
   "source": [
    "# Tranposing X_train before applying scaling such that mean is zero and variance is one\n",
    "X_train.transpose()"
   ]
  },
  {
   "cell_type": "code",
   "execution_count": 23,
   "metadata": {},
   "outputs": [
    {
     "data": {
      "text/plain": [
       "array([[  1.19880000e+02,   1.00210000e+02,   8.64600000e+01, ...,\n",
       "          3.57800000e+01,   2.69430000e+02,   5.77200000e+01],\n",
       "       [  5.73659000e+03,   5.69998000e+03,   5.71716000e+03, ...,\n",
       "         -2.36619000e+03,  -2.29486000e+03,  -2.03472000e+03],\n",
       "       [  8.44480000e+02,   8.17490000e+02,   7.70070000e+02, ...,\n",
       "         -1.62680000e+02,  -3.67900000e+01,   3.06300000e+01],\n",
       "       ..., \n",
       "       [ -5.40100000e+01,  -4.41300000e+01,  -4.12300000e+01, ...,\n",
       "          5.47000000e+00,   1.44600000e+01,   1.87000000e+01],\n",
       "       [  9.13600000e+01,   8.56000000e+01,   4.88100000e+01, ...,\n",
       "         -8.43000000e+00,  -6.48000000e+00,   1.76000000e+01],\n",
       "       [  3.07119000e+03,   2.78253000e+03,   2.60869000e+03, ...,\n",
       "         -2.77220000e+02,  -6.96300000e+01,   1.21560000e+02]])"
      ]
     },
     "execution_count": 23,
     "metadata": {},
     "output_type": "execute_result"
    }
   ],
   "source": [
    "# # Checking X_train data\n",
    "X_test"
   ]
  },
  {
   "cell_type": "code",
   "execution_count": 24,
   "metadata": {},
   "outputs": [
    {
     "data": {
      "text/plain": [
       "array([[  1.19880000e+02,   5.73659000e+03,   8.44480000e+02, ...,\n",
       "         -5.40100000e+01,   9.13600000e+01,   3.07119000e+03],\n",
       "       [  1.00210000e+02,   5.69998000e+03,   8.17490000e+02, ...,\n",
       "         -4.41300000e+01,   8.56000000e+01,   2.78253000e+03],\n",
       "       [  8.64600000e+01,   5.71716000e+03,   7.70070000e+02, ...,\n",
       "         -4.12300000e+01,   4.88100000e+01,   2.60869000e+03],\n",
       "       ..., \n",
       "       [  3.57800000e+01,  -2.36619000e+03,  -1.62680000e+02, ...,\n",
       "          5.47000000e+00,  -8.43000000e+00,  -2.77220000e+02],\n",
       "       [  2.69430000e+02,  -2.29486000e+03,  -3.67900000e+01, ...,\n",
       "          1.44600000e+01,  -6.48000000e+00,  -6.96300000e+01],\n",
       "       [  5.77200000e+01,  -2.03472000e+03,   3.06300000e+01, ...,\n",
       "          1.87000000e+01,   1.76000000e+01,   1.21560000e+02]])"
      ]
     },
     "execution_count": 24,
     "metadata": {},
     "output_type": "execute_result"
    }
   ],
   "source": [
    "# Tranposing X_test before applying scaling such that mean is zero and variance is one\n",
    "X_test.transpose()"
   ]
  },
  {
   "cell_type": "code",
   "execution_count": 25,
   "metadata": {},
   "outputs": [],
   "source": [
    "# Standardize features by removing the mean and scaling to unit variance (sklearn.preprocessing)\n",
    "scaler = StandardScaler()\n",
    "X_train = scaler.fit_transform(X_train) # Output in a numpy.ndarray\n",
    "X_test = scaler.fit_transform(X_test) # Output in a numpy.ndarray"
   ]
  },
  {
   "cell_type": "code",
   "execution_count": 26,
   "metadata": {},
   "outputs": [
    {
     "data": {
      "text/plain": [
       "array([[-0.00235557, -0.00852774,  0.01804893, ...,  0.00599336,\n",
       "        -0.00654212,  0.00831333],\n",
       "       [-0.00205404, -0.0074516 ,  0.01868969, ...,  0.00685579,\n",
       "        -0.00580352,  0.00815701],\n",
       "       [-0.00579778, -0.00938685,  0.01673115, ...,  0.00523005,\n",
       "        -0.00686528,  0.00666449],\n",
       "       ..., \n",
       "       [ 0.0341983 ,  0.03109682,  0.02910084, ...,  0.03572195,\n",
       "         0.0299112 ,  0.02978874],\n",
       "       [ 0.02736753,  0.02803863,  0.02275218, ...,  0.03191466,\n",
       "         0.0266614 ,  0.02618942],\n",
       "       [ 0.01805157,  0.02216476,  0.01410023, ...,  0.02628002,\n",
       "         0.02060995,  0.02271046]])"
      ]
     },
     "execution_count": 26,
     "metadata": {},
     "output_type": "execute_result"
    }
   ],
   "source": [
    "X_train.transpose() # Transpose back to original dimensions"
   ]
  },
  {
   "cell_type": "code",
   "execution_count": 27,
   "metadata": {},
   "outputs": [
    {
     "data": {
      "text/plain": [
       "array([[-0.03143654,  0.41497541,  0.02615413, ..., -0.04525719,\n",
       "        -0.03370329,  0.20313139],\n",
       "       [-0.05057432,  0.39343385,  0.00629912, ..., -0.0620191 ,\n",
       "        -0.05173276,  0.16210798],\n",
       "       [-0.03559448,  0.41363759,  0.01894572, ..., -0.04578193,\n",
       "        -0.0385983 ,  0.16563567],\n",
       "       ..., \n",
       "       [-0.00907555, -0.2624662 , -0.03001166, ..., -0.01227304,\n",
       "        -0.01373939, -0.04209481],\n",
       "       [ 0.00470934, -0.26591026, -0.02760726, ..., -0.02219864,\n",
       "        -0.02440852, -0.03107299],\n",
       "       [-0.00786554, -0.22375419, -0.01066057, ..., -0.01189145,\n",
       "        -0.01200494, -0.00127881]])"
      ]
     },
     "execution_count": 27,
     "metadata": {},
     "output_type": "execute_result"
    }
   ],
   "source": [
    "X_test.transpose() # Transpose back to original dimensions"
   ]
  },
  {
   "cell_type": "code",
   "execution_count": 28,
   "metadata": {},
   "outputs": [],
   "source": [
    "# Fix random seed for reproducibility\n",
    "seed = 10\n",
    "np.random.seed(seed)"
   ]
  },
  {
   "cell_type": "code",
   "execution_count": null,
   "metadata": {},
   "outputs": [],
   "source": []
  },
  {
   "cell_type": "code",
   "execution_count": 29,
   "metadata": {},
   "outputs": [
    {
     "name": "stderr",
     "output_type": "stream",
     "text": [
      "Using TensorFlow backend.\n"
     ]
    }
   ],
   "source": [
    "# Importing Keras libraries\n",
    "\n",
    "from keras.models import Sequential, Model\n",
    "from keras.layers import Conv1D, MaxPool1D, Dense, Dropout, Flatten\n",
    "from keras.layers import BatchNormalization, Input, concatenate, Activation\n",
    "from keras.optimizers import Adam, SGD, RMSprop, Adagrad, Adadelta, Adamax, Nadam\n",
    "from keras.callbacks import ModelCheckpoint "
   ]
  },
  {
   "cell_type": "code",
   "execution_count": 30,
   "metadata": {},
   "outputs": [],
   "source": [
    "#Convert data into 3d tensor (Input 0 in Conv1D is incompatible with layer conv1d_1: expected ndim=3, found ndim=2)\n",
    "X_train = np.reshape(X_train,(X_train.shape[0],X_train.shape[1],1))\n",
    "X_test = np.reshape(X_test,(X_test.shape[0],X_test.shape[1],1))"
   ]
  },
  {
   "cell_type": "code",
   "execution_count": 31,
   "metadata": {},
   "outputs": [
    {
     "data": {
      "text/plain": [
       "(570, 3197, 1)"
      ]
     },
     "execution_count": 31,
     "metadata": {},
     "output_type": "execute_result"
    }
   ],
   "source": [
    "# Checking shape of X_test tensor\n",
    "X_test.shape"
   ]
  },
  {
   "cell_type": "code",
   "execution_count": 32,
   "metadata": {},
   "outputs": [
    {
     "data": {
      "text/plain": [
       "(5087, 3197, 1)"
      ]
     },
     "execution_count": 32,
     "metadata": {},
     "output_type": "execute_result"
    }
   ],
   "source": [
    "# Checking shape of X_train_new tensor\n",
    "X_train.shape"
   ]
  },
  {
   "cell_type": "markdown",
   "metadata": {},
   "source": [
    "#### Data exploration and preparation ended (above)"
   ]
  },
  {
   "cell_type": "markdown",
   "metadata": {},
   "source": [
    "# Ending Data Preparation"
   ]
  },
  {
   "cell_type": "code",
   "execution_count": null,
   "metadata": {},
   "outputs": [],
   "source": []
  },
  {
   "cell_type": "markdown",
   "metadata": {},
   "source": [
    "# GRID SEARCH "
   ]
  },
  {
   "cell_type": "markdown",
   "metadata": {},
   "source": [
    "## Grid Search Implementation"
   ]
  },
  {
   "cell_type": "markdown",
   "metadata": {},
   "source": [
    "Reference on using GridSearch for tuning Hyperparameters for DL models:\n",
    "\n",
    "https://machinelearningmastery.com/grid-search-hyperparameters-deep-learning-models-python-keras/"
   ]
  },
  {
   "cell_type": "code",
   "execution_count": null,
   "metadata": {},
   "outputs": [],
   "source": []
  },
  {
   "cell_type": "markdown",
   "metadata": {},
   "source": [
    "# GRID SEARCH 8cnn, 2dnn"
   ]
  },
  {
   "cell_type": "code",
   "execution_count": 33,
   "metadata": {},
   "outputs": [],
   "source": [
    "# Selecting a subset of the training set\n",
    "X_GS1000 = X_train[0:1000,:]\n",
    "y_GS1000 = y_train[0:1000,:]"
   ]
  },
  {
   "cell_type": "code",
   "execution_count": null,
   "metadata": {},
   "outputs": [],
   "source": []
  },
  {
   "cell_type": "code",
   "execution_count": 34,
   "metadata": {},
   "outputs": [],
   "source": [
    "# Use scikit-learn to grid search the batch size and epochs\n",
    "from sklearn.model_selection import GridSearchCV\n",
    "from keras.wrappers.scikit_learn import KerasClassifier\n",
    "# Function to create model, required for KerasClassifier\n",
    "def create_model(lr=0.001, momentum=0.0, dropout_rate=0.2, filters=4, activation='relu'):\n",
    "    # create model\n",
    "    model = Sequential()\n",
    "    # Defining network architecture\n",
    "    model.add(Conv1D(filters=filters, kernel_size=6, activation=activation, input_shape=(3197,1)))\n",
    "    model.add(Conv1D(filters=filters, kernel_size=6, activation=activation))\n",
    "    model.add(MaxPool1D(strides=4))\n",
    "    model.add(Dropout(dropout_rate))\n",
    "    model.add(BatchNormalization())\n",
    "    model.add(Conv1D(filters=filters*2, kernel_size=6, activation=activation))\n",
    "    model.add(Conv1D(filters=filters*2, kernel_size=6, activation=activation))\n",
    "    model.add(MaxPool1D(strides=4))\n",
    "    model.add(Dropout(dropout_rate))\n",
    "    model.add(BatchNormalization())\n",
    "    model.add(Conv1D(filters=filters*4, kernel_size=6, activation=activation))\n",
    "    model.add(Conv1D(filters=filters*4, kernel_size=6, activation=activation))\n",
    "    model.add(MaxPool1D(strides=4))\n",
    "    model.add(Dropout(dropout_rate))\n",
    "    model.add(BatchNormalization())\n",
    "    model.add(Conv1D(filters=filters*8, kernel_size=6, activation=activation))\n",
    "    model.add(Conv1D(filters=filters*8, kernel_size=6, activation=activation))\n",
    "    model.add(MaxPool1D(strides=4))\n",
    "    model.add(Dropout(dropout_rate))\n",
    "    model.add(BatchNormalization())\n",
    "    model.add(Flatten())\n",
    "    model.add(Dense(filters*8, activation=activation))\n",
    "    model.add(Dropout(dropout_rate))\n",
    "    model.add(Dense(1, activation='sigmoid'))\n",
    "    # Compile model\n",
    "    optimizer = SGD(lr=lr, momentum=momentum)\n",
    "    model.compile(optimizer=optimizer, loss=\"binary_crossentropy\", metrics=[\"accuracy\"])\n",
    "    return model\n",
    "# Fix random seed for reproducibility (done above on previous cells)\n",
    "# Dataset was created in previous section\n"
   ]
  },
  {
   "cell_type": "code",
   "execution_count": 35,
   "metadata": {},
   "outputs": [
    {
     "name": "stdout",
     "output_type": "stream",
     "text": [
      "Epoch 1/10\n",
      "Epoch 1/10\n",
      "Epoch 1/10\n",
      "Epoch 1/10\n",
      "5s - loss: 0.5893 - acc: 0.6907\n",
      "Epoch 2/10\n",
      "5s - loss: 0.5392 - acc: 0.7207\n",
      "Epoch 3/10\n",
      "5s - loss: 0.4854 - acc: 0.7598\n",
      "Epoch 4/10\n",
      "5s - loss: 0.4780 - acc: 0.7658\n",
      "Epoch 5/10\n",
      "23s - loss: 0.6830 - acc: 0.7106\n",
      "Epoch 2/10\n",
      "23s - loss: 0.6821 - acc: 0.7297\n",
      "Epoch 2/10\n",
      "23s - loss: 0.6830 - acc: 0.7106\n",
      "Epoch 2/10\n",
      "5s - loss: 0.4706 - acc: 0.7838\n",
      "Epoch 6/10\n",
      "5s - loss: 0.4166 - acc: 0.7958\n",
      "Epoch 7/10\n",
      "5s - loss: 0.3899 - acc: 0.8529\n",
      "Epoch 8/10\n",
      "5s - loss: 0.3815 - acc: 0.8438\n",
      "Epoch 9/10\n",
      "5s - loss: 0.3820 - acc: 0.8318\n",
      "Epoch 10/10\n",
      "22s - loss: 0.6789 - acc: 0.7793\n",
      "Epoch 3/10\n",
      "23s - loss: 0.6803 - acc: 0.7481\n",
      "Epoch 3/10\n",
      "23s - loss: 0.6803 - acc: 0.7481\n",
      "Epoch 3/10\n",
      "5s - loss: 0.3312 - acc: 0.8784\n",
      "Epoch 1/10\n",
      "21s - loss: 0.6762 - acc: 0.8348\n",
      "Epoch 4/10\n",
      "21s - loss: 0.6786 - acc: 0.7841\n",
      "Epoch 4/10\n",
      "21s - loss: 0.6786 - acc: 0.7841\n",
      "Epoch 4/10\n",
      "6s - loss: 0.7775 - acc: 0.5202\n",
      "Epoch 2/10\n",
      "5s - loss: 0.8130 - acc: 0.4978\n",
      "Epoch 3/10\n",
      "5s - loss: 0.7074 - acc: 0.6042\n",
      "Epoch 4/10\n",
      "5s - loss: 0.6930 - acc: 0.6072\n",
      "Epoch 5/10\n",
      "5s - loss: 0.6376 - acc: 0.6537\n",
      "Epoch 6/10\n",
      "23s - loss: 0.6740 - acc: 0.8453\n",
      "Epoch 5/10\n",
      "23s - loss: 0.6763 - acc: 0.8321\n",
      "23s - loss: 0.6763 - acc: 0.8321\n",
      "Epoch 5/10\n",
      "Epoch 5/10\n",
      "5s - loss: 0.6047 - acc: 0.6822\n",
      "Epoch 7/10\n",
      "5s - loss: 0.5678 - acc: 0.7136\n",
      "Epoch 8/10\n",
      "5s - loss: 0.5703 - acc: 0.7136\n",
      "Epoch 9/10\n",
      "5s - loss: 0.5299 - acc: 0.7421\n",
      "Epoch 10/10\n",
      "23s - loss: 0.6732 - acc: 0.8814\n",
      "Epoch 6/10\n",
      "23s - loss: 0.6752 - acc: 0.8201\n",
      "Epoch 6/10\n",
      "23s - loss: 0.6752 - acc: 0.8201\n",
      "Epoch 6/10\n",
      "5s - loss: 0.5306 - acc: 0.7181\n",
      "Epoch 1/10\n",
      "21s - loss: 0.6696 - acc: 0.9099\n",
      "Epoch 7/10\n",
      "7s - loss: 1.2009 - acc: 0.3118\n",
      "Epoch 2/10\n",
      "21s - loss: 0.6736 - acc: 0.8396\n",
      "Epoch 7/10\n",
      "21s - loss: 0.6736 - acc: 0.8396\n",
      "Epoch 7/10\n",
      "5s - loss: 1.1217 - acc: 0.3523\n",
      "Epoch 3/10\n",
      "5s - loss: 1.0535 - acc: 0.3748\n",
      "Epoch 4/10\n",
      "5s - loss: 0.9683 - acc: 0.4093\n",
      "Epoch 5/10\n",
      "5s - loss: 0.8911 - acc: 0.4648\n",
      "Epoch 6/10\n",
      "23s - loss: 0.6674 - acc: 0.9384\n",
      "Epoch 8/10\n",
      "23s - loss: 0.6722 - acc: 0.8576\n",
      "Epoch 8/10\n",
      "23s - loss: 0.6722 - acc: 0.8576\n",
      "Epoch 8/10\n",
      "5s - loss: 0.8908 - acc: 0.4828\n",
      "Epoch 7/10\n",
      "5s - loss: 0.8306 - acc: 0.5112\n",
      "Epoch 8/10\n",
      "5s - loss: 0.7677 - acc: 0.5502\n",
      "Epoch 9/10\n",
      "5s - loss: 0.7533 - acc: 0.5847\n",
      "Epoch 10/10\n",
      "23s - loss: 0.6657 - acc: 0.9354\n",
      "Epoch 9/10\n",
      "5s - loss: 0.7364 - acc: 0.5847\n",
      "23s - loss: 0.6700 - acc: 0.8891\n",
      "Epoch 9/10\n",
      "23s - loss: 0.6700 - acc: 0.8891\n",
      "Epoch 9/10\n",
      "Epoch 1/10\n",
      "6s - loss: 0.4191 - acc: 0.8679\n",
      "Epoch 2/10\n",
      "20s - loss: 0.6637 - acc: 0.9459\n",
      "Epoch 10/10\n",
      "21s - loss: 0.6687 - acc: 0.8861\n",
      "Epoch 10/10\n",
      "21s - loss: 0.6687 - acc: 0.8861\n",
      "Epoch 10/10\n",
      "4s - loss: 0.1818 - acc: 0.9685\n",
      "Epoch 3/10\n",
      "4s - loss: 0.1287 - acc: 0.9775\n",
      "Epoch 4/10\n",
      "4s - loss: 0.1036 - acc: 0.9880\n",
      "Epoch 5/10\n",
      "4s - loss: 0.0976 - acc: 0.9820\n",
      "Epoch 6/10\n",
      "4s - loss: 0.0878 - acc: 0.9820\n",
      "Epoch 7/10\n",
      "23s - loss: 0.6601 - acc: 0.9655\n",
      "4s - loss: 0.0852 - acc: 0.9835\n",
      "Epoch 8/10\n",
      "22s - loss: 0.6675 - acc: 0.9010\n",
      "23s - loss: 0.6675 - acc: 0.9010\n",
      "4s - loss: 0.0828 - acc: 0.9790\n",
      "Epoch 9/10\n",
      "3s - loss: 0.0747 - acc: 0.9850\n",
      "Epoch 10/10\n",
      "Epoch 1/10\n",
      "2s - loss: 0.0776 - acc: 0.9805\n",
      "Epoch 1/10\n",
      "Epoch 1/10\n",
      "4s - loss: 0.5361 - acc: 0.7976\n",
      "Epoch 2/10\n",
      "4s - loss: 0.5048 - acc: 0.8111\n",
      "Epoch 2/10\n",
      "5s - loss: 0.6872 - acc: 0.5285\n",
      "Epoch 2/10\n",
      "3s - loss: 0.3494 - acc: 0.9370\n",
      "Epoch 3/10\n",
      "3s - loss: 0.3296 - acc: 0.9355\n",
      "Epoch 3/10\n",
      "Epoch 1/10\n",
      "3s - loss: 0.6713 - acc: 0.8018\n",
      "Epoch 3/10\n",
      "3s - loss: 0.2873 - acc: 0.9325\n",
      "Epoch 4/10\n",
      "3s - loss: 0.2691 - acc: 0.9415\n",
      "Epoch 4/10\n",
      "3s - loss: 0.6703 - acc: 0.9715\n",
      "Epoch 4/10\n",
      "4s - loss: 0.2803 - acc: 0.9355\n",
      "Epoch 5/10\n",
      "6s - loss: 0.7482 - acc: 0.1664\n",
      "Epoch 2/10\n",
      "4s - loss: 0.2600 - acc: 0.9385\n",
      "Epoch 5/10\n",
      "4s - loss: 0.6585 - acc: 0.9625\n",
      "Epoch 5/10\n",
      "4s - loss: 0.2605 - acc: 0.9370\n",
      "Epoch 6/10\n",
      "4s - loss: 0.7157 - acc: 0.3283\n",
      "Epoch 3/10\n",
      "4s - loss: 0.2483 - acc: 0.9400\n",
      "Epoch 6/10\n",
      "4s - loss: 0.6473 - acc: 0.9850\n",
      "Epoch 6/10\n",
      "4s - loss: 0.2529 - acc: 0.9340\n",
      "Epoch 7/10\n",
      "4s - loss: 0.7062 - acc: 0.5712\n",
      "Epoch 4/10\n",
      "4s - loss: 0.2397 - acc: 0.9400\n",
      "Epoch 7/10\n",
      "4s - loss: 0.6401 - acc: 0.9880\n",
      "Epoch 7/10\n",
      "4s - loss: 0.2450 - acc: 0.9385\n",
      "Epoch 8/10\n",
      "4s - loss: 0.6759 - acc: 0.8006\n",
      "Epoch 5/10\n",
      "4s - loss: 0.2355 - acc: 0.9415\n",
      "Epoch 8/10\n",
      "4s - loss: 0.6354 - acc: 0.9865\n",
      "Epoch 8/10\n",
      "4s - loss: 0.2475 - acc: 0.9355\n",
      "Epoch 9/10\n",
      "4s - loss: 0.6697 - acc: 0.8906\n",
      "Epoch 6/10\n",
      "4s - loss: 0.2363 - acc: 0.9415\n",
      "Epoch 9/10\n",
      "4s - loss: 0.6262 - acc: 0.9955\n",
      "Epoch 9/10\n",
      "4s - loss: 0.2302 - acc: 0.9385\n",
      "Epoch 10/10\n",
      "4s - loss: 0.6527 - acc: 0.9175\n",
      "Epoch 7/10\n",
      "4s - loss: 0.2214 - acc: 0.9400\n",
      "Epoch 10/10\n",
      "4s - loss: 0.6157 - acc: 0.9895\n",
      "Epoch 10/10\n",
      "4s - loss: 0.2414 - acc: 0.9340\n",
      "4s - loss: 0.6294 - acc: 0.9220\n",
      "Epoch 8/10\n",
      "4s - loss: 0.2294 - acc: 0.9370\n",
      "4s - loss: 0.6195 - acc: 0.9940\n",
      "3s - loss: 0.6376 - acc: 0.9175\n",
      "Epoch 9/10\n",
      "Epoch 1/10\n",
      "2s - loss: 0.6101 - acc: 0.9190\n",
      "Epoch 10/10\n",
      "Epoch 1/10\n",
      "Epoch 1/10\n",
      "3s - loss: 0.6015 - acc: 0.9265\n",
      "4s - loss: 0.7035 - acc: 0.5277\n",
      "Epoch 2/10\n",
      "5s - loss: 0.3685 - acc: 0.8829\n",
      "Epoch 2/10\n",
      "5s - loss: 0.4455 - acc: 0.8246\n",
      "Epoch 2/10\n",
      "4s - loss: 0.6584 - acc: 0.7661\n",
      "Epoch 3/10\n",
      "4s - loss: 0.1547 - acc: 0.9745\n",
      "Epoch 3/10\n",
      "3s - loss: 0.2760 - acc: 0.9160\n",
      "Epoch 3/10\n",
      "3s - loss: 0.6133 - acc: 0.8486\n",
      "Epoch 4/10\n",
      "3s - loss: 0.1229 - acc: 0.9760\n",
      "Epoch 4/10\n",
      "Epoch 1/10\n",
      "3s - loss: 0.2797 - acc: 0.9190\n",
      "Epoch 4/10\n",
      "3s - loss: 0.5372 - acc: 0.8816\n",
      "Epoch 5/10\n",
      "3s - loss: 0.1059 - acc: 0.9820\n",
      "Epoch 5/10\n",
      "4s - loss: 0.2605 - acc: 0.9235\n",
      "Epoch 5/10\n",
      "4s - loss: 0.4429 - acc: 0.9025\n",
      "Epoch 6/10\n",
      "6s - loss: 0.3844 - acc: 0.8561\n",
      "Epoch 2/10\n",
      "4s - loss: 0.0905 - acc: 0.9790\n",
      "Epoch 6/10\n",
      "4s - loss: 0.2631 - acc: 0.9295\n",
      "Epoch 6/10\n",
      "4s - loss: 0.3768 - acc: 0.9250\n",
      "Epoch 7/10\n",
      "4s - loss: 0.2604 - acc: 0.9310\n",
      "Epoch 3/10\n",
      "4s - loss: 0.0825 - acc: 0.9820\n",
      "Epoch 7/10\n",
      "4s - loss: 0.2623 - acc: 0.9280\n",
      "Epoch 7/10\n",
      "4s - loss: 0.3320 - acc: 0.9220\n",
      "Epoch 8/10\n",
      "4s - loss: 0.2476 - acc: 0.9280\n",
      "Epoch 4/10\n",
      "4s - loss: 0.0797 - acc: 0.9850\n",
      "Epoch 8/10\n",
      "4s - loss: 0.2604 - acc: 0.9205\n",
      "Epoch 8/10\n",
      "4s - loss: 0.3004 - acc: 0.9265\n",
      "Epoch 9/10\n",
      "4s - loss: 0.2366 - acc: 0.9340\n",
      "Epoch 5/10\n",
      "4s - loss: 0.0756 - acc: 0.9790\n",
      "Epoch 9/10\n",
      "4s - loss: 0.2507 - acc: 0.9250\n",
      "Epoch 9/10\n",
      "4s - loss: 0.2919 - acc: 0.9355\n",
      "Epoch 10/10\n",
      "4s - loss: 0.2329 - acc: 0.9370\n",
      "Epoch 6/10\n",
      "4s - loss: 0.0644 - acc: 0.9895\n",
      "Epoch 10/10\n",
      "4s - loss: 0.2488 - acc: 0.9325\n",
      "Epoch 10/10\n",
      "4s - loss: 0.2822 - acc: 0.9250\n",
      "4s - loss: 0.2272 - acc: 0.9340\n",
      "Epoch 7/10\n",
      "4s - loss: 0.0596 - acc: 0.9895\n",
      "4s - loss: 0.2458 - acc: 0.9325\n",
      "3s - loss: 0.2266 - acc: 0.9400\n",
      "Epoch 8/10\n",
      "Epoch 1/10\n",
      "2s - loss: 0.2246 - acc: 0.9400\n",
      "Epoch 9/10\n",
      "Epoch 1/10\n",
      "Epoch 1/10\n",
      "3s - loss: 0.2304 - acc: 0.9400\n",
      "Epoch 10/10\n",
      "5s - loss: 0.6734 - acc: 0.5811\n",
      "Epoch 2/10\n",
      "5s - loss: 0.6861 - acc: 0.5622\n",
      "Epoch 2/10\n",
      "6s - loss: 0.6861 - acc: 0.5622\n",
      "Epoch 2/10\n",
      "4s - loss: 0.2169 - acc: 0.9370\n",
      "4s - loss: 0.6611 - acc: 0.5871\n",
      "Epoch 3/10\n",
      "4s - loss: 0.6550 - acc: 0.6177\n",
      "Epoch 3/10\n",
      "3s - loss: 0.6550 - acc: 0.6177\n",
      "Epoch 3/10\n",
      "4s - loss: 0.6299 - acc: 0.6456\n",
      "Epoch 4/10\n",
      "4s - loss: 0.6564 - acc: 0.6102\n",
      "Epoch 4/10\n",
      "3s - loss: 0.6564 - acc: 0.6102\n",
      "Epoch 4/10\n",
      "3s - loss: 0.6121 - acc: 0.6862\n",
      "Epoch 5/10\n",
      "3s - loss: 0.6451 - acc: 0.6102\n",
      "Epoch 5/10\n",
      "3s - loss: 0.6451 - acc: 0.6102\n",
      "Epoch 5/10\n",
      "Epoch 1/10\n",
      "3s - loss: 0.5834 - acc: 0.7147\n",
      "Epoch 6/10\n",
      "3s - loss: 0.5985 - acc: 0.6777\n",
      "Epoch 6/10\n",
      "3s - loss: 0.5985 - acc: 0.6777\n",
      "Epoch 6/10\n",
      "4s - loss: 0.5855 - acc: 0.6937\n",
      "Epoch 7/10\n",
      "4s - loss: 0.6027 - acc: 0.6822\n",
      "Epoch 7/10\n",
      "7s - loss: 0.2527 - acc: 0.9910\n",
      "Epoch 2/10\n",
      "4s - loss: 0.6027 - acc: 0.6822\n",
      "Epoch 7/10\n",
      "4s - loss: 0.5836 - acc: 0.6952\n",
      "Epoch 8/10\n",
      "4s - loss: 0.6044 - acc: 0.6912\n",
      "Epoch 8/10\n",
      "4s - loss: 0.6044 - acc: 0.6912\n",
      "Epoch 8/10\n",
      "5s - loss: 0.2433 - acc: 0.9970\n",
      "Epoch 3/10\n",
      "4s - loss: 0.5595 - acc: 0.7282\n",
      "Epoch 9/10\n",
      "4s - loss: 0.5859 - acc: 0.7001\n",
      "Epoch 9/10\n",
      "4s - loss: 0.5859 - acc: 0.7001\n",
      "Epoch 9/10\n",
      "5s - loss: 0.2422 - acc: 0.9925\n",
      "Epoch 4/10\n",
      "4s - loss: 0.5298 - acc: 0.7898\n",
      "Epoch 10/10\n",
      "4s - loss: 0.5711 - acc: 0.7196\n",
      "Epoch 10/10\n",
      "4s - loss: 0.5711 - acc: 0.7196\n",
      "Epoch 10/10\n",
      "4s - loss: 0.5327 - acc: 0.7673\n",
      "5s - loss: 0.2508 - acc: 0.9940\n",
      "Epoch 5/10\n",
      "4s - loss: 0.5507 - acc: 0.7466\n",
      "4s - loss: 0.5507 - acc: 0.7466\n",
      "4s - loss: 0.2425 - acc: 0.9940\n",
      "Epoch 6/10\n",
      "3s - loss: 0.2367 - acc: 0.9985\n",
      "Epoch 7/10\n",
      "Epoch 1/10\n",
      "Epoch 1/10\n",
      "Epoch 1/10\n",
      "3s - loss: 0.2392 - acc: 0.9955\n",
      "Epoch 8/10\n",
      "5s - loss: 0.7140 - acc: 0.5511\n",
      "Epoch 2/10\n",
      "6s - loss: 0.9831 - acc: 0.1949\n"
     ]
    },
    {
     "name": "stdout",
     "output_type": "stream",
     "text": [
      "Epoch 2/10\n",
      "6s - loss: 0.9831 - acc: 0.1949\n",
      "Epoch 2/10\n",
      "5s - loss: 0.2429 - acc: 1.0000\n",
      "Epoch 9/10\n",
      "4s - loss: 0.5705 - acc: 0.8769\n",
      "Epoch 3/10\n",
      "4s - loss: 0.9512 - acc: 0.2024\n",
      "Epoch 3/10\n",
      "4s - loss: 0.9512 - acc: 0.2024\n",
      "Epoch 3/10\n",
      "5s - loss: 0.2221 - acc: 0.9955\n",
      "Epoch 10/10\n",
      "4s - loss: 0.5371 - acc: 0.9520\n",
      "Epoch 4/10\n",
      "5s - loss: 0.9240 - acc: 0.2639\n",
      "Epoch 4/10\n",
      "5s - loss: 0.9240 - acc: 0.2639\n",
      "Epoch 4/10\n",
      "4s - loss: 0.5430 - acc: 0.9730\n",
      "Epoch 5/10\n",
      "5s - loss: 0.2313 - acc: 0.9910\n",
      "4s - loss: 0.8988 - acc: 0.2774\n",
      "Epoch 5/10\n",
      "4s - loss: 0.8988 - acc: 0.2774\n",
      "Epoch 5/10\n",
      "3s - loss: 0.4685 - acc: 0.9760\n",
      "Epoch 6/10\n",
      "3s - loss: 0.4835 - acc: 0.9760\n",
      "Epoch 7/10\n",
      "4s - loss: 0.9049 - acc: 0.2744\n",
      "Epoch 6/10\n",
      "4s - loss: 0.9049 - acc: 0.2744\n",
      "Epoch 6/10\n",
      "Epoch 1/10\n",
      "3s - loss: 0.4297 - acc: 0.9865\n",
      "Epoch 8/10\n",
      "4s - loss: 0.8635 - acc: 0.2789\n",
      "Epoch 7/10\n",
      "4s - loss: 0.8635 - acc: 0.2789\n",
      "Epoch 7/10\n",
      "3s - loss: 0.4241 - acc: 0.9820\n",
      "Epoch 9/10\n",
      "4s - loss: 0.8303 - acc: 0.3208\n",
      "Epoch 8/10\n",
      "4s - loss: 0.8303 - acc: 0.3208\n",
      "Epoch 8/10\n",
      "6s - loss: 0.6893 - acc: 0.6072\n",
      "Epoch 2/10\n",
      "4s - loss: 0.3613 - acc: 0.9775\n",
      "Epoch 10/10\n",
      "4s - loss: 0.6209 - acc: 0.7886\n",
      "Epoch 3/10\n",
      "5s - loss: 0.8182 - acc: 0.3598\n",
      "Epoch 9/10\n",
      "5s - loss: 0.8182 - acc: 0.3598\n",
      "Epoch 9/10\n",
      "4s - loss: 0.3476 - acc: 0.9910\n",
      "4s - loss: 0.5203 - acc: 0.8996\n",
      "Epoch 4/10\n",
      "4s - loss: 0.7978 - acc: 0.3988\n",
      "Epoch 10/10\n",
      "4s - loss: 0.7978 - acc: 0.3988\n",
      "Epoch 10/10\n",
      "3s - loss: 0.4884 - acc: 0.9085\n",
      "Epoch 5/10\n",
      "4s - loss: 0.7686 - acc: 0.4378\n",
      "4s - loss: 0.7686 - acc: 0.4378\n",
      "Epoch 1/10\n",
      "2s - loss: 0.5101 - acc: 0.9115\n",
      "Epoch 6/10\n",
      "2s - loss: 0.5015 - acc: 0.9085\n",
      "Epoch 7/10\n",
      "4s - loss: 0.5223 - acc: 0.8501\n",
      "Epoch 2/10\n",
      "2s - loss: 0.4999 - acc: 0.9055\n",
      "Epoch 8/10\n",
      "2s - loss: 0.4206 - acc: 0.9040\n",
      "Epoch 3/10\n",
      "2s - loss: 0.4826 - acc: 0.9340\n",
      "Epoch 9/10\n",
      "2s - loss: 0.4545 - acc: 0.9205\n",
      "Epoch 4/10\n",
      "2s - loss: 0.5091 - acc: 0.9295\n",
      "Epoch 10/10\n",
      "2s - loss: 0.4065 - acc: 0.9295\n",
      "Epoch 5/10\n",
      "2s - loss: 0.4289 - acc: 0.9325\n",
      "1s - loss: 0.4586 - acc: 0.9175\n",
      "Epoch 6/10\n",
      "1s - loss: 0.4093 - acc: 0.9250\n",
      "Epoch 7/10\n",
      "1s - loss: 0.3740 - acc: 0.9355\n",
      "Epoch 8/10\n",
      "1s - loss: 0.3466 - acc: 0.9355\n",
      "Epoch 9/10\n",
      "1s - loss: 0.3459 - acc: 0.9460\n",
      "Epoch 10/10\n",
      "1s - loss: 0.3498 - acc: 0.9355\n",
      "Epoch 1/10\n",
      "9s - loss: 0.6817 - acc: 0.7400\n",
      "Epoch 2/10\n",
      "9s - loss: 0.6797 - acc: 0.7600\n",
      "Epoch 3/10\n",
      "9s - loss: 0.6760 - acc: 0.8150\n",
      "Epoch 4/10\n",
      "9s - loss: 0.6732 - acc: 0.8540\n",
      "Epoch 5/10\n",
      "9s - loss: 0.6707 - acc: 0.8860\n",
      "Epoch 6/10\n",
      "9s - loss: 0.6677 - acc: 0.8980\n",
      "Epoch 7/10\n",
      "9s - loss: 0.6641 - acc: 0.9110\n",
      "Epoch 8/10\n",
      "9s - loss: 0.6628 - acc: 0.9280\n",
      "Epoch 9/10\n",
      "9s - loss: 0.6605 - acc: 0.9410\n",
      "Epoch 10/10\n",
      "9s - loss: 0.6571 - acc: 0.9490\n"
     ]
    }
   ],
   "source": [
    "# Create model\n",
    "model = KerasClassifier(build_fn=create_model, epochs=10, batch_size=80, verbose=2)\n",
    "# define the grid search parameters\n",
    "activation = ['softmax', 'softplus', 'softsign', 'relu', 'tanh', 'sigmoid', 'hard_sigmoid', 'linear']\n",
    "param_grid = dict(activation=activation)\n",
    "grid = GridSearchCV(estimator=model, param_grid=param_grid, n_jobs=-1)\n",
    "grid_result = grid.fit(X_GS1000, y_GS1000)\n"
   ]
  },
  {
   "cell_type": "code",
   "execution_count": 36,
   "metadata": {},
   "outputs": [
    {
     "name": "stdout",
     "output_type": "stream",
     "text": [
      "Best: 0.963000 using {'activation': 'softmax'}\n",
      "0.963000 (0.052248) with: {'activation': 'softmax'}\n",
      "0.963000 (0.052248) with: {'activation': 'softplus'}\n",
      "0.963000 (0.052248) with: {'activation': 'softsign'}\n",
      "0.963000 (0.052248) with: {'activation': 'relu'}\n",
      "0.963000 (0.052248) with: {'activation': 'tanh'}\n",
      "0.963000 (0.052248) with: {'activation': 'sigmoid'}\n",
      "0.297000 (0.419392) with: {'activation': 'hard_sigmoid'}\n",
      "0.963000 (0.052248) with: {'activation': 'linear'}\n"
     ]
    }
   ],
   "source": [
    "# summarize results\n",
    "print(\"Best: %f using %s\" % (grid_result.best_score_, grid_result.best_params_))\n",
    "means = grid_result.cv_results_['mean_test_score']\n",
    "stds = grid_result.cv_results_['std_test_score']\n",
    "params = grid_result.cv_results_['params']\n",
    "for mean, stdev, param in zip(means, stds, params):\n",
    "    print(\"%f (%f) with: %r\" % (mean, stdev, param))"
   ]
  },
  {
   "cell_type": "markdown",
   "metadata": {},
   "source": [
    "### Run1: Best: 0.963000 using {'activation': 'softmax'} (8cnn, 2dnn)\n",
    "    0.963000 (0.052248) with: {'activation': 'softmax'}\n",
    "    0.963000 (0.052248) with: {'activation': 'softplus'}\n",
    "    0.963000 (0.052248) with: {'activation': 'softsign'}\n",
    "    0.963000 (0.052248) with: {'activation': 'relu'}\n",
    "    0.963000 (0.052248) with: {'activation': 'tanh'}\n",
    "    0.963000 (0.052248) with: {'activation': 'sigmoid'}\n",
    "    0.297000 (0.419392) with: {'activation': 'hard_sigmoid'}\n",
    "    0.963000 (0.052248) with: {'activation': 'linear'}\n"
   ]
  },
  {
   "cell_type": "code",
   "execution_count": null,
   "metadata": {},
   "outputs": [],
   "source": []
  }
 ],
 "metadata": {
  "kernelspec": {
   "display_name": "Python 3",
   "language": "python",
   "name": "python3"
  },
  "language_info": {
   "codemirror_mode": {
    "name": "ipython",
    "version": 3
   },
   "file_extension": ".py",
   "mimetype": "text/x-python",
   "name": "python",
   "nbconvert_exporter": "python",
   "pygments_lexer": "ipython3",
   "version": "3.5.2"
  }
 },
 "nbformat": 4,
 "nbformat_minor": 2
}
