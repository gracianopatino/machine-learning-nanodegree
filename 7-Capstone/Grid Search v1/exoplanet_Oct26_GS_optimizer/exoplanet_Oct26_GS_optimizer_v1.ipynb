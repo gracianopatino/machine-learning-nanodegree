{
 "cells": [
  {
   "cell_type": "markdown",
   "metadata": {},
   "source": [
    "# Machine Learning Engineer Nanodegree\n",
    "\n",
    "## Capstone project: Exoplanet search (from Kaggle)\n",
    "\n",
    "Student Name: Graciano Patino\n",
    "\n",
    "Kaggle reference: https://www.kaggle.com/keplersmachines/kepler-labelled-time-series-data?/\n",
    "\n",
    "The mission as stated in the Github (https://github.com/winterdelta/KeplerAI) is to build a classification algorithm for identifying if a particular time series input includes an exoplanet or not. It also mentions that a number of methods were tested: 1-D CNN in Torch7, XGBoost in R and PCA in Python. However, none of these methods provided strong results according to the kaggle and Github references. \n",
    "\n",
    "For this project, I would evaluate deep learning algorithms. Per paper in the paragraph (below), these algorithms appear to provide better results compared to the ones already tried as mentioned above.\n",
    "\n",
    "1)\tInitially I would evaluate 1-D CNN using Keras instead of Torch7. \n",
    "2)\tBased on reference paper, I would try adding different number of layers and filters in combination with other CNN parameters. Details would be included in project report.\n",
    "3)\tThe output of the CNNs would be the input to one or more dense layers.\n",
    "4)\tPerformance of each model to be measured as per evaluation metrics section.\n",
    "5)\tPer kaggle source the test set is confirmed to have 5 exoplanets. This will also be useful on checking performance of algorithms. If an algorithm is unable to identify exoplanets on then testing set, then model might not be good. \n",
    "\n",
    "Please that the list above of models considered is not meant to be exhaustive for all possible scenarios in deep learning algorithms. It might be the case that other deep learning algorithms might be considered later should the ones proposed (above) fail in identifying any exoplanet as expected.\n"
   ]
  },
  {
   "cell_type": "markdown",
   "metadata": {},
   "source": [
    "### Project design\n",
    "\n",
    "The workflow for solving this problem would have the following order:\n",
    "\n",
    "    1) Exploring the datasets (check dimensions of data, labels, etc.)\n",
    "    2) Data preprocessing: \n",
    "    2.1) The datasets provided by kaggle are supposed to be clean (for the most part).\n",
    "    2.2) It is noted that the data is not normalized. (Some normalization is required.)\n",
    "    2.3) Github reference (above) mentions that techniques like data augmentation could help as we are dealing with time series. Perhaps systematically shifting rows and adding noise could generate additional realistic (albeit synthetic) trends. This might be explored depending on results from the different algorithms tested for solving the problem.\n",
    "    3) Evaluate machine learning algorithms: This involves building the models and selecting best model by using evaluation metrics and comparing to benchmark model(s).\n",
    "    4) Model tuning to optimize results: This involves using evaluating performance of the model and fine tuning hyper-parameters until a satisfactory model is identified. This is by using evaluation metrics to evaluate performance.\n",
    "    5) Final conclusions.\n"
   ]
  },
  {
   "cell_type": "code",
   "execution_count": 1,
   "metadata": {},
   "outputs": [],
   "source": [
    "# Import libraries necessary for this project\n",
    "import numpy as np\n",
    "import pandas as pd\n",
    "import matplotlib.pyplot as plt\n",
    "import math\n",
    "import itertools\n",
    "from IPython.display import display # Allows the use of display() for DataFrames\n",
    "from get_results import plot_roc_auc, confusion_matrix_com\n",
    "\n",
    "# Pretty display for notebooks\n",
    "%matplotlib inline\n",
    "\n",
    "# Some Sklearn libraries are required\n",
    "from sklearn.metrics import roc_auc_score\n",
    "from sklearn.metrics import precision_recall_curve\n",
    "from sklearn.utils.fixes import signature\n",
    "from sklearn.metrics import average_precision_score"
   ]
  },
  {
   "cell_type": "code",
   "execution_count": 2,
   "metadata": {},
   "outputs": [],
   "source": [
    "# Load the training data from Exoplanet dataset\n",
    "train_data = pd.read_csv('kepler/exoTrain.csv')"
   ]
  },
  {
   "cell_type": "code",
   "execution_count": 3,
   "metadata": {},
   "outputs": [
    {
     "data": {
      "text/plain": [
       "(5087, 3198)"
      ]
     },
     "execution_count": 3,
     "metadata": {},
     "output_type": "execute_result"
    }
   ],
   "source": [
    "# Find dimensions of the train data\n",
    "train_data.shape"
   ]
  },
  {
   "cell_type": "code",
   "execution_count": 4,
   "metadata": {},
   "outputs": [
    {
     "data": {
      "text/plain": [
       "0"
      ]
     },
     "execution_count": 4,
     "metadata": {},
     "output_type": "execute_result"
    }
   ],
   "source": [
    "# Testing  if train_data has any null fields\n",
    "testing = pd.isnull(train_data)\n",
    "testing *= 1\n",
    "testing2 = testing.sum()\n",
    "testing2.sum() # If results is zero, then there a no fields with \"null\" value"
   ]
  },
  {
   "cell_type": "code",
   "execution_count": 5,
   "metadata": {},
   "outputs": [],
   "source": [
    "# Getting X_train and y_train\n",
    "# Using iloc to select data using position instead of label and converting to numpy array using values\n",
    "X_train = train_data.iloc[:,1:].values \n",
    "y_train = train_data.iloc[:,0:1].values "
   ]
  },
  {
   "cell_type": "code",
   "execution_count": 6,
   "metadata": {},
   "outputs": [
    {
     "data": {
      "text/plain": [
       "(5087, 3197)"
      ]
     },
     "execution_count": 6,
     "metadata": {},
     "output_type": "execute_result"
    }
   ],
   "source": [
    "# Find dimensions of the X_train data\n",
    "X_train.shape"
   ]
  },
  {
   "cell_type": "code",
   "execution_count": 7,
   "metadata": {},
   "outputs": [
    {
     "data": {
      "text/plain": [
       "(5087, 1)"
      ]
     },
     "execution_count": 7,
     "metadata": {},
     "output_type": "execute_result"
    }
   ],
   "source": [
    "# Find dimensions of the labels (y_train) data\n",
    "y_train.shape"
   ]
  },
  {
   "cell_type": "code",
   "execution_count": 8,
   "metadata": {},
   "outputs": [
    {
     "data": {
      "text/plain": [
       "array([[2],\n",
       "       [2],\n",
       "       [2],\n",
       "       [2],\n",
       "       [2]])"
      ]
     },
     "execution_count": 8,
     "metadata": {},
     "output_type": "execute_result"
    }
   ],
   "source": [
    "# y_train: Label is 2 for exoplanet and 1 for non-exoplanet\n",
    "y_train[:5]"
   ]
  },
  {
   "cell_type": "code",
   "execution_count": 9,
   "metadata": {},
   "outputs": [],
   "source": [
    "y_train -= 1 # Changing labels to: 1 for exoplanet and 0 for non-exoplanet"
   ]
  },
  {
   "cell_type": "code",
   "execution_count": 10,
   "metadata": {},
   "outputs": [
    {
     "data": {
      "text/plain": [
       "array([[1],\n",
       "       [1],\n",
       "       [1],\n",
       "       [1],\n",
       "       [1]])"
      ]
     },
     "execution_count": 10,
     "metadata": {},
     "output_type": "execute_result"
    }
   ],
   "source": [
    "y_train[:5]"
   ]
  },
  {
   "cell_type": "code",
   "execution_count": 11,
   "metadata": {
    "scrolled": true
   },
   "outputs": [],
   "source": [
    "# Load the testing data from Exoplanet dataset\n",
    "test_data = pd.read_csv('kepler/exoTest.csv')"
   ]
  },
  {
   "cell_type": "code",
   "execution_count": 12,
   "metadata": {},
   "outputs": [
    {
     "data": {
      "text/plain": [
       "(570, 3198)"
      ]
     },
     "execution_count": 12,
     "metadata": {},
     "output_type": "execute_result"
    }
   ],
   "source": [
    "# Find dimensions of the test data\n",
    "test_data.shape"
   ]
  },
  {
   "cell_type": "code",
   "execution_count": 13,
   "metadata": {},
   "outputs": [
    {
     "data": {
      "text/plain": [
       "0"
      ]
     },
     "execution_count": 13,
     "metadata": {},
     "output_type": "execute_result"
    }
   ],
   "source": [
    "# Testing  if test_data has any \"null\" fields\n",
    "testing = pd.isnull(test_data)\n",
    "testing *= 1\n",
    "testing2 = testing.sum()\n",
    "testing2.sum() # If results is zero, then there a no fields with \"null\" value"
   ]
  },
  {
   "cell_type": "code",
   "execution_count": 14,
   "metadata": {},
   "outputs": [],
   "source": [
    "# Getting X_test and y_test\n",
    "# Using iloc to select data using position instead of label and converting to numpy array (using values)\n",
    "X_test = test_data.iloc[:,1:].values\n",
    "y_test = test_data.iloc[:,0:1].values"
   ]
  },
  {
   "cell_type": "code",
   "execution_count": 15,
   "metadata": {},
   "outputs": [
    {
     "data": {
      "text/plain": [
       "(570, 3197)"
      ]
     },
     "execution_count": 15,
     "metadata": {},
     "output_type": "execute_result"
    }
   ],
   "source": [
    "# Find dimensions of the X_test data\n",
    "X_test.shape"
   ]
  },
  {
   "cell_type": "code",
   "execution_count": 16,
   "metadata": {},
   "outputs": [
    {
     "data": {
      "text/plain": [
       "(570, 1)"
      ]
     },
     "execution_count": 16,
     "metadata": {},
     "output_type": "execute_result"
    }
   ],
   "source": [
    "# Find dimensions of the labels (y_test) data\n",
    "y_test.shape"
   ]
  },
  {
   "cell_type": "code",
   "execution_count": 17,
   "metadata": {},
   "outputs": [
    {
     "data": {
      "text/plain": [
       "array([[2],\n",
       "       [2],\n",
       "       [2],\n",
       "       [2],\n",
       "       [2],\n",
       "       [1]])"
      ]
     },
     "execution_count": 17,
     "metadata": {},
     "output_type": "execute_result"
    }
   ],
   "source": [
    "# y_test: Label is 2 for exoplanet and 1 for non-exoplanet\n",
    "y_test[:6]"
   ]
  },
  {
   "cell_type": "code",
   "execution_count": 18,
   "metadata": {},
   "outputs": [],
   "source": [
    "y_test -= 1 # Changing labels to: 1 for exoplanet and 0 for non-exoplanet"
   ]
  },
  {
   "cell_type": "code",
   "execution_count": 19,
   "metadata": {},
   "outputs": [
    {
     "data": {
      "text/plain": [
       "array([[1],\n",
       "       [1],\n",
       "       [1],\n",
       "       [1],\n",
       "       [1],\n",
       "       [0]])"
      ]
     },
     "execution_count": 19,
     "metadata": {},
     "output_type": "execute_result"
    }
   ],
   "source": [
    "y_test[:6]"
   ]
  },
  {
   "cell_type": "code",
   "execution_count": 20,
   "metadata": {},
   "outputs": [],
   "source": [
    "# Normalizing the data since it is not normalized according to Kaggle/Github\n",
    "from sklearn.preprocessing import StandardScaler"
   ]
  },
  {
   "cell_type": "code",
   "execution_count": 21,
   "metadata": {},
   "outputs": [
    {
     "data": {
      "text/plain": [
       "array([[  93.85,   83.81,   20.1 , ...,   61.42,    5.08,  -39.54],\n",
       "       [ -38.88,  -33.83,  -58.54, ...,    6.46,   16.  ,   19.93],\n",
       "       [ 532.64,  535.92,  513.73, ...,  -28.91,  -70.02,  -96.67],\n",
       "       ..., \n",
       "       [ 273.39,  278.  ,  261.73, ...,   88.42,   79.07,   79.43],\n",
       "       [   3.82,    2.09,   -3.29, ...,  -14.55,   -6.41,   -2.55],\n",
       "       [ 323.28,  306.36,  293.16, ...,  -16.72,  -14.09,   27.82]])"
      ]
     },
     "execution_count": 21,
     "metadata": {},
     "output_type": "execute_result"
    }
   ],
   "source": [
    "# Checking X_train data\n",
    "X_train"
   ]
  },
  {
   "cell_type": "code",
   "execution_count": 22,
   "metadata": {},
   "outputs": [
    {
     "data": {
      "text/plain": [
       "array([[  93.85,  -38.88,  532.64, ...,  273.39,    3.82,  323.28],\n",
       "       [  83.81,  -33.83,  535.92, ...,  278.  ,    2.09,  306.36],\n",
       "       [  20.1 ,  -58.54,  513.73, ...,  261.73,   -3.29,  293.16],\n",
       "       ..., \n",
       "       [  61.42,    6.46,  -28.91, ...,   88.42,  -14.55,  -16.72],\n",
       "       [   5.08,   16.  ,  -70.02, ...,   79.07,   -6.41,  -14.09],\n",
       "       [ -39.54,   19.93,  -96.67, ...,   79.43,   -2.55,   27.82]])"
      ]
     },
     "execution_count": 22,
     "metadata": {},
     "output_type": "execute_result"
    }
   ],
   "source": [
    "# Tranposing X_train before applying scaling such that mean is zero and variance is one\n",
    "X_train.transpose()"
   ]
  },
  {
   "cell_type": "code",
   "execution_count": 23,
   "metadata": {},
   "outputs": [
    {
     "data": {
      "text/plain": [
       "array([[  1.19880000e+02,   1.00210000e+02,   8.64600000e+01, ...,\n",
       "          3.57800000e+01,   2.69430000e+02,   5.77200000e+01],\n",
       "       [  5.73659000e+03,   5.69998000e+03,   5.71716000e+03, ...,\n",
       "         -2.36619000e+03,  -2.29486000e+03,  -2.03472000e+03],\n",
       "       [  8.44480000e+02,   8.17490000e+02,   7.70070000e+02, ...,\n",
       "         -1.62680000e+02,  -3.67900000e+01,   3.06300000e+01],\n",
       "       ..., \n",
       "       [ -5.40100000e+01,  -4.41300000e+01,  -4.12300000e+01, ...,\n",
       "          5.47000000e+00,   1.44600000e+01,   1.87000000e+01],\n",
       "       [  9.13600000e+01,   8.56000000e+01,   4.88100000e+01, ...,\n",
       "         -8.43000000e+00,  -6.48000000e+00,   1.76000000e+01],\n",
       "       [  3.07119000e+03,   2.78253000e+03,   2.60869000e+03, ...,\n",
       "         -2.77220000e+02,  -6.96300000e+01,   1.21560000e+02]])"
      ]
     },
     "execution_count": 23,
     "metadata": {},
     "output_type": "execute_result"
    }
   ],
   "source": [
    "# # Checking X_train data\n",
    "X_test"
   ]
  },
  {
   "cell_type": "code",
   "execution_count": 24,
   "metadata": {},
   "outputs": [
    {
     "data": {
      "text/plain": [
       "array([[  1.19880000e+02,   5.73659000e+03,   8.44480000e+02, ...,\n",
       "         -5.40100000e+01,   9.13600000e+01,   3.07119000e+03],\n",
       "       [  1.00210000e+02,   5.69998000e+03,   8.17490000e+02, ...,\n",
       "         -4.41300000e+01,   8.56000000e+01,   2.78253000e+03],\n",
       "       [  8.64600000e+01,   5.71716000e+03,   7.70070000e+02, ...,\n",
       "         -4.12300000e+01,   4.88100000e+01,   2.60869000e+03],\n",
       "       ..., \n",
       "       [  3.57800000e+01,  -2.36619000e+03,  -1.62680000e+02, ...,\n",
       "          5.47000000e+00,  -8.43000000e+00,  -2.77220000e+02],\n",
       "       [  2.69430000e+02,  -2.29486000e+03,  -3.67900000e+01, ...,\n",
       "          1.44600000e+01,  -6.48000000e+00,  -6.96300000e+01],\n",
       "       [  5.77200000e+01,  -2.03472000e+03,   3.06300000e+01, ...,\n",
       "          1.87000000e+01,   1.76000000e+01,   1.21560000e+02]])"
      ]
     },
     "execution_count": 24,
     "metadata": {},
     "output_type": "execute_result"
    }
   ],
   "source": [
    "# Tranposing X_test before applying scaling such that mean is zero and variance is one\n",
    "X_test.transpose()"
   ]
  },
  {
   "cell_type": "code",
   "execution_count": 25,
   "metadata": {},
   "outputs": [],
   "source": [
    "# Standardize features by removing the mean and scaling to unit variance (sklearn.preprocessing)\n",
    "scaler = StandardScaler()\n",
    "X_train = scaler.fit_transform(X_train) # Output in a numpy.ndarray\n",
    "X_test = scaler.fit_transform(X_test) # Output in a numpy.ndarray"
   ]
  },
  {
   "cell_type": "code",
   "execution_count": 26,
   "metadata": {},
   "outputs": [
    {
     "data": {
      "text/plain": [
       "array([[-0.00235557, -0.00852774,  0.01804893, ...,  0.00599336,\n",
       "        -0.00654212,  0.00831333],\n",
       "       [-0.00205404, -0.0074516 ,  0.01868969, ...,  0.00685579,\n",
       "        -0.00580352,  0.00815701],\n",
       "       [-0.00579778, -0.00938685,  0.01673115, ...,  0.00523005,\n",
       "        -0.00686528,  0.00666449],\n",
       "       ..., \n",
       "       [ 0.0341983 ,  0.03109682,  0.02910084, ...,  0.03572195,\n",
       "         0.0299112 ,  0.02978874],\n",
       "       [ 0.02736753,  0.02803863,  0.02275218, ...,  0.03191466,\n",
       "         0.0266614 ,  0.02618942],\n",
       "       [ 0.01805157,  0.02216476,  0.01410023, ...,  0.02628002,\n",
       "         0.02060995,  0.02271046]])"
      ]
     },
     "execution_count": 26,
     "metadata": {},
     "output_type": "execute_result"
    }
   ],
   "source": [
    "X_train.transpose() # Transpose back to original dimensions"
   ]
  },
  {
   "cell_type": "code",
   "execution_count": 27,
   "metadata": {},
   "outputs": [
    {
     "data": {
      "text/plain": [
       "array([[-0.03143654,  0.41497541,  0.02615413, ..., -0.04525719,\n",
       "        -0.03370329,  0.20313139],\n",
       "       [-0.05057432,  0.39343385,  0.00629912, ..., -0.0620191 ,\n",
       "        -0.05173276,  0.16210798],\n",
       "       [-0.03559448,  0.41363759,  0.01894572, ..., -0.04578193,\n",
       "        -0.0385983 ,  0.16563567],\n",
       "       ..., \n",
       "       [-0.00907555, -0.2624662 , -0.03001166, ..., -0.01227304,\n",
       "        -0.01373939, -0.04209481],\n",
       "       [ 0.00470934, -0.26591026, -0.02760726, ..., -0.02219864,\n",
       "        -0.02440852, -0.03107299],\n",
       "       [-0.00786554, -0.22375419, -0.01066057, ..., -0.01189145,\n",
       "        -0.01200494, -0.00127881]])"
      ]
     },
     "execution_count": 27,
     "metadata": {},
     "output_type": "execute_result"
    }
   ],
   "source": [
    "X_test.transpose() # Transpose back to original dimensions"
   ]
  },
  {
   "cell_type": "code",
   "execution_count": 28,
   "metadata": {},
   "outputs": [],
   "source": [
    "# Fix random seed for reproducibility\n",
    "seed = 10\n",
    "np.random.seed(seed)"
   ]
  },
  {
   "cell_type": "code",
   "execution_count": null,
   "metadata": {},
   "outputs": [],
   "source": []
  },
  {
   "cell_type": "code",
   "execution_count": 29,
   "metadata": {},
   "outputs": [
    {
     "name": "stderr",
     "output_type": "stream",
     "text": [
      "Using TensorFlow backend.\n"
     ]
    }
   ],
   "source": [
    "# Importing Keras libraries\n",
    "\n",
    "from keras.models import Sequential, Model\n",
    "from keras.layers import Conv1D, MaxPool1D, Dense, Dropout, Flatten\n",
    "from keras.layers import BatchNormalization, Input, concatenate, Activation\n",
    "from keras.optimizers import Adam, SGD, RMSprop, Adagrad, Adadelta, Adamax, Nadam\n",
    "from keras.callbacks import ModelCheckpoint "
   ]
  },
  {
   "cell_type": "code",
   "execution_count": 30,
   "metadata": {},
   "outputs": [],
   "source": [
    "#Convert data into 3d tensor (Input 0 in Conv1D is incompatible with layer conv1d_1: expected ndim=3, found ndim=2)\n",
    "X_train = np.reshape(X_train,(X_train.shape[0],X_train.shape[1],1))\n",
    "X_test = np.reshape(X_test,(X_test.shape[0],X_test.shape[1],1))"
   ]
  },
  {
   "cell_type": "code",
   "execution_count": 31,
   "metadata": {},
   "outputs": [
    {
     "data": {
      "text/plain": [
       "(570, 3197, 1)"
      ]
     },
     "execution_count": 31,
     "metadata": {},
     "output_type": "execute_result"
    }
   ],
   "source": [
    "# Checking shape of X_test tensor\n",
    "X_test.shape"
   ]
  },
  {
   "cell_type": "code",
   "execution_count": 32,
   "metadata": {},
   "outputs": [
    {
     "data": {
      "text/plain": [
       "(5087, 3197, 1)"
      ]
     },
     "execution_count": 32,
     "metadata": {},
     "output_type": "execute_result"
    }
   ],
   "source": [
    "# Checking shape of X_train_new tensor\n",
    "X_train.shape"
   ]
  },
  {
   "cell_type": "markdown",
   "metadata": {},
   "source": [
    "#### Data exploration and preparation ended (above)"
   ]
  },
  {
   "cell_type": "markdown",
   "metadata": {},
   "source": [
    "# Ending Data Preparation"
   ]
  },
  {
   "cell_type": "code",
   "execution_count": null,
   "metadata": {},
   "outputs": [],
   "source": []
  },
  {
   "cell_type": "markdown",
   "metadata": {},
   "source": [
    "# GRID SEARCH "
   ]
  },
  {
   "cell_type": "markdown",
   "metadata": {},
   "source": [
    "## Grid Search Implementation"
   ]
  },
  {
   "cell_type": "markdown",
   "metadata": {},
   "source": [
    "Reference on using GridSearch for tuning Hyperparameters for DL models:\n",
    "\n",
    "https://machinelearningmastery.com/grid-search-hyperparameters-deep-learning-models-python-keras/"
   ]
  },
  {
   "cell_type": "code",
   "execution_count": null,
   "metadata": {},
   "outputs": [],
   "source": []
  },
  {
   "cell_type": "markdown",
   "metadata": {},
   "source": [
    "# GRID SEARCH 3cnn, 2dnn"
   ]
  },
  {
   "cell_type": "code",
   "execution_count": 33,
   "metadata": {},
   "outputs": [],
   "source": [
    "# Selecting a subset of the training set\n",
    "X_GS1000 = X_train[0:1000,:]\n",
    "y_GS1000 = y_train[0:1000,:]"
   ]
  },
  {
   "cell_type": "code",
   "execution_count": 34,
   "metadata": {},
   "outputs": [],
   "source": [
    "# Use scikit-learn to grid search the batch size and epochs\n",
    "from sklearn.model_selection import GridSearchCV\n",
    "from keras.wrappers.scikit_learn import KerasClassifier\n",
    "\n",
    "# Function to create model, required for KerasClassifier\n",
    "def create_model(optimizer='adam'):\n",
    "    # create model\n",
    "    model = Sequential()\n",
    "    # Defining network architecture\n",
    "    model.add(Conv1D(filters=8, kernel_size=8, activation='relu', input_shape=(3197,1)))\n",
    "    model.add(MaxPool1D(strides=4))\n",
    "    model.add(Dropout(0.3))\n",
    "    model.add(BatchNormalization())\n",
    "    model.add(Conv1D(filters=16, kernel_size=8, activation='relu'))\n",
    "    model.add(MaxPool1D(strides=4))\n",
    "    model.add(Dropout(0.3))\n",
    "    model.add(BatchNormalization())\n",
    "    model.add(Conv1D(filters=32, kernel_size=8, activation='relu'))\n",
    "    model.add(MaxPool1D(strides=4))\n",
    "    model.add(Dropout(0.3))\n",
    "    model.add(BatchNormalization())\n",
    "    model.add(Flatten())\n",
    "    model.add(Dense(32, activation='relu'))\n",
    "    model.add(Dropout(0.3))\n",
    "    model.add(Dense(1, activation='sigmoid'))\n",
    "    # Compile model\n",
    "    model.compile(optimizer=optimizer, loss=\"binary_crossentropy\", metrics=[\"accuracy\"])\n",
    "    return model\n",
    "# Fix random seed for reproducibility (done above on previous cells)\n",
    "\n",
    "# Dataset was created in previous section\n",
    "# We can use the normalized X_train and y_train from previous cells for Grid Search "
   ]
  },
  {
   "cell_type": "code",
   "execution_count": 35,
   "metadata": {},
   "outputs": [
    {
     "name": "stdout",
     "output_type": "stream",
     "text": [
      "Epoch 1/20\n",
      "Epoch 1/20\n",
      "Epoch 1/20\n",
      "Epoch 1/20\n",
      "21s - loss: 0.0773 - acc: 0.9693\n",
      "Epoch 2/20\n",
      "21s - loss: 0.1630 - acc: 0.9499\n",
      "Epoch 2/20\n",
      "22s - loss: 0.1567 - acc: 0.9531\n",
      "Epoch 2/20\n",
      "21s - loss: 0.0416 - acc: 0.9858\n",
      "Epoch 2/20\n",
      "21s - loss: 0.0159 - acc: 0.9953\n",
      "Epoch 3/20\n",
      "21s - loss: 0.1045 - acc: 0.9767\n",
      "Epoch 3/20\n",
      "21s - loss: 0.0018 - acc: 0.9997\n",
      "Epoch 3/20\n",
      "21s - loss: 0.1063 - acc: 0.9767\n",
      "Epoch 3/20\n",
      "21s - loss: 0.0170 - acc: 0.9935\n",
      "Epoch 4/20\n",
      "21s - loss: 0.0960 - acc: 0.9799\n",
      "Epoch 4/20\n",
      "21s - loss: 3.7209e-04 - acc: 1.0000\n",
      "Epoch 4/20\n",
      "21s - loss: 0.0912 - acc: 0.9823\n",
      "Epoch 4/20\n",
      "21s - loss: 0.0113 - acc: 0.9965\n",
      "Epoch 5/20\n",
      "21s - loss: 0.0824 - acc: 0.9850\n",
      "Epoch 5/20\n",
      "21s - loss: 3.5792e-04 - acc: 0.9997\n",
      "Epoch 5/20\n",
      "21s - loss: 0.0875 - acc: 0.9844\n",
      "Epoch 5/20\n",
      "21s - loss: 0.0102 - acc: 0.9976\n",
      "Epoch 6/20\n",
      "21s - loss: 0.0757 - acc: 0.9876\n",
      "Epoch 6/20\n",
      "21s - loss: 1.9656e-05 - acc: 1.0000\n",
      "Epoch 6/20\n",
      "21s - loss: 0.0849 - acc: 0.9847\n",
      "Epoch 6/20\n",
      "21s - loss: 0.0076 - acc: 0.9976\n",
      "Epoch 7/20\n",
      "21s - loss: 0.0734 - acc: 0.9850\n",
      "Epoch 7/20\n",
      "21s - loss: 2.2666e-05 - acc: 1.0000\n",
      "Epoch 7/20\n",
      "21s - loss: 0.0774 - acc: 0.9870\n",
      "Epoch 7/20\n",
      "21s - loss: 0.0074 - acc: 0.9982\n",
      "Epoch 8/20\n",
      "21s - loss: 0.0745 - acc: 0.9876\n",
      "Epoch 8/20\n",
      "21s - loss: 6.7264e-05 - acc: 1.0000\n",
      "Epoch 8/20\n",
      "21s - loss: 0.0812 - acc: 0.9864\n",
      "Epoch 8/20\n",
      "21s - loss: 0.0055 - acc: 0.9979\n",
      "Epoch 9/20\n",
      "21s - loss: 0.0779 - acc: 0.9855\n",
      "Epoch 9/20\n",
      "21s - loss: 1.8508e-06 - acc: 1.0000\n",
      "Epoch 9/20\n",
      "21s - loss: 0.0725 - acc: 0.9879\n",
      "Epoch 9/20\n",
      "21s - loss: 0.0076 - acc: 0.9971\n",
      "Epoch 10/20\n",
      "21s - loss: 0.0752 - acc: 0.9876\n",
      "Epoch 10/20\n",
      "21s - loss: 3.2898e-05 - acc: 1.0000\n",
      "Epoch 10/20\n",
      "21s - loss: 0.0777 - acc: 0.9870\n",
      "Epoch 10/20\n",
      "21s - loss: 0.0099 - acc: 0.9976\n",
      "Epoch 11/20\n",
      "21s - loss: 0.0706 - acc: 0.9885\n",
      "Epoch 11/20\n",
      "21s - loss: 1.2108e-07 - acc: 1.0000\n",
      "Epoch 11/20\n",
      "21s - loss: 0.0659 - acc: 0.9885\n",
      "Epoch 11/20\n",
      "21s - loss: 0.0083 - acc: 0.9971\n",
      "Epoch 12/20\n",
      "21s - loss: 0.0681 - acc: 0.9882\n",
      "Epoch 12/20\n",
      "21s - loss: 1.0000e-07 - acc: 1.0000\n",
      "Epoch 12/20\n",
      "21s - loss: 0.0734 - acc: 0.9882\n",
      "Epoch 12/20\n",
      "21s - loss: 0.0055 - acc: 0.9982\n",
      "Epoch 13/20\n",
      "21s - loss: 0.0682 - acc: 0.9885\n",
      "Epoch 13/20\n",
      "21s - loss: 1.0000e-07 - acc: 1.0000\n",
      "Epoch 13/20\n",
      "21s - loss: 0.0670 - acc: 0.9888\n",
      "Epoch 13/20\n",
      "21s - loss: 0.0051 - acc: 0.9985\n",
      "Epoch 14/20\n",
      "21s - loss: 0.0706 - acc: 0.9870\n",
      "Epoch 14/20\n",
      "21s - loss: 1.0386e-07 - acc: 1.0000\n",
      "Epoch 14/20\n",
      "21s - loss: 0.0636 - acc: 0.9882\n",
      "Epoch 14/20\n",
      "21s - loss: 0.0031 - acc: 0.9994\n",
      "Epoch 15/20\n",
      "21s - loss: 0.0634 - acc: 0.9882\n",
      "Epoch 15/20\n",
      "21s - loss: 1.8970e-07 - acc: 1.0000\n",
      "Epoch 15/20\n",
      "22s - loss: 0.0620 - acc: 0.9879\n",
      "Epoch 15/20\n",
      "21s - loss: 0.0025 - acc: 0.9994\n",
      "Epoch 16/20\n",
      "21s - loss: 0.0671 - acc: 0.9888\n",
      "Epoch 16/20\n",
      "21s - loss: 4.0256e-07 - acc: 1.0000\n",
      "Epoch 16/20\n",
      "21s - loss: 0.0651 - acc: 0.9879\n",
      "Epoch 16/20\n",
      "21s - loss: 0.0027 - acc: 0.9994\n",
      "Epoch 17/20\n",
      "21s - loss: 0.0700 - acc: 0.9885\n",
      "Epoch 17/20\n",
      "21s - loss: 1.0032e-07 - acc: 1.0000\n",
      "Epoch 17/20\n",
      "21s - loss: 0.0731 - acc: 0.9879\n",
      "Epoch 17/20\n",
      "21s - loss: 0.0028 - acc: 0.9994\n",
      "Epoch 18/20\n",
      "21s - loss: 0.0666 - acc: 0.9888\n",
      "Epoch 18/20\n",
      "21s - loss: 1.0000e-07 - acc: 1.0000\n",
      "Epoch 18/20\n",
      "21s - loss: 0.0658 - acc: 0.9879\n",
      "Epoch 18/20\n",
      "21s - loss: 0.0018 - acc: 0.9997\n",
      "Epoch 19/20\n",
      "21s - loss: 0.0712 - acc: 0.9882\n",
      "Epoch 19/20\n",
      "21s - loss: 1.0000e-07 - acc: 1.0000\n",
      "Epoch 19/20\n",
      "21s - loss: 0.0681 - acc: 0.9885\n",
      "Epoch 19/20\n",
      "21s - loss: 0.0023 - acc: 0.9991\n",
      "Epoch 20/20\n",
      "21s - loss: 0.0611 - acc: 0.9894\n",
      "Epoch 20/20\n",
      "22s - loss: 1.0068e-07 - acc: 1.0000\n",
      "Epoch 20/20\n",
      "21s - loss: 0.0651 - acc: 0.9885\n",
      "Epoch 20/20\n",
      "21s - loss: 9.0900e-04 - acc: 1.0000\n",
      "21s - loss: 0.0624 - acc: 0.9891\n",
      "21s - loss: 1.7602e-04 - acc: 1.0000\n",
      "21s - loss: 0.0669 - acc: 0.9882\n",
      "Epoch 1/20\n",
      "Epoch 1/20\n",
      "Epoch 1/20\n",
      "Epoch 1/20\n",
      "20s - loss: 0.1006 - acc: 0.9820\n",
      "Epoch 2/20\n",
      "20s - loss: 0.1143 - acc: 0.9797\n",
      "Epoch 2/20\n",
      "22s - loss: 0.0232 - acc: 0.9932\n",
      "Epoch 2/20\n",
      "23s - loss: 0.1210 - acc: 0.9711\n",
      "Epoch 2/20\n",
      "21s - loss: 0.0832 - acc: 0.9876\n",
      "Epoch 3/20\n",
      "21s - loss: 0.0900 - acc: 0.9876\n",
      "Epoch 3/20\n",
      "21s - loss: 0.0021 - acc: 0.9994\n",
      "Epoch 3/20\n",
      "21s - loss: 0.0791 - acc: 0.9870\n",
      "Epoch 3/20\n",
      "21s - loss: 0.0969 - acc: 0.9876\n",
      "Epoch 4/20\n",
      "21s - loss: 0.0889 - acc: 0.9882\n",
      "Epoch 4/20\n",
      "21s - loss: 7.8067e-04 - acc: 0.9997\n",
      "Epoch 4/20\n",
      "22s - loss: 0.0777 - acc: 0.9882\n",
      "Epoch 4/20\n",
      "21s - loss: 0.0822 - acc: 0.9888\n",
      "Epoch 5/20\n",
      "21s - loss: 0.0925 - acc: 0.9882\n",
      "Epoch 5/20\n",
      "21s - loss: 4.9803e-04 - acc: 1.0000\n",
      "Epoch 5/20\n",
      "22s - loss: 0.0701 - acc: 0.9888\n",
      "Epoch 5/20\n",
      "21s - loss: 0.0860 - acc: 0.9891\n",
      "Epoch 6/20\n",
      "21s - loss: 0.0812 - acc: 0.9885\n",
      "Epoch 6/20\n",
      "21s - loss: 1.5665e-04 - acc: 1.0000\n",
      "Epoch 6/20\n",
      "22s - loss: 0.0662 - acc: 0.9882\n",
      "Epoch 6/20\n",
      "21s - loss: 0.0907 - acc: 0.9888\n",
      "Epoch 7/20\n",
      "21s - loss: 0.0781 - acc: 0.9891\n",
      "Epoch 7/20\n",
      "21s - loss: 1.7227e-04 - acc: 1.0000\n",
      "Epoch 7/20\n",
      "21s - loss: 0.0667 - acc: 0.9894\n",
      "Epoch 7/20\n",
      "21s - loss: 0.0853 - acc: 0.9891\n",
      "Epoch 8/20\n",
      "21s - loss: 0.0908 - acc: 0.9888\n",
      "Epoch 8/20\n",
      "21s - loss: 2.9077e-04 - acc: 1.0000\n",
      "Epoch 8/20\n",
      "21s - loss: 0.0642 - acc: 0.9894\n",
      "Epoch 8/20\n",
      "21s - loss: 0.0779 - acc: 0.9891\n",
      "Epoch 9/20\n",
      "21s - loss: 0.0894 - acc: 0.9891\n",
      "Epoch 9/20\n",
      "21s - loss: 9.2609e-05 - acc: 1.0000\n",
      "Epoch 9/20\n",
      "21s - loss: 0.0592 - acc: 0.9894\n",
      "Epoch 9/20\n",
      "21s - loss: 0.0882 - acc: 0.9891\n",
      "Epoch 10/20\n",
      "21s - loss: 0.0759 - acc: 0.9891\n",
      "Epoch 10/20\n",
      "21s - loss: 1.1501e-04 - acc: 1.0000\n",
      "Epoch 10/20\n",
      "22s - loss: 0.0715 - acc: 0.9885\n",
      "Epoch 10/20\n",
      "21s - loss: 0.0859 - acc: 0.9885\n",
      "Epoch 11/20\n",
      "21s - loss: 0.0855 - acc: 0.9888\n",
      "Epoch 11/20\n",
      "21s - loss: 1.0401e-04 - acc: 1.0000\n",
      "Epoch 11/20\n",
      "22s - loss: 0.0614 - acc: 0.9888\n",
      "Epoch 11/20\n",
      "21s - loss: 0.0912 - acc: 0.9891\n",
      "Epoch 12/20\n",
      "21s - loss: 0.0851 - acc: 0.9891\n",
      "Epoch 12/20\n",
      "21s - loss: 6.3807e-05 - acc: 1.0000\n",
      "Epoch 12/20\n",
      "21s - loss: 0.0654 - acc: 0.9897\n",
      "Epoch 12/20\n",
      "21s - loss: 0.0861 - acc: 0.9891\n",
      "Epoch 13/20\n",
      "22s - loss: 0.0811 - acc: 0.9891\n",
      "Epoch 13/20\n",
      "21s - loss: 8.9071e-04 - acc: 0.9994\n",
      "Epoch 13/20\n",
      "21s - loss: 0.0596 - acc: 0.9891\n",
      "Epoch 13/20\n",
      "21s - loss: 0.0880 - acc: 0.9891\n",
      "Epoch 14/20\n",
      "21s - loss: 0.0822 - acc: 0.9888\n",
      "Epoch 14/20\n",
      "22s - loss: 3.3615e-04 - acc: 1.0000\n",
      "Epoch 14/20\n",
      "22s - loss: 0.0589 - acc: 0.9891\n",
      "Epoch 14/20\n",
      "21s - loss: 0.0826 - acc: 0.9888\n",
      "Epoch 15/20\n",
      "21s - loss: 0.0836 - acc: 0.9891\n",
      "Epoch 15/20\n",
      "21s - loss: 5.9530e-05 - acc: 1.0000\n",
      "Epoch 15/20\n",
      "21s - loss: 0.0601 - acc: 0.9894\n",
      "Epoch 15/20\n",
      "21s - loss: 0.0842 - acc: 0.9888\n",
      "Epoch 16/20\n",
      "21s - loss: 0.0702 - acc: 0.9891\n",
      "Epoch 16/20\n",
      "21s - loss: 7.6137e-05 - acc: 1.0000\n",
      "Epoch 16/20\n",
      "22s - loss: 0.0620 - acc: 0.9891\n",
      "Epoch 16/20\n",
      "21s - loss: 0.0911 - acc: 0.9891\n",
      "Epoch 17/20\n",
      "21s - loss: 0.0861 - acc: 0.9891\n",
      "Epoch 17/20\n",
      "21s - loss: 6.9538e-05 - acc: 1.0000\n",
      "Epoch 17/20\n",
      "21s - loss: 0.0611 - acc: 0.9894\n",
      "Epoch 17/20\n",
      "21s - loss: 0.0768 - acc: 0.9891\n",
      "Epoch 18/20\n",
      "21s - loss: 0.0852 - acc: 0.9891\n",
      "Epoch 18/20\n",
      "21s - loss: 2.5482e-04 - acc: 1.0000\n",
      "Epoch 18/20\n",
      "22s - loss: 0.0634 - acc: 0.9879\n",
      "Epoch 18/20\n",
      "21s - loss: 0.0775 - acc: 0.9891\n",
      "Epoch 19/20\n",
      "21s - loss: 0.0846 - acc: 0.9888\n",
      "Epoch 19/20\n",
      "21s - loss: 2.5790e-04 - acc: 1.0000\n",
      "Epoch 19/20\n",
      "22s - loss: 0.0589 - acc: 0.9891\n",
      "Epoch 19/20\n",
      "21s - loss: 0.0830 - acc: 0.9891\n",
      "Epoch 20/20\n",
      "21s - loss: 0.0877 - acc: 0.9891\n",
      "Epoch 20/20\n",
      "21s - loss: 1.1113e-04 - acc: 1.0000\n",
      "Epoch 20/20\n",
      "22s - loss: 0.0530 - acc: 0.9900\n",
      "Epoch 20/20\n",
      "21s - loss: 0.0793 - acc: 0.9891\n",
      "21s - loss: 0.0830 - acc: 0.9891\n",
      "21s - loss: 3.9905e-05 - acc: 1.0000\n",
      "21s - loss: 0.0519 - acc: 0.9897\n",
      "Epoch 1/20\n",
      "Epoch 1/20\n",
      "Epoch 1/20\n",
      "Epoch 1/20\n",
      "19s - loss: 0.1369 - acc: 0.9758\n",
      "Epoch 2/20\n",
      "21s - loss: 0.0924 - acc: 0.9717\n",
      "Epoch 2/20\n",
      "21s - loss: 0.1701 - acc: 0.9581\n",
      "Epoch 2/20\n",
      "23s - loss: 0.1811 - acc: 0.9484\n",
      "Epoch 2/20\n",
      "21s - loss: 0.0783 - acc: 0.9882\n",
      "Epoch 3/20\n",
      "21s - loss: 0.0143 - acc: 0.9988\n",
      "Epoch 3/20\n",
      "22s - loss: 0.0901 - acc: 0.9858\n",
      "Epoch 3/20\n",
      "22s - loss: 0.0941 - acc: 0.9838\n",
      "Epoch 3/20\n",
      "21s - loss: 0.0716 - acc: 0.9885\n",
      "Epoch 4/20\n",
      "22s - loss: 0.0076 - acc: 0.9988\n",
      "Epoch 4/20\n",
      "21s - loss: 0.0809 - acc: 0.9882\n",
      "Epoch 4/20\n",
      "22s - loss: 0.0856 - acc: 0.9850\n",
      "Epoch 4/20\n",
      "21s - loss: 0.0651 - acc: 0.9885\n",
      "Epoch 5/20\n",
      "22s - loss: 0.0059 - acc: 0.9988\n",
      "Epoch 5/20\n",
      "22s - loss: 0.0860 - acc: 0.9876\n",
      "Epoch 5/20\n",
      "22s - loss: 0.0854 - acc: 0.9882\n",
      "Epoch 5/20\n",
      "21s - loss: 0.0629 - acc: 0.9891\n",
      "Epoch 6/20\n",
      "21s - loss: 9.9548e-04 - acc: 1.0000\n",
      "Epoch 6/20\n",
      "21s - loss: 0.0775 - acc: 0.9885\n",
      "Epoch 6/20\n",
      "21s - loss: 0.0638 - acc: 0.9888\n"
     ]
    },
    {
     "name": "stdout",
     "output_type": "stream",
     "text": [
      "Epoch 7/20\n",
      "22s - loss: 0.0780 - acc: 0.9888\n",
      "Epoch 6/20\n",
      "21s - loss: 0.0015 - acc: 0.9994\n",
      "Epoch 7/20\n",
      "21s - loss: 0.0821 - acc: 0.9882\n",
      "Epoch 7/20\n",
      "21s - loss: 0.0616 - acc: 0.9891\n",
      "Epoch 8/20\n",
      "22s - loss: 0.0824 - acc: 0.9882\n",
      "Epoch 7/20\n",
      "21s - loss: 7.4817e-04 - acc: 0.9997\n",
      "Epoch 8/20\n",
      "22s - loss: 0.0835 - acc: 0.9882\n",
      "Epoch 8/20\n",
      "21s - loss: 0.0633 - acc: 0.9885\n",
      "Epoch 9/20\n",
      "22s - loss: 0.0815 - acc: 0.9888\n",
      "Epoch 8/20\n",
      "22s - loss: 5.8495e-04 - acc: 0.9997\n",
      "Epoch 9/20\n",
      "22s - loss: 0.0748 - acc: 0.9891\n",
      "Epoch 9/20\n",
      "21s - loss: 0.0647 - acc: 0.9891\n",
      "Epoch 10/20\n",
      "22s - loss: 0.0785 - acc: 0.9885\n",
      "Epoch 9/20\n",
      "22s - loss: 1.7670e-04 - acc: 1.0000\n",
      "Epoch 10/20\n",
      "21s - loss: 0.0811 - acc: 0.9876\n",
      "Epoch 10/20\n",
      "21s - loss: 0.0627 - acc: 0.9888\n",
      "Epoch 11/20\n",
      "22s - loss: 0.0853 - acc: 0.9885\n",
      "Epoch 10/20\n",
      "22s - loss: 1.9957e-04 - acc: 1.0000\n",
      "Epoch 11/20\n",
      "21s - loss: 0.0783 - acc: 0.9891\n",
      "Epoch 11/20\n",
      "21s - loss: 0.0542 - acc: 0.9894\n",
      "Epoch 12/20\n",
      "22s - loss: 0.0792 - acc: 0.9888\n",
      "Epoch 11/20\n",
      "22s - loss: 3.5950e-05 - acc: 1.0000\n",
      "Epoch 12/20\n",
      "21s - loss: 0.0813 - acc: 0.9885\n",
      "Epoch 12/20\n",
      "21s - loss: 0.0606 - acc: 0.9888\n",
      "Epoch 13/20\n",
      "22s - loss: 0.0730 - acc: 0.9876\n",
      "Epoch 12/20\n",
      "22s - loss: 2.5529e-04 - acc: 1.0000\n",
      "Epoch 13/20\n",
      "22s - loss: 0.0753 - acc: 0.9885\n",
      "Epoch 13/20\n",
      "21s - loss: 0.0589 - acc: 0.9891\n",
      "Epoch 14/20\n",
      "22s - loss: 0.0754 - acc: 0.9879\n",
      "Epoch 13/20\n",
      "21s - loss: 5.7852e-04 - acc: 0.9997\n",
      "Epoch 14/20\n",
      "21s - loss: 0.0743 - acc: 0.9888\n",
      "Epoch 14/20\n",
      "21s - loss: 0.0561 - acc: 0.9891\n",
      "Epoch 15/20\n",
      "22s - loss: 0.0824 - acc: 0.9882\n",
      "Epoch 14/20\n",
      "22s - loss: 2.9999e-04 - acc: 0.9997\n",
      "Epoch 15/20\n",
      "21s - loss: 0.0762 - acc: 0.9879\n",
      "Epoch 15/20\n",
      "21s - loss: 0.0584 - acc: 0.9891\n",
      "Epoch 16/20\n",
      "22s - loss: 0.0761 - acc: 0.9888\n",
      "Epoch 15/20\n",
      "22s - loss: 1.3781e-05 - acc: 1.0000\n",
      "Epoch 16/20\n",
      "22s - loss: 0.0741 - acc: 0.9888\n",
      "Epoch 16/20\n",
      "21s - loss: 0.0581 - acc: 0.9888\n",
      "Epoch 17/20\n",
      "22s - loss: 0.0744 - acc: 0.9891\n",
      "Epoch 16/20\n",
      "21s - loss: 2.8355e-05 - acc: 1.0000\n",
      "Epoch 17/20\n",
      "22s - loss: 0.0794 - acc: 0.9888\n",
      "Epoch 17/20\n",
      "21s - loss: 0.0532 - acc: 0.9891\n",
      "Epoch 18/20\n",
      "22s - loss: 0.0728 - acc: 0.9885\n",
      "Epoch 17/20\n",
      "21s - loss: 3.0548e-05 - acc: 1.0000\n",
      "Epoch 18/20\n",
      "21s - loss: 0.0788 - acc: 0.9885\n",
      "Epoch 18/20\n",
      "22s - loss: 0.0583 - acc: 0.9897\n",
      "Epoch 19/20\n",
      "22s - loss: 0.0740 - acc: 0.9888\n",
      "Epoch 18/20\n",
      "22s - loss: 3.7191e-04 - acc: 0.9997\n",
      "Epoch 19/20\n",
      "21s - loss: 0.0703 - acc: 0.9888\n",
      "Epoch 19/20\n",
      "21s - loss: 0.0569 - acc: 0.9900\n",
      "Epoch 20/20\n",
      "22s - loss: 0.0720 - acc: 0.9888\n",
      "Epoch 19/20\n",
      "21s - loss: 7.5597e-05 - acc: 1.0000\n",
      "Epoch 20/20\n",
      "21s - loss: 0.0788 - acc: 0.9891\n",
      "Epoch 20/20\n",
      "21s - loss: 0.0577 - acc: 0.9894\n",
      "22s - loss: 0.0772 - acc: 0.9891\n",
      "Epoch 20/20\n",
      "22s - loss: 7.0430e-06 - acc: 1.0000\n",
      "21s - loss: 0.0741 - acc: 0.9891\n",
      "Epoch 1/20\n",
      "19s - loss: 0.0797 - acc: 0.9891\n",
      "Epoch 1/20\n",
      "Epoch 1/20\n",
      "20s - loss: 0.0657 - acc: 0.9785\n",
      "Epoch 2/20\n",
      "Epoch 1/20\n",
      "21s - loss: 0.0915 - acc: 0.9844\n",
      "Epoch 2/20\n",
      "21s - loss: 0.1007 - acc: 0.9835\n",
      "Epoch 2/20\n",
      "20s - loss: 0.0034 - acc: 0.9994\n",
      "Epoch 3/20\n",
      "23s - loss: 0.0652 - acc: 0.9823\n",
      "Epoch 2/20\n",
      "21s - loss: 0.0798 - acc: 0.9882\n",
      "Epoch 3/20\n",
      "21s - loss: 0.0772 - acc: 0.9885\n",
      "Epoch 3/20\n",
      "21s - loss: 0.0018 - acc: 1.0000\n",
      "Epoch 4/20\n",
      "22s - loss: 0.0078 - acc: 0.9985\n",
      "Epoch 3/20\n",
      "21s - loss: 0.0779 - acc: 0.9885\n",
      "Epoch 4/20\n",
      "21s - loss: 0.0755 - acc: 0.9888\n",
      "Epoch 4/20\n",
      "22s - loss: 8.4981e-04 - acc: 0.9997\n",
      "Epoch 5/20\n",
      "22s - loss: 0.0074 - acc: 0.9985\n",
      "Epoch 4/20\n",
      "21s - loss: 0.0841 - acc: 0.9888\n",
      "Epoch 5/20\n",
      "21s - loss: 0.0752 - acc: 0.9888\n",
      "Epoch 5/20\n",
      "21s - loss: 3.4397e-04 - acc: 1.0000\n",
      "Epoch 6/20\n",
      "21s - loss: 0.0035 - acc: 0.9994\n",
      "Epoch 5/20\n",
      "21s - loss: 0.0748 - acc: 0.9894\n",
      "Epoch 6/20\n",
      "21s - loss: 0.0659 - acc: 0.9888\n",
      "Epoch 6/20\n",
      "21s - loss: 2.2224e-04 - acc: 1.0000\n",
      "Epoch 7/20\n",
      "22s - loss: 0.0014 - acc: 0.9997\n",
      "Epoch 6/20\n",
      "21s - loss: 0.0779 - acc: 0.9888\n",
      "Epoch 7/20\n",
      "21s - loss: 0.0763 - acc: 0.9885\n",
      "Epoch 7/20\n",
      "21s - loss: 1.2744e-04 - acc: 1.0000\n",
      "Epoch 8/20\n",
      "22s - loss: 0.0030 - acc: 0.9991\n",
      "Epoch 7/20\n",
      "21s - loss: 0.0723 - acc: 0.9891\n",
      "Epoch 8/20\n",
      "21s - loss: 0.0780 - acc: 0.9888\n",
      "Epoch 8/20\n",
      "21s - loss: 3.5749e-04 - acc: 0.9997\n",
      "Epoch 9/20\n",
      "21s - loss: 0.0797 - acc: 0.9879\n",
      "Epoch 9/20\n",
      "22s - loss: 6.4824e-04 - acc: 1.0000\n",
      "Epoch 8/20\n",
      "21s - loss: 0.0716 - acc: 0.9891\n",
      "Epoch 9/20\n",
      "21s - loss: 1.2079e-04 - acc: 1.0000\n",
      "Epoch 10/20\n",
      "21s - loss: 0.0740 - acc: 0.9888\n",
      "Epoch 10/20\n",
      "21s - loss: 0.0012 - acc: 0.9994\n",
      "Epoch 9/20\n",
      "22s - loss: 0.0715 - acc: 0.9888\n",
      "Epoch 10/20\n",
      "22s - loss: 1.5318e-04 - acc: 1.0000\n",
      "Epoch 11/20\n",
      "21s - loss: 0.0709 - acc: 0.9891\n",
      "Epoch 11/20\n",
      "22s - loss: 7.1618e-04 - acc: 0.9997\n",
      "Epoch 10/20\n",
      "21s - loss: 0.0764 - acc: 0.9894\n",
      "Epoch 11/20\n",
      "21s - loss: 2.0031e-04 - acc: 1.0000\n",
      "Epoch 12/20\n",
      "21s - loss: 0.0743 - acc: 0.9891\n",
      "Epoch 12/20\n",
      "22s - loss: 5.8131e-04 - acc: 1.0000\n",
      "Epoch 11/20\n",
      "21s - loss: 0.0649 - acc: 0.9885\n",
      "Epoch 12/20\n",
      "21s - loss: 2.5522e-04 - acc: 0.9997\n",
      "Epoch 13/20\n",
      "21s - loss: 0.0649 - acc: 0.9894\n",
      "Epoch 13/20\n",
      "21s - loss: 7.8162e-04 - acc: 0.9997\n",
      "Epoch 12/20\n",
      "21s - loss: 0.0621 - acc: 0.9894\n",
      "Epoch 13/20\n",
      "21s - loss: 7.0280e-05 - acc: 1.0000\n",
      "Epoch 14/20\n",
      "21s - loss: 0.0649 - acc: 0.9897\n",
      "Epoch 14/20\n",
      "22s - loss: 0.0010 - acc: 0.9994\n",
      "Epoch 13/20\n",
      "21s - loss: 0.0628 - acc: 0.9891\n",
      "Epoch 14/20\n",
      "21s - loss: 3.0084e-05 - acc: 1.0000\n",
      "Epoch 15/20\n",
      "21s - loss: 0.0704 - acc: 0.9879\n",
      "Epoch 15/20\n",
      "21s - loss: 0.0614 - acc: 0.9888\n",
      "Epoch 15/20\n",
      "22s - loss: 2.3547e-04 - acc: 1.0000\n",
      "Epoch 14/20\n",
      "21s - loss: 5.9820e-05 - acc: 1.0000\n",
      "Epoch 16/20\n",
      "21s - loss: 0.0654 - acc: 0.9900\n",
      "Epoch 16/20\n",
      "21s - loss: 0.0590 - acc: 0.9891\n",
      "Epoch 16/20\n",
      "22s - loss: 2.9057e-04 - acc: 1.0000\n",
      "Epoch 15/20\n",
      "21s - loss: 1.7362e-04 - acc: 1.0000\n",
      "Epoch 17/20\n",
      "21s - loss: 0.0624 - acc: 0.9891\n",
      "Epoch 17/20\n",
      "21s - loss: 0.0581 - acc: 0.9894\n",
      "Epoch 17/20\n",
      "21s - loss: 1.6800e-04 - acc: 1.0000\n",
      "Epoch 16/20\n",
      "22s - loss: 4.6529e-05 - acc: 1.0000\n",
      "Epoch 18/20\n",
      "21s - loss: 0.0667 - acc: 0.9900\n",
      "Epoch 18/20\n",
      "22s - loss: 0.0560 - acc: 0.9891\n",
      "Epoch 18/20\n",
      "21s - loss: 6.0550e-04 - acc: 0.9997\n",
      "Epoch 17/20\n",
      "21s - loss: 5.8008e-05 - acc: 1.0000\n",
      "Epoch 19/20\n",
      "22s - loss: 0.0713 - acc: 0.9885\n",
      "Epoch 19/20\n",
      "22s - loss: 0.0526 - acc: 0.9897\n",
      "Epoch 19/20\n",
      "22s - loss: 1.2595e-04 - acc: 1.0000\n",
      "Epoch 18/20\n",
      "21s - loss: 6.3233e-05 - acc: 1.0000\n",
      "Epoch 20/20\n",
      "21s - loss: 0.0598 - acc: 0.9900\n",
      "Epoch 20/20\n",
      "21s - loss: 0.0555 - acc: 0.9900\n",
      "Epoch 20/20\n",
      "22s - loss: 2.9176e-04 - acc: 1.0000\n",
      "Epoch 19/20\n",
      "22s - loss: 2.1359e-05 - acc: 1.0000\n",
      "21s - loss: 0.0581 - acc: 0.9906\n",
      "21s - loss: 0.0608 - acc: 0.9885\n",
      "21s - loss: 5.4980e-05 - acc: 1.0000\n",
      "Epoch 20/20\n",
      "Epoch 1/20\n",
      "Epoch 1/20\n",
      "18s - loss: 6.9437e-05 - acc: 1.0000\n",
      "Epoch 1/20\n",
      "20s - loss: 0.1279 - acc: 0.9732\n",
      "Epoch 2/20\n",
      "21s - loss: 0.1025 - acc: 0.9788\n",
      "Epoch 2/20\n",
      "Epoch 1/20\n",
      "21s - loss: 0.0327 - acc: 0.9876\n",
      "Epoch 2/20\n",
      "20s - loss: 0.0745 - acc: 0.9867\n",
      "Epoch 3/20\n",
      "21s - loss: 0.0800 - acc: 0.9879\n",
      "Epoch 3/20\n",
      "21s - loss: 8.8269e-04 - acc: 1.0000\n",
      "Epoch 3/20\n",
      "24s - loss: 0.1179 - acc: 0.9761\n",
      "Epoch 2/20\n",
      "21s - loss: 0.0776 - acc: 0.9876\n",
      "Epoch 4/20\n",
      "21s - loss: 0.0674 - acc: 0.9879\n",
      "Epoch 4/20\n",
      "22s - loss: 3.1938e-04 - acc: 1.0000\n",
      "Epoch 4/20\n",
      "22s - loss: 0.0725 - acc: 0.9876\n",
      "Epoch 3/20\n",
      "21s - loss: 0.0663 - acc: 0.9885\n",
      "Epoch 5/20\n",
      "21s - loss: 0.0704 - acc: 0.9885\n",
      "Epoch 5/20\n",
      "21s - loss: 6.7898e-05 - acc: 1.0000\n",
      "Epoch 5/20\n",
      "22s - loss: 0.0840 - acc: 0.9882\n",
      "Epoch 4/20\n",
      "21s - loss: 0.0685 - acc: 0.9882\n",
      "Epoch 6/20\n",
      "21s - loss: 0.0764 - acc: 0.9891\n",
      "Epoch 6/20\n",
      "21s - loss: 1.5483e-04 - acc: 1.0000\n",
      "Epoch 6/20\n",
      "22s - loss: 0.0713 - acc: 0.9873\n",
      "Epoch 5/20\n",
      "21s - loss: 0.0631 - acc: 0.9885\n",
      "Epoch 7/20\n",
      "21s - loss: 0.0687 - acc: 0.9882\n",
      "Epoch 7/20\n",
      "21s - loss: 8.0523e-05 - acc: 1.0000\n",
      "Epoch 7/20\n",
      "22s - loss: 0.0750 - acc: 0.9885\n",
      "Epoch 6/20\n",
      "21s - loss: 0.0635 - acc: 0.9885\n",
      "Epoch 8/20\n",
      "21s - loss: 0.0714 - acc: 0.9882\n",
      "Epoch 8/20\n",
      "21s - loss: 6.3215e-05 - acc: 1.0000\n",
      "Epoch 8/20\n",
      "22s - loss: 0.0665 - acc: 0.9885\n",
      "Epoch 7/20\n",
      "21s - loss: 0.0668 - acc: 0.9885\n",
      "Epoch 9/20\n",
      "21s - loss: 0.0624 - acc: 0.9885\n",
      "Epoch 9/20\n",
      "21s - loss: 4.3166e-05 - acc: 1.0000\n",
      "Epoch 9/20\n",
      "22s - loss: 0.0675 - acc: 0.9888\n",
      "Epoch 8/20\n",
      "21s - loss: 0.0598 - acc: 0.9888\n",
      "Epoch 10/20\n",
      "21s - loss: 0.0644 - acc: 0.9885\n",
      "Epoch 10/20\n",
      "21s - loss: 2.0711e-05 - acc: 1.0000\n",
      "Epoch 10/20\n",
      "22s - loss: 0.0647 - acc: 0.9891\n",
      "Epoch 9/20\n",
      "21s - loss: 0.0617 - acc: 0.9888\n",
      "Epoch 11/20\n",
      "21s - loss: 0.0651 - acc: 0.9888\n",
      "Epoch 11/20\n",
      "21s - loss: 1.6564e-05 - acc: 1.0000\n",
      "Epoch 11/20\n",
      "22s - loss: 0.0666 - acc: 0.9888\n",
      "Epoch 10/20\n",
      "21s - loss: 0.0624 - acc: 0.9885\n"
     ]
    },
    {
     "name": "stdout",
     "output_type": "stream",
     "text": [
      "Epoch 12/20\n",
      "21s - loss: 0.0722 - acc: 0.9888\n",
      "Epoch 12/20\n",
      "21s - loss: 1.5096e-05 - acc: 1.0000\n",
      "Epoch 12/20\n",
      "22s - loss: 0.0625 - acc: 0.9891\n",
      "Epoch 11/20\n",
      "21s - loss: 0.0654 - acc: 0.9891\n",
      "Epoch 13/20\n",
      "21s - loss: 0.0645 - acc: 0.9885\n",
      "Epoch 13/20\n",
      "21s - loss: 4.9084e-06 - acc: 1.0000\n",
      "Epoch 13/20\n",
      "22s - loss: 0.0634 - acc: 0.9888\n",
      "Epoch 12/20\n",
      "21s - loss: 0.0542 - acc: 0.9891\n",
      "Epoch 14/20\n",
      "22s - loss: 0.0615 - acc: 0.9894\n",
      "Epoch 14/20\n",
      "22s - loss: 1.8085e-05 - acc: 1.0000\n",
      "Epoch 14/20\n",
      "22s - loss: 0.0629 - acc: 0.9888\n",
      "Epoch 15/20\n",
      "22s - loss: 0.0665 - acc: 0.9894\n",
      "Epoch 13/20\n",
      "21s - loss: 0.0591 - acc: 0.9891\n",
      "Epoch 15/20\n",
      "21s - loss: 4.5566e-06 - acc: 1.0000\n",
      "Epoch 15/20\n",
      "21s - loss: 0.0558 - acc: 0.9891\n",
      "Epoch 16/20\n",
      "22s - loss: 0.0555 - acc: 0.9888\n",
      "Epoch 14/20\n",
      "21s - loss: 0.0621 - acc: 0.9894\n",
      "Epoch 16/20\n",
      "21s - loss: 7.4063e-06 - acc: 1.0000\n",
      "Epoch 16/20\n",
      "21s - loss: 0.0570 - acc: 0.9894\n",
      "Epoch 17/20\n",
      "22s - loss: 0.0603 - acc: 0.9897\n",
      "Epoch 15/20\n",
      "21s - loss: 0.0629 - acc: 0.9891\n",
      "Epoch 17/20\n",
      "22s - loss: 1.0271e-04 - acc: 1.0000\n",
      "Epoch 17/20\n",
      "21s - loss: 0.0539 - acc: 0.9894\n",
      "Epoch 18/20\n",
      "22s - loss: 0.0594 - acc: 0.9891\n",
      "Epoch 16/20\n",
      "21s - loss: 0.0577 - acc: 0.9888\n",
      "Epoch 18/20\n",
      "21s - loss: 1.5044e-05 - acc: 1.0000\n",
      "Epoch 18/20\n",
      "21s - loss: 0.0517 - acc: 0.9900\n",
      "Epoch 19/20\n",
      "22s - loss: 0.0559 - acc: 0.9897\n",
      "Epoch 17/20\n",
      "21s - loss: 0.0582 - acc: 0.9876\n",
      "Epoch 19/20\n",
      "21s - loss: 1.1598e-05 - acc: 1.0000\n",
      "Epoch 19/20\n",
      "21s - loss: 0.0533 - acc: 0.9888\n",
      "Epoch 20/20\n",
      "22s - loss: 0.0531 - acc: 0.9903\n",
      "Epoch 18/20\n",
      "21s - loss: 0.0562 - acc: 0.9894\n",
      "Epoch 20/20\n",
      "21s - loss: 7.6570e-06 - acc: 1.0000\n",
      "Epoch 20/20\n",
      "21s - loss: 0.0555 - acc: 0.9894\n",
      "22s - loss: 0.0565 - acc: 0.9888\n",
      "Epoch 19/20\n",
      "21s - loss: 0.0568 - acc: 0.9894\n",
      "20s - loss: 5.0599e-06 - acc: 1.0000\n",
      "Epoch 1/20\n",
      "20s - loss: 0.0553 - acc: 0.9891\n",
      "Epoch 20/20\n",
      "16s - loss: 0.1311 - acc: 0.9758\n",
      "Epoch 2/20\n",
      "14s - loss: 0.0563 - acc: 0.9897\n",
      "10s - loss: 0.0911 - acc: 0.9870\n",
      "Epoch 3/20\n",
      "6s - loss: 0.0821 - acc: 0.9888\n",
      "Epoch 4/20\n",
      "7s - loss: 0.0802 - acc: 0.9882\n",
      "Epoch 5/20\n",
      "6s - loss: 0.0704 - acc: 0.9888\n",
      "Epoch 6/20\n",
      "6s - loss: 0.0712 - acc: 0.9885\n",
      "Epoch 7/20\n",
      "7s - loss: 0.0735 - acc: 0.9891\n",
      "Epoch 8/20\n",
      "7s - loss: 0.0667 - acc: 0.9885\n",
      "Epoch 9/20\n",
      "7s - loss: 0.0685 - acc: 0.9888\n",
      "Epoch 10/20\n",
      "6s - loss: 0.0641 - acc: 0.9888\n",
      "Epoch 11/20\n",
      "7s - loss: 0.0662 - acc: 0.9891\n",
      "Epoch 12/20\n",
      "7s - loss: 0.0581 - acc: 0.9888\n",
      "Epoch 13/20\n",
      "6s - loss: 0.0617 - acc: 0.9888\n",
      "Epoch 14/20\n",
      "6s - loss: 0.0612 - acc: 0.9891\n",
      "Epoch 15/20\n",
      "7s - loss: 0.0595 - acc: 0.9891\n",
      "Epoch 16/20\n",
      "6s - loss: 0.0572 - acc: 0.9891\n",
      "Epoch 17/20\n",
      "6s - loss: 0.0580 - acc: 0.9891\n",
      "Epoch 18/20\n",
      "6s - loss: 0.0546 - acc: 0.9891\n",
      "Epoch 19/20\n",
      "6s - loss: 0.0603 - acc: 0.9894\n",
      "Epoch 20/20\n",
      "7s - loss: 0.0548 - acc: 0.9894\n",
      "Epoch 1/20\n",
      "10s - loss: 0.1034 - acc: 0.9778\n",
      "Epoch 2/20\n",
      "10s - loss: 0.0655 - acc: 0.9915\n",
      "Epoch 3/20\n",
      "10s - loss: 0.0593 - acc: 0.9917\n",
      "Epoch 4/20\n",
      "10s - loss: 0.0590 - acc: 0.9921\n",
      "Epoch 5/20\n",
      "10s - loss: 0.0548 - acc: 0.9925\n",
      "Epoch 6/20\n",
      "10s - loss: 0.0537 - acc: 0.9923\n",
      "Epoch 7/20\n",
      "10s - loss: 0.0490 - acc: 0.9919\n",
      "Epoch 8/20\n",
      "10s - loss: 0.0503 - acc: 0.9925\n",
      "Epoch 9/20\n",
      "10s - loss: 0.0478 - acc: 0.9927\n",
      "Epoch 10/20\n",
      "10s - loss: 0.0469 - acc: 0.9925\n",
      "Epoch 11/20\n",
      "10s - loss: 0.0454 - acc: 0.9927\n",
      "Epoch 12/20\n",
      "10s - loss: 0.0473 - acc: 0.9927\n",
      "Epoch 13/20\n",
      "10s - loss: 0.0451 - acc: 0.9927\n",
      "Epoch 14/20\n",
      "10s - loss: 0.0462 - acc: 0.9929\n",
      "Epoch 15/20\n",
      "10s - loss: 0.0463 - acc: 0.9929\n",
      "Epoch 16/20\n",
      "10s - loss: 0.0420 - acc: 0.9929\n",
      "Epoch 17/20\n",
      "10s - loss: 0.0454 - acc: 0.9925\n",
      "Epoch 18/20\n",
      "10s - loss: 0.0437 - acc: 0.9925\n",
      "Epoch 19/20\n",
      "10s - loss: 0.0382 - acc: 0.9927\n",
      "Epoch 20/20\n",
      "10s - loss: 0.0421 - acc: 0.9929\n"
     ]
    }
   ],
   "source": [
    "# Create model\n",
    "model = KerasClassifier(build_fn=create_model, epochs=20, batch_size=20, verbose=2)\n",
    "# define the grid search parameters\n",
    "optimizer = ['SGD', 'RMSprop', 'Adagrad', 'Adadelta', 'Adam', 'Adamax', 'Nadam']\n",
    "param_grid = dict(optimizer=optimizer)\n",
    "grid = GridSearchCV(estimator=model, param_grid=param_grid, n_jobs=-1)\n",
    "grid_result = grid.fit(X_train, y_train)\n"
   ]
  },
  {
   "cell_type": "code",
   "execution_count": 37,
   "metadata": {},
   "outputs": [
    {
     "name": "stdout",
     "output_type": "stream",
     "text": [
      "Best: 0.992727 using {'optimizer': 'Adam'}\n",
      "0.991547 (0.009560) with: {'optimizer': 'SGD'}\n",
      "0.991154 (0.011281) with: {'optimizer': 'RMSprop'}\n",
      "0.992333 (0.010018) with: {'optimizer': 'Adagrad'}\n",
      "0.674268 (0.444826) with: {'optimizer': 'Adadelta'}\n",
      "0.992727 (0.010285) with: {'optimizer': 'Adam'}\n",
      "0.992727 (0.010285) with: {'optimizer': 'Adamax'}\n",
      "0.992727 (0.010285) with: {'optimizer': 'Nadam'}\n"
     ]
    }
   ],
   "source": [
    "# summarize results\n",
    "print(\"Best: %f using %s\" % (grid_result.best_score_, grid_result.best_params_))\n",
    "means = grid_result.cv_results_['mean_test_score']\n",
    "stds = grid_result.cv_results_['std_test_score']\n",
    "params = grid_result.cv_results_['params']\n",
    "for mean, stdev, param in zip(means, stds, params):\n",
    "    print(\"%f (%f) with: %r\" % (mean, stdev, param))"
   ]
  },
  {
   "cell_type": "markdown",
   "metadata": {},
   "source": [
    "### Run # 1: Best: 0.992727 using {'optimizer': 'Adam'}\n",
    "    0.991547 (0.009560) with: {'optimizer': 'SGD'}\n",
    "    0.991154 (0.011281) with: {'optimizer': 'RMSprop'}\n",
    "    0.992333 (0.010018) with: {'optimizer': 'Adagrad'}\n",
    "    0.674268 (0.444826) with: {'optimizer': 'Adadelta'}\n",
    "    0.992727 (0.010285) with: {'optimizer': 'Adam'}\n",
    "    0.992727 (0.010285) with: {'optimizer': 'Adamax'}\n",
    "    0.992727 (0.010285) with: {'optimizer': 'Nadam'}\n"
   ]
  },
  {
   "cell_type": "code",
   "execution_count": null,
   "metadata": {},
   "outputs": [],
   "source": []
  },
  {
   "cell_type": "code",
   "execution_count": null,
   "metadata": {},
   "outputs": [],
   "source": []
  }
 ],
 "metadata": {
  "kernelspec": {
   "display_name": "Python 3",
   "language": "python",
   "name": "python3"
  },
  "language_info": {
   "codemirror_mode": {
    "name": "ipython",
    "version": 3
   },
   "file_extension": ".py",
   "mimetype": "text/x-python",
   "name": "python",
   "nbconvert_exporter": "python",
   "pygments_lexer": "ipython3",
   "version": "3.5.2"
  }
 },
 "nbformat": 4,
 "nbformat_minor": 2
}
