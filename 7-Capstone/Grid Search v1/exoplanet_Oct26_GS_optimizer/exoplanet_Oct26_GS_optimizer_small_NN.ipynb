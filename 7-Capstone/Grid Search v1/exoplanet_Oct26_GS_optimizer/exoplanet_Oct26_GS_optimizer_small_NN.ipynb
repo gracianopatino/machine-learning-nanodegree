{
 "cells": [
  {
   "cell_type": "markdown",
   "metadata": {},
   "source": [
    "# Machine Learning Engineer Nanodegree\n",
    "\n",
    "## Capstone project: Exoplanet search (from Kaggle)\n",
    "\n",
    "Student Name: Graciano Patino\n",
    "\n",
    "Kaggle reference: https://www.kaggle.com/keplersmachines/kepler-labelled-time-series-data?/\n",
    "\n",
    "The mission as stated in the Github (https://github.com/winterdelta/KeplerAI) is to build a classification algorithm for identifying if a particular time series input includes an exoplanet or not. It also mentions that a number of methods were tested: 1-D CNN in Torch7, XGBoost in R and PCA in Python. However, none of these methods provided strong results according to the kaggle and Github references. \n",
    "\n",
    "For this project, I would evaluate deep learning algorithms. Per paper in the paragraph (below), these algorithms appear to provide better results compared to the ones already tried as mentioned above.\n",
    "\n",
    "1)\tInitially I would evaluate 1-D CNN using Keras instead of Torch7. \n",
    "2)\tBased on reference paper, I would try adding different number of layers and filters in combination with other CNN parameters. Details would be included in project report.\n",
    "3)\tThe output of the CNNs would be the input to one or more dense layers.\n",
    "4)\tPerformance of each model to be measured as per evaluation metrics section.\n",
    "5)\tPer kaggle source the test set is confirmed to have 5 exoplanets. This will also be useful on checking performance of algorithms. If an algorithm is unable to identify exoplanets on then testing set, then model might not be good. \n",
    "\n",
    "Please that the list above of models considered is not meant to be exhaustive for all possible scenarios in deep learning algorithms. It might be the case that other deep learning algorithms might be considered later should the ones proposed (above) fail in identifying any exoplanet as expected.\n"
   ]
  },
  {
   "cell_type": "markdown",
   "metadata": {},
   "source": [
    "### Project design\n",
    "\n",
    "The workflow for solving this problem would have the following order:\n",
    "\n",
    "    1) Exploring the datasets (check dimensions of data, labels, etc.)\n",
    "    2) Data preprocessing: \n",
    "    2.1) The datasets provided by kaggle are supposed to be clean (for the most part).\n",
    "    2.2) It is noted that the data is not normalized. (Some normalization is required.)\n",
    "    2.3) Github reference (above) mentions that techniques like data augmentation could help as we are dealing with time series. Perhaps systematically shifting rows and adding noise could generate additional realistic (albeit synthetic) trends. This might be explored depending on results from the different algorithms tested for solving the problem.\n",
    "    3) Evaluate machine learning algorithms: This involves building the models and selecting best model by using evaluation metrics and comparing to benchmark model(s).\n",
    "    4) Model tuning to optimize results: This involves using evaluating performance of the model and fine tuning hyper-parameters until a satisfactory model is identified. This is by using evaluation metrics to evaluate performance.\n",
    "    5) Final conclusions.\n"
   ]
  },
  {
   "cell_type": "code",
   "execution_count": 1,
   "metadata": {},
   "outputs": [],
   "source": [
    "# Import libraries necessary for this project\n",
    "import numpy as np\n",
    "import pandas as pd\n",
    "import matplotlib.pyplot as plt\n",
    "import math\n",
    "import itertools\n",
    "from IPython.display import display # Allows the use of display() for DataFrames\n",
    "from get_results import plot_roc_auc, confusion_matrix_com\n",
    "\n",
    "# Pretty display for notebooks\n",
    "%matplotlib inline\n",
    "\n",
    "# Some Sklearn libraries are required\n",
    "from sklearn.metrics import roc_auc_score\n",
    "from sklearn.metrics import precision_recall_curve\n",
    "from sklearn.utils.fixes import signature\n",
    "from sklearn.metrics import average_precision_score"
   ]
  },
  {
   "cell_type": "code",
   "execution_count": 2,
   "metadata": {},
   "outputs": [],
   "source": [
    "# Load the training data from Exoplanet dataset\n",
    "train_data = pd.read_csv('kepler/exoTrain.csv')"
   ]
  },
  {
   "cell_type": "code",
   "execution_count": 3,
   "metadata": {},
   "outputs": [
    {
     "data": {
      "text/plain": [
       "(5087, 3198)"
      ]
     },
     "execution_count": 3,
     "metadata": {},
     "output_type": "execute_result"
    }
   ],
   "source": [
    "# Find dimensions of the train data\n",
    "train_data.shape"
   ]
  },
  {
   "cell_type": "code",
   "execution_count": 4,
   "metadata": {},
   "outputs": [
    {
     "data": {
      "text/plain": [
       "0"
      ]
     },
     "execution_count": 4,
     "metadata": {},
     "output_type": "execute_result"
    }
   ],
   "source": [
    "# Testing  if train_data has any null fields\n",
    "testing = pd.isnull(train_data)\n",
    "testing *= 1\n",
    "testing2 = testing.sum()\n",
    "testing2.sum() # If results is zero, then there a no fields with \"null\" value"
   ]
  },
  {
   "cell_type": "code",
   "execution_count": 5,
   "metadata": {},
   "outputs": [],
   "source": [
    "# Getting X_train and y_train\n",
    "# Using iloc to select data using position instead of label and converting to numpy array using values\n",
    "X_train = train_data.iloc[:,1:].values \n",
    "y_train = train_data.iloc[:,0:1].values "
   ]
  },
  {
   "cell_type": "code",
   "execution_count": 6,
   "metadata": {},
   "outputs": [
    {
     "data": {
      "text/plain": [
       "(5087, 3197)"
      ]
     },
     "execution_count": 6,
     "metadata": {},
     "output_type": "execute_result"
    }
   ],
   "source": [
    "# Find dimensions of the X_train data\n",
    "X_train.shape"
   ]
  },
  {
   "cell_type": "code",
   "execution_count": 7,
   "metadata": {},
   "outputs": [
    {
     "data": {
      "text/plain": [
       "(5087, 1)"
      ]
     },
     "execution_count": 7,
     "metadata": {},
     "output_type": "execute_result"
    }
   ],
   "source": [
    "# Find dimensions of the labels (y_train) data\n",
    "y_train.shape"
   ]
  },
  {
   "cell_type": "code",
   "execution_count": 8,
   "metadata": {},
   "outputs": [
    {
     "data": {
      "text/plain": [
       "array([[2],\n",
       "       [2],\n",
       "       [2],\n",
       "       [2],\n",
       "       [2]])"
      ]
     },
     "execution_count": 8,
     "metadata": {},
     "output_type": "execute_result"
    }
   ],
   "source": [
    "# y_train: Label is 2 for exoplanet and 1 for non-exoplanet\n",
    "y_train[:5]"
   ]
  },
  {
   "cell_type": "code",
   "execution_count": 9,
   "metadata": {},
   "outputs": [],
   "source": [
    "y_train -= 1 # Changing labels to: 1 for exoplanet and 0 for non-exoplanet"
   ]
  },
  {
   "cell_type": "code",
   "execution_count": 10,
   "metadata": {},
   "outputs": [
    {
     "data": {
      "text/plain": [
       "array([[1],\n",
       "       [1],\n",
       "       [1],\n",
       "       [1],\n",
       "       [1]])"
      ]
     },
     "execution_count": 10,
     "metadata": {},
     "output_type": "execute_result"
    }
   ],
   "source": [
    "y_train[:5]"
   ]
  },
  {
   "cell_type": "code",
   "execution_count": 11,
   "metadata": {
    "scrolled": true
   },
   "outputs": [],
   "source": [
    "# Load the testing data from Exoplanet dataset\n",
    "test_data = pd.read_csv('kepler/exoTest.csv')"
   ]
  },
  {
   "cell_type": "code",
   "execution_count": 12,
   "metadata": {},
   "outputs": [
    {
     "data": {
      "text/plain": [
       "(570, 3198)"
      ]
     },
     "execution_count": 12,
     "metadata": {},
     "output_type": "execute_result"
    }
   ],
   "source": [
    "# Find dimensions of the test data\n",
    "test_data.shape"
   ]
  },
  {
   "cell_type": "code",
   "execution_count": 13,
   "metadata": {},
   "outputs": [
    {
     "data": {
      "text/plain": [
       "0"
      ]
     },
     "execution_count": 13,
     "metadata": {},
     "output_type": "execute_result"
    }
   ],
   "source": [
    "# Testing  if test_data has any \"null\" fields\n",
    "testing = pd.isnull(test_data)\n",
    "testing *= 1\n",
    "testing2 = testing.sum()\n",
    "testing2.sum() # If results is zero, then there a no fields with \"null\" value"
   ]
  },
  {
   "cell_type": "code",
   "execution_count": 14,
   "metadata": {},
   "outputs": [],
   "source": [
    "# Getting X_test and y_test\n",
    "# Using iloc to select data using position instead of label and converting to numpy array (using values)\n",
    "X_test = test_data.iloc[:,1:].values\n",
    "y_test = test_data.iloc[:,0:1].values"
   ]
  },
  {
   "cell_type": "code",
   "execution_count": 15,
   "metadata": {},
   "outputs": [
    {
     "data": {
      "text/plain": [
       "(570, 3197)"
      ]
     },
     "execution_count": 15,
     "metadata": {},
     "output_type": "execute_result"
    }
   ],
   "source": [
    "# Find dimensions of the X_test data\n",
    "X_test.shape"
   ]
  },
  {
   "cell_type": "code",
   "execution_count": 16,
   "metadata": {},
   "outputs": [
    {
     "data": {
      "text/plain": [
       "(570, 1)"
      ]
     },
     "execution_count": 16,
     "metadata": {},
     "output_type": "execute_result"
    }
   ],
   "source": [
    "# Find dimensions of the labels (y_test) data\n",
    "y_test.shape"
   ]
  },
  {
   "cell_type": "code",
   "execution_count": 17,
   "metadata": {},
   "outputs": [
    {
     "data": {
      "text/plain": [
       "array([[2],\n",
       "       [2],\n",
       "       [2],\n",
       "       [2],\n",
       "       [2],\n",
       "       [1]])"
      ]
     },
     "execution_count": 17,
     "metadata": {},
     "output_type": "execute_result"
    }
   ],
   "source": [
    "# y_test: Label is 2 for exoplanet and 1 for non-exoplanet\n",
    "y_test[:6]"
   ]
  },
  {
   "cell_type": "code",
   "execution_count": 18,
   "metadata": {},
   "outputs": [],
   "source": [
    "y_test -= 1 # Changing labels to: 1 for exoplanet and 0 for non-exoplanet"
   ]
  },
  {
   "cell_type": "code",
   "execution_count": 19,
   "metadata": {},
   "outputs": [
    {
     "data": {
      "text/plain": [
       "array([[1],\n",
       "       [1],\n",
       "       [1],\n",
       "       [1],\n",
       "       [1],\n",
       "       [0]])"
      ]
     },
     "execution_count": 19,
     "metadata": {},
     "output_type": "execute_result"
    }
   ],
   "source": [
    "y_test[:6]"
   ]
  },
  {
   "cell_type": "code",
   "execution_count": 20,
   "metadata": {},
   "outputs": [],
   "source": [
    "# Normalizing the data since it is not normalized according to Kaggle/Github\n",
    "from sklearn.preprocessing import StandardScaler"
   ]
  },
  {
   "cell_type": "code",
   "execution_count": 21,
   "metadata": {},
   "outputs": [
    {
     "data": {
      "text/plain": [
       "array([[  93.85,   83.81,   20.1 , ...,   61.42,    5.08,  -39.54],\n",
       "       [ -38.88,  -33.83,  -58.54, ...,    6.46,   16.  ,   19.93],\n",
       "       [ 532.64,  535.92,  513.73, ...,  -28.91,  -70.02,  -96.67],\n",
       "       ..., \n",
       "       [ 273.39,  278.  ,  261.73, ...,   88.42,   79.07,   79.43],\n",
       "       [   3.82,    2.09,   -3.29, ...,  -14.55,   -6.41,   -2.55],\n",
       "       [ 323.28,  306.36,  293.16, ...,  -16.72,  -14.09,   27.82]])"
      ]
     },
     "execution_count": 21,
     "metadata": {},
     "output_type": "execute_result"
    }
   ],
   "source": [
    "# Checking X_train data\n",
    "X_train"
   ]
  },
  {
   "cell_type": "code",
   "execution_count": 22,
   "metadata": {},
   "outputs": [
    {
     "data": {
      "text/plain": [
       "array([[  93.85,  -38.88,  532.64, ...,  273.39,    3.82,  323.28],\n",
       "       [  83.81,  -33.83,  535.92, ...,  278.  ,    2.09,  306.36],\n",
       "       [  20.1 ,  -58.54,  513.73, ...,  261.73,   -3.29,  293.16],\n",
       "       ..., \n",
       "       [  61.42,    6.46,  -28.91, ...,   88.42,  -14.55,  -16.72],\n",
       "       [   5.08,   16.  ,  -70.02, ...,   79.07,   -6.41,  -14.09],\n",
       "       [ -39.54,   19.93,  -96.67, ...,   79.43,   -2.55,   27.82]])"
      ]
     },
     "execution_count": 22,
     "metadata": {},
     "output_type": "execute_result"
    }
   ],
   "source": [
    "# Tranposing X_train before applying scaling such that mean is zero and variance is one\n",
    "X_train.transpose()"
   ]
  },
  {
   "cell_type": "code",
   "execution_count": 23,
   "metadata": {},
   "outputs": [
    {
     "data": {
      "text/plain": [
       "array([[  1.19880000e+02,   1.00210000e+02,   8.64600000e+01, ...,\n",
       "          3.57800000e+01,   2.69430000e+02,   5.77200000e+01],\n",
       "       [  5.73659000e+03,   5.69998000e+03,   5.71716000e+03, ...,\n",
       "         -2.36619000e+03,  -2.29486000e+03,  -2.03472000e+03],\n",
       "       [  8.44480000e+02,   8.17490000e+02,   7.70070000e+02, ...,\n",
       "         -1.62680000e+02,  -3.67900000e+01,   3.06300000e+01],\n",
       "       ..., \n",
       "       [ -5.40100000e+01,  -4.41300000e+01,  -4.12300000e+01, ...,\n",
       "          5.47000000e+00,   1.44600000e+01,   1.87000000e+01],\n",
       "       [  9.13600000e+01,   8.56000000e+01,   4.88100000e+01, ...,\n",
       "         -8.43000000e+00,  -6.48000000e+00,   1.76000000e+01],\n",
       "       [  3.07119000e+03,   2.78253000e+03,   2.60869000e+03, ...,\n",
       "         -2.77220000e+02,  -6.96300000e+01,   1.21560000e+02]])"
      ]
     },
     "execution_count": 23,
     "metadata": {},
     "output_type": "execute_result"
    }
   ],
   "source": [
    "# # Checking X_train data\n",
    "X_test"
   ]
  },
  {
   "cell_type": "code",
   "execution_count": 24,
   "metadata": {},
   "outputs": [
    {
     "data": {
      "text/plain": [
       "array([[  1.19880000e+02,   5.73659000e+03,   8.44480000e+02, ...,\n",
       "         -5.40100000e+01,   9.13600000e+01,   3.07119000e+03],\n",
       "       [  1.00210000e+02,   5.69998000e+03,   8.17490000e+02, ...,\n",
       "         -4.41300000e+01,   8.56000000e+01,   2.78253000e+03],\n",
       "       [  8.64600000e+01,   5.71716000e+03,   7.70070000e+02, ...,\n",
       "         -4.12300000e+01,   4.88100000e+01,   2.60869000e+03],\n",
       "       ..., \n",
       "       [  3.57800000e+01,  -2.36619000e+03,  -1.62680000e+02, ...,\n",
       "          5.47000000e+00,  -8.43000000e+00,  -2.77220000e+02],\n",
       "       [  2.69430000e+02,  -2.29486000e+03,  -3.67900000e+01, ...,\n",
       "          1.44600000e+01,  -6.48000000e+00,  -6.96300000e+01],\n",
       "       [  5.77200000e+01,  -2.03472000e+03,   3.06300000e+01, ...,\n",
       "          1.87000000e+01,   1.76000000e+01,   1.21560000e+02]])"
      ]
     },
     "execution_count": 24,
     "metadata": {},
     "output_type": "execute_result"
    }
   ],
   "source": [
    "# Tranposing X_test before applying scaling such that mean is zero and variance is one\n",
    "X_test.transpose()"
   ]
  },
  {
   "cell_type": "code",
   "execution_count": 25,
   "metadata": {},
   "outputs": [],
   "source": [
    "# Standardize features by removing the mean and scaling to unit variance (sklearn.preprocessing)\n",
    "scaler = StandardScaler()\n",
    "X_train = scaler.fit_transform(X_train) # Output in a numpy.ndarray\n",
    "X_test = scaler.fit_transform(X_test) # Output in a numpy.ndarray"
   ]
  },
  {
   "cell_type": "code",
   "execution_count": 26,
   "metadata": {},
   "outputs": [
    {
     "data": {
      "text/plain": [
       "array([[-0.00235557, -0.00852774,  0.01804893, ...,  0.00599336,\n",
       "        -0.00654212,  0.00831333],\n",
       "       [-0.00205404, -0.0074516 ,  0.01868969, ...,  0.00685579,\n",
       "        -0.00580352,  0.00815701],\n",
       "       [-0.00579778, -0.00938685,  0.01673115, ...,  0.00523005,\n",
       "        -0.00686528,  0.00666449],\n",
       "       ..., \n",
       "       [ 0.0341983 ,  0.03109682,  0.02910084, ...,  0.03572195,\n",
       "         0.0299112 ,  0.02978874],\n",
       "       [ 0.02736753,  0.02803863,  0.02275218, ...,  0.03191466,\n",
       "         0.0266614 ,  0.02618942],\n",
       "       [ 0.01805157,  0.02216476,  0.01410023, ...,  0.02628002,\n",
       "         0.02060995,  0.02271046]])"
      ]
     },
     "execution_count": 26,
     "metadata": {},
     "output_type": "execute_result"
    }
   ],
   "source": [
    "X_train.transpose() # Transpose back to original dimensions"
   ]
  },
  {
   "cell_type": "code",
   "execution_count": 27,
   "metadata": {},
   "outputs": [
    {
     "data": {
      "text/plain": [
       "array([[-0.03143654,  0.41497541,  0.02615413, ..., -0.04525719,\n",
       "        -0.03370329,  0.20313139],\n",
       "       [-0.05057432,  0.39343385,  0.00629912, ..., -0.0620191 ,\n",
       "        -0.05173276,  0.16210798],\n",
       "       [-0.03559448,  0.41363759,  0.01894572, ..., -0.04578193,\n",
       "        -0.0385983 ,  0.16563567],\n",
       "       ..., \n",
       "       [-0.00907555, -0.2624662 , -0.03001166, ..., -0.01227304,\n",
       "        -0.01373939, -0.04209481],\n",
       "       [ 0.00470934, -0.26591026, -0.02760726, ..., -0.02219864,\n",
       "        -0.02440852, -0.03107299],\n",
       "       [-0.00786554, -0.22375419, -0.01066057, ..., -0.01189145,\n",
       "        -0.01200494, -0.00127881]])"
      ]
     },
     "execution_count": 27,
     "metadata": {},
     "output_type": "execute_result"
    }
   ],
   "source": [
    "X_test.transpose() # Transpose back to original dimensions"
   ]
  },
  {
   "cell_type": "code",
   "execution_count": 28,
   "metadata": {},
   "outputs": [],
   "source": [
    "# Fix random seed for reproducibility\n",
    "seed = 10\n",
    "np.random.seed(seed)"
   ]
  },
  {
   "cell_type": "code",
   "execution_count": null,
   "metadata": {},
   "outputs": [],
   "source": []
  },
  {
   "cell_type": "code",
   "execution_count": null,
   "metadata": {},
   "outputs": [],
   "source": []
  },
  {
   "cell_type": "code",
   "execution_count": 29,
   "metadata": {},
   "outputs": [
    {
     "name": "stderr",
     "output_type": "stream",
     "text": [
      "Using TensorFlow backend.\n"
     ]
    }
   ],
   "source": [
    "# Importing Keras libraries\n",
    "\n",
    "from keras.models import Sequential, Model\n",
    "from keras.layers import Conv1D, MaxPool1D, Dense, Dropout, Flatten\n",
    "from keras.layers import BatchNormalization, Input, concatenate, Activation\n",
    "from keras.optimizers import Adam, SGD, RMSprop, Adagrad, Adadelta, Adamax, Nadam\n",
    "from keras.callbacks import ModelCheckpoint "
   ]
  },
  {
   "cell_type": "code",
   "execution_count": 30,
   "metadata": {},
   "outputs": [],
   "source": [
    "#Convert data into 3d tensor (Input 0 in Conv1D is incompatible with layer conv1d_1: expected ndim=3, found ndim=2)\n",
    "X_train = np.reshape(X_train,(X_train.shape[0],X_train.shape[1],1))\n",
    "X_test = np.reshape(X_test,(X_test.shape[0],X_test.shape[1],1))"
   ]
  },
  {
   "cell_type": "code",
   "execution_count": 31,
   "metadata": {},
   "outputs": [
    {
     "data": {
      "text/plain": [
       "(570, 3197, 1)"
      ]
     },
     "execution_count": 31,
     "metadata": {},
     "output_type": "execute_result"
    }
   ],
   "source": [
    "# Checking shape of X_test tensor\n",
    "X_test.shape"
   ]
  },
  {
   "cell_type": "code",
   "execution_count": 32,
   "metadata": {},
   "outputs": [
    {
     "data": {
      "text/plain": [
       "(5087, 3197, 1)"
      ]
     },
     "execution_count": 32,
     "metadata": {},
     "output_type": "execute_result"
    }
   ],
   "source": [
    "# Checking shape of X_train_new tensor\n",
    "X_train.shape"
   ]
  },
  {
   "cell_type": "markdown",
   "metadata": {},
   "source": [
    "#### Data exploration and preparation ended (above)"
   ]
  },
  {
   "cell_type": "markdown",
   "metadata": {},
   "source": [
    "# Ending Data Preparation"
   ]
  },
  {
   "cell_type": "code",
   "execution_count": null,
   "metadata": {},
   "outputs": [],
   "source": []
  },
  {
   "cell_type": "markdown",
   "metadata": {},
   "source": [
    "# GRID SEARCH "
   ]
  },
  {
   "cell_type": "markdown",
   "metadata": {},
   "source": [
    "## Grid Search Implementation"
   ]
  },
  {
   "cell_type": "markdown",
   "metadata": {},
   "source": [
    "Reference on using GridSearch for tuning Hyperparameters for DL models:\n",
    "\n",
    "https://machinelearningmastery.com/grid-search-hyperparameters-deep-learning-models-python-keras/"
   ]
  },
  {
   "cell_type": "code",
   "execution_count": null,
   "metadata": {},
   "outputs": [],
   "source": []
  },
  {
   "cell_type": "markdown",
   "metadata": {},
   "source": [
    "## Tuning Optimization algorithm"
   ]
  },
  {
   "cell_type": "code",
   "execution_count": 33,
   "metadata": {},
   "outputs": [],
   "source": [
    "# Use scikit-learn to grid search the batch size and epochs\n",
    "from sklearn.model_selection import GridSearchCV\n",
    "from keras.wrappers.scikit_learn import KerasClassifier\n",
    "\n",
    "# Function to create model, required for KerasClassifier\n",
    "def create_model(optimizer='adam'):\n",
    "    # create model\n",
    "    # Defining network architecture\n",
    "    model = Sequential()\n",
    "    model.add(Conv1D(filters=8, kernel_size=8, activation='relu', input_shape=(3197,1)))\n",
    "    model.add(MaxPool1D(strides=4))\n",
    "    model.add(BatchNormalization())\n",
    "    model.add(Flatten())\n",
    "    model.add(Dense(1, activation='sigmoid'))\n",
    "    # Compile model\n",
    "    model.compile(optimizer=optimizer, loss=\"binary_crossentropy\", metrics=[\"accuracy\"])\n",
    "    return model\n",
    "# Fix random seed for reproducibility (done above on previous cells)\n",
    "\n",
    "# Dataset was created in previous section\n",
    "# We can use the normalized X_train and y_train from previous cells for Grid Search \n"
   ]
  },
  {
   "cell_type": "code",
   "execution_count": 34,
   "metadata": {},
   "outputs": [
    {
     "name": "stdout",
     "output_type": "stream",
     "text": [
      "Epoch 1/20\n",
      "Epoch 1/20\n",
      "Epoch 1/20\n",
      "Epoch 1/20\n",
      "8s - loss: 0.0677 - acc: 0.9909\n",
      "Epoch 2/20\n",
      "9s - loss: 0.1562 - acc: 0.9761\n",
      "Epoch 2/20\n",
      "9s - loss: 0.1384 - acc: 0.9593\n",
      "Epoch 2/20\n",
      "9s - loss: 0.0902 - acc: 0.9823\n",
      "Epoch 2/20\n",
      "9s - loss: 0.0161 - acc: 0.9991\n",
      "Epoch 3/20\n",
      "9s - loss: 0.0889 - acc: 0.9873\n",
      "Epoch 3/20\n",
      "9s - loss: 0.0318 - acc: 0.9968\n",
      "Epoch 3/20\n",
      "9s - loss: 0.0766 - acc: 0.9885\n",
      "Epoch 3/20\n",
      "9s - loss: 0.0116 - acc: 0.9994\n",
      "Epoch 4/20\n",
      "9s - loss: 0.0668 - acc: 0.9885\n",
      "Epoch 4/20\n",
      "8s - loss: 0.0662 - acc: 0.9885\n",
      "Epoch 4/20\n",
      "9s - loss: 0.0170 - acc: 0.9985\n",
      "Epoch 4/20\n",
      "9s - loss: 0.0104 - acc: 0.9994\n",
      "Epoch 5/20\n",
      "9s - loss: 0.0586 - acc: 0.9894\n",
      "9s - loss: 0.0604 - acc: 0.9894\n",
      "Epoch 5/20\n",
      "Epoch 5/20\n",
      "9s - loss: 0.0094 - acc: 0.9994\n",
      "Epoch 5/20\n",
      "9s - loss: 0.0100 - acc: 0.9994\n",
      "Epoch 6/20\n",
      "9s - loss: 0.0094 - acc: 0.9994\n",
      "Epoch 6/20\n",
      "9s - loss: 0.0576 - acc: 0.9891\n",
      "Epoch 6/20\n",
      "9s - loss: 0.0566 - acc: 0.9897\n",
      "Epoch 6/20\n",
      "9s - loss: 0.0099 - acc: 0.9994\n",
      "Epoch 7/20\n",
      "9s - loss: 0.0096 - acc: 0.9991\n",
      "Epoch 7/20\n",
      "9s - loss: 0.0555 - acc: 0.9894\n",
      "Epoch 7/20\n",
      "9s - loss: 0.0563 - acc: 0.9900\n",
      "Epoch 7/20\n",
      "9s - loss: 0.0105 - acc: 0.9991\n",
      "Epoch 8/20\n",
      "9s - loss: 0.0094 - acc: 0.9994\n",
      "Epoch 8/20\n",
      "9s - loss: 0.0537 - acc: 0.9897\n",
      "Epoch 8/20\n",
      "9s - loss: 0.0553 - acc: 0.9897\n",
      "Epoch 8/20\n",
      "9s - loss: 0.0102 - acc: 0.9991\n",
      "Epoch 9/20\n",
      "9s - loss: 0.0094 - acc: 0.9994\n",
      "Epoch 9/20\n",
      "9s - loss: 0.0544 - acc: 0.9897\n",
      "Epoch 9/20\n",
      "9s - loss: 0.0515 - acc: 0.9900\n",
      "Epoch 9/20\n",
      "9s - loss: 0.0098 - acc: 0.9994\n",
      "Epoch 10/20\n",
      "9s - loss: 0.0533 - acc: 0.9894\n",
      "Epoch 10/20\n",
      "9s - loss: 0.0094 - acc: 0.9994\n",
      "Epoch 10/20\n",
      "9s - loss: 0.0509 - acc: 0.9897\n",
      "Epoch 10/20\n",
      "9s - loss: 0.0097 - acc: 0.9994\n",
      "Epoch 11/20\n",
      "9s - loss: 0.0526 - acc: 0.9894\n",
      "Epoch 11/20\n",
      "9s - loss: 0.0094 - acc: 0.9994\n",
      "Epoch 11/20\n",
      "9s - loss: 0.0540 - acc: 0.9894\n",
      "Epoch 11/20\n",
      "9s - loss: 0.0097 - acc: 0.9994\n",
      "Epoch 12/20\n",
      "9s - loss: 0.0512 - acc: 0.9900\n",
      "Epoch 12/20\n",
      "9s - loss: 0.0094 - acc: 0.9994\n",
      "Epoch 12/20\n",
      "9s - loss: 0.0492 - acc: 0.9897\n",
      "Epoch 12/20\n",
      "9s - loss: 0.0096 - acc: 0.9994\n",
      "Epoch 13/20\n",
      "9s - loss: 0.0496 - acc: 0.9900\n",
      "Epoch 13/20\n",
      "9s - loss: 0.0094 - acc: 0.9994\n",
      "Epoch 13/20\n",
      "9s - loss: 0.0489 - acc: 0.9903\n",
      "Epoch 13/20\n",
      "9s - loss: 0.0096 - acc: 0.9994\n",
      "Epoch 14/20\n",
      "9s - loss: 0.0494 - acc: 0.9900\n",
      "Epoch 14/20\n",
      "9s - loss: 0.0094 - acc: 0.9994\n",
      "Epoch 14/20\n",
      "9s - loss: 0.0508 - acc: 0.9894\n",
      "Epoch 14/20\n",
      "9s - loss: 0.0096 - acc: 0.9994\n",
      "Epoch 15/20\n",
      "9s - loss: 0.0502 - acc: 0.9906\n",
      "Epoch 15/20\n",
      "9s - loss: 0.0094 - acc: 0.9994\n",
      "Epoch 15/20\n",
      "9s - loss: 0.0504 - acc: 0.9900\n",
      "Epoch 15/20\n",
      "9s - loss: 0.0477 - acc: 0.9909\n",
      "Epoch 16/20\n",
      "9s - loss: 0.0095 - acc: 0.9994\n",
      "Epoch 16/20\n",
      "9s - loss: 0.0094 - acc: 0.9994\n",
      "Epoch 16/20\n",
      "9s - loss: 0.0469 - acc: 0.9903\n",
      "Epoch 16/20\n",
      "9s - loss: 0.0095 - acc: 0.9994\n",
      "Epoch 17/20\n",
      "9s - loss: 0.0486 - acc: 0.9903\n",
      "Epoch 17/20\n",
      "9s - loss: 0.0094 - acc: 0.9994\n",
      "Epoch 17/20\n",
      "9s - loss: 0.0494 - acc: 0.9897\n",
      "Epoch 17/20\n",
      "9s - loss: 0.0095 - acc: 0.9994\n",
      "9s - loss: 0.0502 - acc: 0.9903\n",
      "Epoch 18/20\n",
      "Epoch 18/20\n",
      "9s - loss: 0.0094 - acc: 0.9994\n",
      "Epoch 18/20\n",
      "9s - loss: 0.0487 - acc: 0.9894\n",
      "Epoch 18/20\n",
      "9s - loss: 0.0095 - acc: 0.9994\n",
      "Epoch 19/20\n",
      "9s - loss: 0.0469 - acc: 0.9906\n",
      "Epoch 19/20\n",
      "9s - loss: 0.0094 - acc: 0.9994\n",
      "Epoch 19/20\n",
      "9s - loss: 0.0489 - acc: 0.9903\n",
      "Epoch 19/20\n",
      "9s - loss: 0.0498 - acc: 0.9897\n",
      "Epoch 20/20\n",
      "9s - loss: 0.0096 - acc: 0.9994\n",
      "Epoch 20/20\n",
      "9s - loss: 0.0094 - acc: 0.9994\n",
      "Epoch 20/20\n",
      "9s - loss: 0.0462 - acc: 0.9900\n",
      "Epoch 20/20\n",
      "9s - loss: 0.0462 - acc: 0.9900\n",
      "9s - loss: 0.0095 - acc: 0.9994\n",
      "9s - loss: 0.0442 - acc: 0.9912\n",
      "9s - loss: 0.0094 - acc: 0.9994\n",
      "Epoch 1/20\n",
      "Epoch 1/20\n",
      "Epoch 1/20\n",
      "Epoch 1/20\n",
      "9s - loss: 0.1531 - acc: 0.9746\n",
      "Epoch 2/20\n",
      "9s - loss: 0.1627 - acc: 0.9764\n",
      "Epoch 2/20\n",
      "9s - loss: 0.0949 - acc: 0.9808\n",
      "Epoch 2/20\n",
      "9s - loss: 0.1986 - acc: 0.9634\n",
      "Epoch 2/20\n",
      "9s - loss: 0.1151 - acc: 0.9861\n",
      "Epoch 3/20\n",
      "9s - loss: 0.0872 - acc: 0.9879\n",
      "Epoch 3/20\n",
      "9s - loss: 0.0290 - acc: 0.9982\n",
      "Epoch 3/20\n",
      "9s - loss: 0.0907 - acc: 0.9879\n",
      "Epoch 3/20\n",
      "9s - loss: 0.0894 - acc: 0.9873\n",
      "Epoch 4/20\n",
      "9s - loss: 0.0785 - acc: 0.9879\n",
      "Epoch 4/20\n",
      "9s - loss: 0.0176 - acc: 0.9991\n",
      "Epoch 4/20\n",
      "9s - loss: 0.0888 - acc: 0.9873\n",
      "Epoch 4/20\n",
      "9s - loss: 0.0830 - acc: 0.9876\n",
      "Epoch 5/20\n",
      "9s - loss: 0.0792 - acc: 0.9876\n",
      "Epoch 5/20\n",
      "9s - loss: 0.0103 - acc: 0.9994\n",
      "Epoch 5/20\n",
      "9s - loss: 0.0722 - acc: 0.9885\n",
      "Epoch 5/20\n",
      "9s - loss: 0.0101 - acc: 0.9994\n",
      "Epoch 6/20\n",
      "9s - loss: 0.0728 - acc: 0.9891\n",
      "Epoch 6/20\n",
      "9s - loss: 0.0696 - acc: 0.9891\n",
      "Epoch 6/20\n",
      "9s - loss: 0.0721 - acc: 0.9882\n",
      "Epoch 6/20\n",
      "9s - loss: 0.0163 - acc: 0.9988\n",
      "9s - loss: 0.0790 - acc: 0.9847\n",
      "Epoch 7/20\n",
      "Epoch 7/20\n",
      "9s - loss: 0.0652 - acc: 0.9861\n",
      "Epoch 7/20\n",
      "9s - loss: 0.0692 - acc: 0.9885\n",
      "Epoch 7/20\n",
      "9s - loss: 0.0102 - acc: 0.9994\n",
      "Epoch 8/20\n",
      "9s - loss: 0.0714 - acc: 0.9894\n",
      "Epoch 8/20\n",
      "9s - loss: 0.0700 - acc: 0.9891\n",
      "Epoch 8/20\n",
      "9s - loss: 0.0714 - acc: 0.9891\n",
      "Epoch 8/20\n",
      "9s - loss: 0.0100 - acc: 0.9994\n",
      "Epoch 9/20\n",
      "9s - loss: 0.0743 - acc: 0.9844\n",
      "Epoch 9/20\n",
      "9s - loss: 0.0611 - acc: 0.9903\n",
      "Epoch 9/20\n",
      "9s - loss: 0.0639 - acc: 0.9894\n",
      "Epoch 9/20\n",
      "9s - loss: 0.0146 - acc: 0.9991\n",
      "Epoch 10/20\n",
      "9s - loss: 0.0679 - acc: 0.9894\n",
      "Epoch 10/20\n",
      "9s - loss: 0.0577 - acc: 0.9912\n",
      "Epoch 10/20\n",
      "9s - loss: 0.0601 - acc: 0.9891\n",
      "Epoch 10/20\n",
      "9s - loss: 0.0099 - acc: 0.9994\n",
      "Epoch 11/20\n",
      "9s - loss: 0.0785 - acc: 0.9808\n",
      "Epoch 11/20\n",
      "9s - loss: 0.0579 - acc: 0.9909\n",
      "Epoch 11/20\n",
      "9s - loss: 0.0537 - acc: 0.9900\n",
      "Epoch 11/20\n",
      "9s - loss: 0.0097 - acc: 0.9994\n",
      "Epoch 12/20\n",
      "9s - loss: 0.0880 - acc: 0.9838\n",
      "Epoch 12/20\n",
      "9s - loss: 0.0648 - acc: 0.9906\n",
      "Epoch 12/20\n",
      "9s - loss: 0.0498 - acc: 0.9903\n",
      "Epoch 12/20\n",
      "9s - loss: 0.0104 - acc: 0.9991\n",
      "Epoch 13/20\n",
      "9s - loss: 0.0781 - acc: 0.9797\n",
      "Epoch 13/20\n",
      "9s - loss: 0.0621 - acc: 0.9876\n",
      "Epoch 13/20\n",
      "9s - loss: 0.0506 - acc: 0.9900\n",
      "Epoch 13/20\n",
      "9s - loss: 0.0097 - acc: 0.9994\n",
      "Epoch 14/20\n",
      "9s - loss: 0.0713 - acc: 0.9909\n",
      "Epoch 14/20\n",
      "9s - loss: 0.0648 - acc: 0.9867\n",
      "Epoch 14/20\n",
      "9s - loss: 0.0500 - acc: 0.9906\n",
      "Epoch 14/20\n",
      "9s - loss: 0.0097 - acc: 0.9994\n",
      "Epoch 15/20\n",
      "9s - loss: 0.0750 - acc: 0.9855\n",
      "Epoch 15/20\n",
      "9s - loss: 0.0605 - acc: 0.9917\n",
      "Epoch 15/20\n",
      "9s - loss: 0.0496 - acc: 0.9914\n",
      "Epoch 15/20\n",
      "9s - loss: 0.0099 - acc: 0.9991\n",
      "Epoch 16/20\n",
      "9s - loss: 0.0877 - acc: 0.9841\n",
      "Epoch 16/20\n",
      "9s - loss: 0.0556 - acc: 0.9879\n",
      "Epoch 16/20\n",
      "9s - loss: 0.0466 - acc: 0.9909\n",
      "Epoch 16/20\n",
      "9s - loss: 0.0097 - acc: 0.9994\n",
      "Epoch 17/20\n",
      "9s - loss: 0.0843 - acc: 0.9814\n",
      "Epoch 17/20\n",
      "9s - loss: 0.0710 - acc: 0.9864\n",
      "Epoch 17/20\n",
      "9s - loss: 0.0524 - acc: 0.9906\n",
      "Epoch 17/20\n",
      "9s - loss: 0.0097 - acc: 0.9994\n",
      "Epoch 18/20\n",
      "9s - loss: 0.0665 - acc: 0.9864\n",
      "Epoch 18/20\n",
      "9s - loss: 0.0609 - acc: 0.9879\n",
      "Epoch 18/20\n",
      "9s - loss: 0.0484 - acc: 0.9909\n",
      "Epoch 18/20\n",
      "9s - loss: 0.0096 - acc: 0.9994\n",
      "Epoch 19/20\n",
      "9s - loss: 0.0818 - acc: 0.9823\n",
      "Epoch 19/20\n",
      "9s - loss: 0.0641 - acc: 0.9864\n",
      "Epoch 19/20\n",
      "9s - loss: 0.0457 - acc: 0.9917\n",
      "Epoch 19/20\n",
      "9s - loss: 0.0096 - acc: 0.9994\n",
      "Epoch 20/20\n",
      "9s - loss: 0.0711 - acc: 0.9847\n",
      "Epoch 20/20\n",
      "9s - loss: 0.0587 - acc: 0.9900\n",
      "Epoch 20/20\n",
      "9s - loss: 0.0462 - acc: 0.9914\n",
      "Epoch 20/20\n",
      "9s - loss: 0.0096 - acc: 0.9994\n",
      "9s - loss: 0.0803 - acc: 0.9820\n",
      "9s - loss: 0.0632 - acc: 0.9870\n",
      "9s - loss: 0.0472 - acc: 0.9909\n",
      "Epoch 1/20\n",
      "Epoch 1/20\n",
      "Epoch 1/20\n",
      "Epoch 1/20\n",
      "9s - loss: 0.1883 - acc: 0.9752\n",
      "Epoch 2/20\n",
      "9s - loss: 0.1317 - acc: 0.9844\n",
      "Epoch 2/20\n",
      "9s - loss: 0.1933 - acc: 0.9720\n",
      "Epoch 2/20\n",
      "9s - loss: 0.1925 - acc: 0.9705\n",
      "Epoch 2/20\n",
      "9s - loss: 0.0973 - acc: 0.9876\n",
      "Epoch 3/20\n",
      "9s - loss: 0.0562 - acc: 0.9956\n",
      "Epoch 3/20\n",
      "9s - loss: 0.1242 - acc: 0.9850\n",
      "Epoch 3/20\n",
      "9s - loss: 0.1104 - acc: 0.9856\n",
      "Epoch 3/20\n",
      "9s - loss: 0.0802 - acc: 0.9888\n",
      "Epoch 4/20\n",
      "9s - loss: 0.0365 - acc: 0.9971\n",
      "Epoch 4/20\n",
      "9s - loss: 0.1069 - acc: 0.9858\n",
      "Epoch 4/20\n",
      "9s - loss: 0.0976 - acc: 0.9856\n",
      "Epoch 4/20\n",
      "9s - loss: 0.0733 - acc: 0.9888\n",
      "Epoch 5/20\n",
      "9s - loss: 0.0284 - acc: 0.9973\n",
      "Epoch 5/20\n",
      "9s - loss: 0.0976 - acc: 0.9864\n",
      "Epoch 5/20\n",
      "9s - loss: 0.0817 - acc: 0.9867\n",
      "Epoch 5/20\n",
      "9s - loss: 0.0695 - acc: 0.9891\n",
      "Epoch 6/20\n",
      "9s - loss: 0.0239 - acc: 0.9982\n",
      "Epoch 6/20\n",
      "9s - loss: 0.0921 - acc: 0.9870\n",
      "Epoch 6/20\n",
      "9s - loss: 0.0792 - acc: 0.9876\n",
      "Epoch 6/20\n",
      "9s - loss: 0.0697 - acc: 0.9891\n",
      "Epoch 7/20\n",
      "9s - loss: 0.0210 - acc: 0.9982\n",
      "Epoch 7/20\n",
      "9s - loss: 0.0909 - acc: 0.9873\n",
      "Epoch 7/20\n",
      "9s - loss: 0.0763 - acc: 0.9879\n",
      "Epoch 7/20\n",
      "9s - loss: 0.0659 - acc: 0.9894\n",
      "Epoch 8/20\n",
      "9s - loss: 0.0233 - acc: 0.9982\n",
      "Epoch 8/20\n",
      "9s - loss: 0.0874 - acc: 0.9876\n",
      "Epoch 8/20\n",
      "9s - loss: 0.0694 - acc: 0.9882\n"
     ]
    },
    {
     "name": "stdout",
     "output_type": "stream",
     "text": [
      "Epoch 8/20\n",
      "9s - loss: 0.0654 - acc: 0.9897\n",
      "Epoch 9/20\n",
      "9s - loss: 0.0187 - acc: 0.9988\n",
      "Epoch 9/20\n",
      "9s - loss: 0.0865 - acc: 0.9873\n",
      "Epoch 9/20\n",
      "9s - loss: 0.0693 - acc: 0.9885\n",
      "Epoch 9/20\n",
      "9s - loss: 0.0633 - acc: 0.9894\n",
      "Epoch 10/20\n",
      "9s - loss: 0.0158 - acc: 0.9988\n",
      "Epoch 10/20\n",
      "9s - loss: 0.0776 - acc: 0.9876\n",
      "Epoch 10/20\n",
      "9s - loss: 0.0679 - acc: 0.9885\n",
      "Epoch 10/20\n",
      "9s - loss: 0.0636 - acc: 0.9900\n",
      "Epoch 11/20\n",
      "9s - loss: 0.0144 - acc: 0.9991\n",
      "Epoch 11/20\n",
      "9s - loss: 0.0733 - acc: 0.9876\n",
      "Epoch 11/20\n",
      "9s - loss: 0.0662 - acc: 0.9891\n",
      "Epoch 11/20\n",
      "9s - loss: 0.0585 - acc: 0.9894\n",
      "Epoch 12/20\n",
      "9s - loss: 0.0143 - acc: 0.9991\n",
      "Epoch 12/20\n",
      "9s - loss: 0.0675 - acc: 0.9882\n",
      "Epoch 12/20\n",
      "9s - loss: 0.0625 - acc: 0.9885\n",
      "Epoch 12/20\n",
      "9s - loss: 0.0577 - acc: 0.9900\n",
      "Epoch 13/20\n",
      "9s - loss: 0.0158 - acc: 0.9988\n",
      "Epoch 13/20\n",
      "9s - loss: 0.0638 - acc: 0.9882\n",
      "Epoch 13/20\n",
      "9s - loss: 0.0583 - acc: 0.9891\n",
      "Epoch 13/20\n",
      "9s - loss: 0.0580 - acc: 0.9903\n",
      "Epoch 14/20\n",
      "9s - loss: 0.0147 - acc: 0.9988\n",
      "Epoch 14/20\n",
      "9s - loss: 0.0640 - acc: 0.9882\n",
      "Epoch 14/20\n",
      "9s - loss: 0.0609 - acc: 0.9888\n",
      "Epoch 14/20\n",
      "9s - loss: 0.0571 - acc: 0.9900\n",
      "Epoch 15/20\n",
      "9s - loss: 0.0141 - acc: 0.9991\n",
      "Epoch 15/20\n",
      "9s - loss: 0.0606 - acc: 0.9891\n",
      "Epoch 15/20\n",
      "9s - loss: 0.0574 - acc: 0.9894\n",
      "Epoch 15/20\n",
      "9s - loss: 0.0583 - acc: 0.9900\n",
      "Epoch 16/20\n",
      "9s - loss: 0.0142 - acc: 0.9991\n",
      "Epoch 16/20\n",
      "9s - loss: 0.0635 - acc: 0.9885\n",
      "Epoch 16/20\n",
      "9s - loss: 0.0565 - acc: 0.9894\n",
      "Epoch 16/20\n",
      "9s - loss: 0.0159 - acc: 0.9985\n",
      "Epoch 17/20\n",
      "9s - loss: 0.0571 - acc: 0.9900\n",
      "Epoch 17/20\n",
      "9s - loss: 0.0584 - acc: 0.9888\n",
      "Epoch 17/20\n",
      "9s - loss: 0.0584 - acc: 0.9894\n",
      "Epoch 17/20\n",
      "9s - loss: 0.0147 - acc: 0.9988\n",
      "Epoch 18/20\n",
      "9s - loss: 0.0550 - acc: 0.9906\n",
      "Epoch 18/20\n",
      "9s - loss: 0.0551 - acc: 0.9891\n",
      "Epoch 18/20\n",
      "9s - loss: 0.0559 - acc: 0.9894\n",
      "Epoch 18/20\n",
      "9s - loss: 0.0141 - acc: 0.9991\n",
      "Epoch 19/20\n",
      "9s - loss: 0.0557 - acc: 0.9897\n",
      "Epoch 19/20\n",
      "9s - loss: 0.0567 - acc: 0.9891\n",
      "Epoch 19/20\n",
      "9s - loss: 0.0566 - acc: 0.9897\n",
      "Epoch 19/20\n",
      "9s - loss: 0.0142 - acc: 0.9991\n",
      "Epoch 20/20\n",
      "9s - loss: 0.0525 - acc: 0.9909\n",
      "Epoch 20/20\n",
      "9s - loss: 0.0560 - acc: 0.9894\n",
      "Epoch 20/20\n",
      "9s - loss: 0.0520 - acc: 0.9894\n",
      "Epoch 20/20\n",
      "9s - loss: 0.0141 - acc: 0.9991\n",
      "9s - loss: 0.0535 - acc: 0.9906\n",
      "9s - loss: 0.0512 - acc: 0.9906\n",
      "9s - loss: 0.0526 - acc: 0.9900\n",
      "Epoch 1/20\n",
      "Epoch 1/20\n",
      "Epoch 1/20\n",
      "Epoch 1/20\n",
      "9s - loss: 0.0915 - acc: 0.9732\n",
      "Epoch 2/20\n",
      "9s - loss: 0.1458 - acc: 0.9782\n",
      "Epoch 2/20\n",
      "9s - loss: 0.1701 - acc: 0.9773\n",
      "Epoch 2/20\n",
      "9s - loss: 0.0940 - acc: 0.9891\n",
      "Epoch 2/20\n",
      "9s - loss: 0.0133 - acc: 0.9991\n",
      "Epoch 3/20\n",
      "9s - loss: 0.0788 - acc: 0.9873\n",
      "Epoch 3/20\n",
      "9s - loss: 0.0914 - acc: 0.9876\n",
      "Epoch 3/20\n",
      "9s - loss: 0.0319 - acc: 0.9979\n",
      "Epoch 3/20\n",
      "9s - loss: 0.0111 - acc: 0.9991\n",
      "Epoch 4/20\n",
      "9s - loss: 0.0798 - acc: 0.9876\n",
      "Epoch 4/20\n",
      "9s - loss: 0.0777 - acc: 0.9882\n",
      "Epoch 4/20\n",
      "9s - loss: 0.0245 - acc: 0.9985\n",
      "Epoch 4/20\n",
      "9s - loss: 0.0129 - acc: 0.9991\n",
      "Epoch 5/20\n",
      "9s - loss: 0.0627 - acc: 0.9897\n",
      "Epoch 5/20\n",
      "9s - loss: 0.0771 - acc: 0.9885\n",
      "Epoch 5/20\n",
      "9s - loss: 0.0215 - acc: 0.9988\n",
      "Epoch 5/20\n",
      "9s - loss: 5.3013e-04 - acc: 1.0000\n",
      "Epoch 6/20\n",
      "9s - loss: 0.0551 - acc: 0.9900\n",
      "Epoch 6/20\n",
      "9s - loss: 0.0698 - acc: 0.9891\n",
      "Epoch 6/20\n",
      "9s - loss: 0.0217 - acc: 0.9982\n",
      "Epoch 6/20\n",
      "9s - loss: 1.7629e-04 - acc: 1.0000\n",
      "Epoch 7/20\n",
      "9s - loss: 0.0535 - acc: 0.9897\n",
      "Epoch 7/20\n",
      "9s - loss: 0.0577 - acc: 0.9897\n",
      "Epoch 7/20\n",
      "9s - loss: 0.0200 - acc: 0.9988\n",
      "Epoch 7/20\n",
      "9s - loss: 9.3243e-05 - acc: 1.0000\n",
      "Epoch 8/20\n",
      "9s - loss: 0.0510 - acc: 0.9894\n",
      "Epoch 8/20\n",
      "9s - loss: 0.0554 - acc: 0.9894\n",
      "Epoch 8/20\n",
      "9s - loss: 0.0196 - acc: 0.9988\n",
      "Epoch 8/20\n",
      "9s - loss: 5.9148e-05 - acc: 1.0000\n",
      "Epoch 9/20\n",
      "9s - loss: 0.0496 - acc: 0.9906\n",
      "Epoch 9/20\n",
      "9s - loss: 0.0529 - acc: 0.9903\n",
      "Epoch 9/20\n",
      "9s - loss: 0.0194 - acc: 0.9988\n",
      "Epoch 9/20\n",
      "9s - loss: 4.4040e-05 - acc: 1.0000\n",
      "Epoch 10/20\n",
      "9s - loss: 0.0515 - acc: 0.9909\n",
      "Epoch 10/20\n",
      "9s - loss: 0.0491 - acc: 0.9903\n",
      "Epoch 10/20\n",
      "9s - loss: 0.0196 - acc: 0.9985\n",
      "Epoch 10/20\n",
      "9s - loss: 3.3484e-05 - acc: 1.0000\n",
      "Epoch 11/20\n",
      "9s - loss: 0.0589 - acc: 0.9897\n",
      "Epoch 11/20\n",
      "9s - loss: 0.0490 - acc: 0.9906\n",
      "Epoch 11/20\n",
      "9s - loss: 0.0192 - acc: 0.9988\n",
      "Epoch 11/20\n",
      "9s - loss: 2.5018e-05 - acc: 1.0000\n",
      "Epoch 12/20\n",
      "9s - loss: 0.0472 - acc: 0.9903\n",
      "Epoch 12/20\n",
      "9s - loss: 0.0455 - acc: 0.9909\n",
      "Epoch 12/20\n",
      "9s - loss: 0.0190 - acc: 0.9988\n",
      "Epoch 12/20\n",
      "9s - loss: 2.2171e-05 - acc: 1.0000\n",
      "Epoch 13/20\n",
      "9s - loss: 0.0436 - acc: 0.9914\n",
      "Epoch 13/20\n",
      "9s - loss: 0.0434 - acc: 0.9917\n",
      "Epoch 13/20\n",
      "9s - loss: 0.0191 - acc: 0.9988\n",
      "Epoch 13/20\n",
      "9s - loss: 3.6087e-05 - acc: 1.0000\n",
      "Epoch 14/20\n",
      "9s - loss: 0.0428 - acc: 0.9917\n",
      "Epoch 14/20\n",
      "9s - loss: 0.0464 - acc: 0.9900\n",
      "Epoch 14/20\n",
      "9s - loss: 0.0190 - acc: 0.9988\n",
      "Epoch 14/20\n",
      "9s - loss: 1.5424e-05 - acc: 1.0000\n",
      "Epoch 15/20\n",
      "9s - loss: 0.0403 - acc: 0.9923\n",
      "Epoch 15/20\n",
      "9s - loss: 0.0428 - acc: 0.9917\n",
      "Epoch 15/20\n",
      "9s - loss: 0.0189 - acc: 0.9988\n",
      "Epoch 15/20\n",
      "9s - loss: 1.3122e-05 - acc: 1.0000\n",
      "Epoch 16/20\n",
      "9s - loss: 0.0379 - acc: 0.9926\n",
      "Epoch 16/20\n",
      "9s - loss: 0.0437 - acc: 0.9915\n",
      "Epoch 16/20\n",
      "9s - loss: 0.0189 - acc: 0.9988\n",
      "Epoch 16/20\n",
      "9s - loss: 1.1109e-05 - acc: 1.0000\n",
      "Epoch 17/20\n",
      "9s - loss: 0.0395 - acc: 0.9923\n",
      "Epoch 17/20\n",
      "9s - loss: 0.0425 - acc: 0.9915\n",
      "Epoch 17/20\n",
      "9s - loss: 0.0189 - acc: 0.9988\n",
      "Epoch 17/20\n",
      "9s - loss: 8.9777e-06 - acc: 1.0000\n",
      "Epoch 18/20\n",
      "9s - loss: 0.0393 - acc: 0.9923\n",
      "Epoch 18/20\n",
      "9s - loss: 0.0422 - acc: 0.9906\n",
      "Epoch 18/20\n",
      "9s - loss: 0.0189 - acc: 0.9988\n",
      "Epoch 18/20\n",
      "9s - loss: 8.5739e-06 - acc: 1.0000\n",
      "Epoch 19/20\n",
      "9s - loss: 0.0356 - acc: 0.9929\n",
      "Epoch 19/20\n",
      "9s - loss: 0.0404 - acc: 0.9920\n",
      "Epoch 19/20\n",
      "9s - loss: 0.0197 - acc: 0.9985\n",
      "Epoch 19/20\n",
      "9s - loss: 7.0930e-06 - acc: 1.0000\n",
      "Epoch 20/20\n",
      "9s - loss: 0.0420 - acc: 0.9914\n",
      "Epoch 20/20\n",
      "9s - loss: 0.0394 - acc: 0.9923\n",
      "Epoch 20/20\n",
      "9s - loss: 0.0189 - acc: 0.9988\n",
      "Epoch 20/20\n",
      "9s - loss: 5.8797e-06 - acc: 1.0000\n",
      "9s - loss: 0.0368 - acc: 0.9929\n",
      "9s - loss: 0.0378 - acc: 0.9923\n",
      "9s - loss: 0.0189 - acc: 0.9988\n",
      "Epoch 1/20\n",
      "Epoch 1/20\n",
      "Epoch 1/20\n",
      "Epoch 1/20\n",
      "9s - loss: 0.1674 - acc: 0.9770\n",
      "Epoch 2/20\n",
      "9s - loss: 0.1500 - acc: 0.9764\n",
      "Epoch 2/20\n",
      "9s - loss: 0.0980 - acc: 0.9826\n",
      "Epoch 2/20\n",
      "9s - loss: 0.1478 - acc: 0.9785\n",
      "Epoch 2/20\n",
      "9s - loss: 0.1040 - acc: 0.9867\n",
      "Epoch 3/20\n",
      "9s - loss: 0.1029 - acc: 0.9870\n",
      "Epoch 3/20\n",
      "9s - loss: 0.0200 - acc: 0.9988\n",
      "Epoch 3/20\n",
      "9s - loss: 0.0802 - acc: 0.9885\n",
      "Epoch 3/20\n",
      "9s - loss: 0.0911 - acc: 0.9873\n",
      "Epoch 4/20\n",
      "9s - loss: 0.0912 - acc: 0.9873\n",
      "Epoch 4/20\n",
      "9s - loss: 0.0190 - acc: 0.9988\n",
      "Epoch 4/20\n",
      "9s - loss: 0.0761 - acc: 0.9882\n",
      "Epoch 4/20\n",
      "9s - loss: 0.0777 - acc: 0.9879\n",
      "Epoch 5/20\n",
      "9s - loss: 0.0808 - acc: 0.9879\n",
      "Epoch 5/20\n",
      "9s - loss: 0.0189 - acc: 0.9988\n",
      "Epoch 5/20\n",
      "9s - loss: 0.0689 - acc: 0.9885\n",
      "Epoch 5/20\n",
      "9s - loss: 0.0754 - acc: 0.9879\n",
      "Epoch 6/20\n",
      "9s - loss: 0.0677 - acc: 0.9885\n",
      "Epoch 6/20\n",
      "9s - loss: 0.0162 - acc: 0.9985\n",
      "Epoch 6/20\n",
      "9s - loss: 0.0715 - acc: 0.9897\n",
      "Epoch 6/20\n",
      "9s - loss: 0.0634 - acc: 0.9888\n",
      "Epoch 7/20\n",
      "9s - loss: 0.0669 - acc: 0.9888\n",
      "Epoch 7/20\n",
      "9s - loss: 0.0188 - acc: 0.9988\n",
      "Epoch 7/20\n",
      "9s - loss: 0.0794 - acc: 0.9888\n",
      "Epoch 7/20\n",
      "9s - loss: 0.0622 - acc: 0.9891\n",
      "Epoch 8/20\n",
      "9s - loss: 0.0659 - acc: 0.9888\n",
      "Epoch 8/20\n",
      "9s - loss: 0.0188 - acc: 0.9988\n",
      "Epoch 8/20\n",
      "9s - loss: 0.0941 - acc: 0.9867\n",
      "Epoch 8/20\n",
      "9s - loss: 0.0585 - acc: 0.9891\n",
      "Epoch 9/20\n",
      "9s - loss: 0.0656 - acc: 0.9888\n",
      "Epoch 9/20\n",
      "9s - loss: 0.0188 - acc: 0.9988\n",
      "Epoch 9/20\n",
      "9s - loss: 0.1473 - acc: 0.9861\n",
      "Epoch 9/20\n",
      "9s - loss: 0.0577 - acc: 0.9894\n",
      "Epoch 10/20\n",
      "9s - loss: 0.0188 - acc: 0.9988\n",
      "Epoch 10/20\n",
      "9s - loss: 0.0635 - acc: 0.9894\n",
      "Epoch 10/20\n",
      "9s - loss: 0.1721 - acc: 0.9891\n",
      "Epoch 10/20\n",
      "9s - loss: 0.0568 - acc: 0.9894\n",
      "Epoch 11/20\n",
      "9s - loss: 0.0188 - acc: 0.9988\n",
      "Epoch 11/20\n",
      "9s - loss: 0.0627 - acc: 0.9891\n",
      "Epoch 11/20\n",
      "9s - loss: 0.1731 - acc: 0.9841\n",
      "Epoch 11/20\n",
      "9s - loss: 0.0550 - acc: 0.9897\n",
      "Epoch 12/20\n",
      "9s - loss: 0.0188 - acc: 0.9988\n",
      "Epoch 12/20\n",
      "9s - loss: 0.0625 - acc: 0.9888\n",
      "Epoch 12/20\n",
      "9s - loss: 0.1759 - acc: 0.9891\n",
      "Epoch 12/20\n",
      "9s - loss: 0.0546 - acc: 0.9897\n",
      "Epoch 13/20\n",
      "9s - loss: 0.0188 - acc: 0.9988\n",
      "Epoch 13/20\n",
      "9s - loss: 0.0566 - acc: 0.9891\n",
      "Epoch 13/20\n",
      "9s - loss: 0.1759 - acc: 0.9891\n",
      "Epoch 13/20\n",
      "9s - loss: 0.0528 - acc: 0.9903\n",
      "Epoch 14/20\n",
      "9s - loss: 0.0188 - acc: 0.9988\n",
      "Epoch 14/20\n",
      "9s - loss: 0.0564 - acc: 0.9891\n",
      "Epoch 14/20\n",
      "9s - loss: 0.1759 - acc: 0.9891\n",
      "Epoch 14/20\n",
      "9s - loss: 0.0516 - acc: 0.9894\n",
      "Epoch 15/20\n",
      "9s - loss: 0.0188 - acc: 0.9988\n",
      "Epoch 15/20\n",
      "9s - loss: 0.0548 - acc: 0.9891\n"
     ]
    },
    {
     "name": "stdout",
     "output_type": "stream",
     "text": [
      "Epoch 15/20\n",
      "9s - loss: 0.1759 - acc: 0.9891\n",
      "Epoch 15/20\n",
      "9s - loss: 0.0513 - acc: 0.9897\n",
      "Epoch 16/20\n",
      "9s - loss: 0.0188 - acc: 0.9988\n",
      "Epoch 16/20\n",
      "9s - loss: 0.0533 - acc: 0.9897\n",
      "Epoch 16/20\n",
      "9s - loss: 0.1759 - acc: 0.9891\n",
      "Epoch 16/20\n",
      "9s - loss: 0.0512 - acc: 0.9894\n",
      "Epoch 17/20\n",
      "9s - loss: 0.0188 - acc: 0.9988\n",
      "Epoch 17/20\n",
      "9s - loss: 0.0554 - acc: 0.9891\n",
      "Epoch 17/20\n",
      "9s - loss: 0.1759 - acc: 0.9891\n",
      "Epoch 17/20\n",
      "9s - loss: 0.0489 - acc: 0.9909\n",
      "Epoch 18/20\n",
      "9s - loss: 0.0188 - acc: 0.9988\n",
      "Epoch 18/20\n",
      "9s - loss: 0.0533 - acc: 0.9897\n",
      "Epoch 18/20\n",
      "9s - loss: 0.1759 - acc: 0.9891\n",
      "Epoch 18/20\n",
      "9s - loss: 0.0515 - acc: 0.9897\n",
      "Epoch 19/20\n",
      "9s - loss: 0.0111 - acc: 0.9988\n",
      "Epoch 19/20\n",
      "9s - loss: 0.0548 - acc: 0.9894\n",
      "Epoch 19/20\n",
      "9s - loss: 0.1759 - acc: 0.9891\n",
      "Epoch 19/20\n",
      "9s - loss: 0.0466 - acc: 0.9897\n",
      "Epoch 20/20\n",
      "9s - loss: 1.7436e-06 - acc: 1.0000\n",
      "Epoch 20/20\n",
      "9s - loss: 0.0519 - acc: 0.9894\n",
      "Epoch 20/20\n",
      "9s - loss: 0.1759 - acc: 0.9891\n",
      "Epoch 20/20\n",
      "9s - loss: 0.0434 - acc: 0.9914\n",
      "9s - loss: 3.1148e-06 - acc: 1.0000\n",
      "9s - loss: 0.0490 - acc: 0.9906\n",
      "9s - loss: 0.1759 - acc: 0.9891\n",
      "Epoch 1/20\n",
      "3s - loss: 0.1529 - acc: 0.9832\n",
      "Epoch 2/20\n",
      "3s - loss: 0.0847 - acc: 0.9882\n",
      "Epoch 3/20\n",
      "2s - loss: 0.0606 - acc: 0.9891\n",
      "Epoch 4/20\n",
      "2s - loss: 0.0613 - acc: 0.9888\n",
      "Epoch 5/20\n",
      "3s - loss: 0.0515 - acc: 0.9897\n",
      "Epoch 6/20\n",
      "2s - loss: 0.0463 - acc: 0.9909\n",
      "Epoch 7/20\n",
      "2s - loss: 0.0499 - acc: 0.9900\n",
      "Epoch 8/20\n",
      "3s - loss: 0.0466 - acc: 0.9912\n",
      "Epoch 9/20\n",
      "2s - loss: 0.0468 - acc: 0.9917\n",
      "Epoch 10/20\n",
      "2s - loss: 0.0408 - acc: 0.9926\n",
      "Epoch 11/20\n",
      "2s - loss: 0.0447 - acc: 0.9912\n",
      "Epoch 12/20\n",
      "3s - loss: 0.0503 - acc: 0.9906\n",
      "Epoch 13/20\n",
      "2s - loss: 0.0559 - acc: 0.9897\n",
      "Epoch 14/20\n",
      "2s - loss: 0.0497 - acc: 0.9906\n",
      "Epoch 15/20\n",
      "2s - loss: 0.0454 - acc: 0.9923\n",
      "Epoch 16/20\n",
      "3s - loss: 0.0428 - acc: 0.9926\n",
      "Epoch 17/20\n",
      "2s - loss: 0.0543 - acc: 0.9917\n",
      "Epoch 18/20\n",
      "2s - loss: 0.0413 - acc: 0.9920\n",
      "Epoch 19/20\n",
      "3s - loss: 0.0429 - acc: 0.9923\n",
      "Epoch 20/20\n",
      "2s - loss: 0.0435 - acc: 0.9926\n",
      "Epoch 1/20\n",
      "4s - loss: 0.1006 - acc: 0.9794\n",
      "Epoch 2/20\n",
      "4s - loss: 0.0479 - acc: 0.9927\n",
      "Epoch 3/20\n",
      "4s - loss: 0.0526 - acc: 0.9923\n",
      "Epoch 4/20\n",
      "4s - loss: 0.0467 - acc: 0.9923\n",
      "Epoch 5/20\n",
      "4s - loss: 0.0457 - acc: 0.9933\n",
      "Epoch 6/20\n",
      "4s - loss: 0.0408 - acc: 0.9939\n",
      "Epoch 7/20\n",
      "4s - loss: 0.0473 - acc: 0.9927\n",
      "Epoch 8/20\n",
      "4s - loss: 0.0852 - acc: 0.9900\n",
      "Epoch 9/20\n",
      "4s - loss: 0.0551 - acc: 0.9923\n",
      "Epoch 10/20\n",
      "4s - loss: 0.0379 - acc: 0.9937\n",
      "Epoch 11/20\n",
      "4s - loss: 0.0354 - acc: 0.9939\n",
      "Epoch 12/20\n",
      "4s - loss: 0.0326 - acc: 0.9947\n",
      "Epoch 13/20\n",
      "4s - loss: 0.0317 - acc: 0.9943\n",
      "Epoch 14/20\n",
      "4s - loss: 0.0446 - acc: 0.9931\n",
      "Epoch 15/20\n",
      "4s - loss: 0.0317 - acc: 0.9951\n",
      "Epoch 16/20\n",
      "4s - loss: 0.0270 - acc: 0.9949\n",
      "Epoch 17/20\n",
      "4s - loss: 0.0287 - acc: 0.9957\n",
      "Epoch 18/20\n",
      "4s - loss: 0.0324 - acc: 0.9941\n",
      "Epoch 19/20\n",
      "4s - loss: 0.0250 - acc: 0.9957\n",
      "Epoch 20/20\n",
      "4s - loss: 0.0287 - acc: 0.9949\n"
     ]
    }
   ],
   "source": [
    "# Create model\n",
    "model = KerasClassifier(build_fn=create_model, epochs=20, batch_size=20, verbose=2)\n",
    "# define the grid search parameters\n",
    "optimizer = ['SGD', 'RMSprop', 'Adagrad', 'Adadelta', 'Adam', 'Adamax', 'Nadam']\n",
    "param_grid = dict(optimizer=optimizer)\n",
    "grid = GridSearchCV(estimator=model, param_grid=param_grid, n_jobs=-1)\n",
    "grid_result = grid.fit(X_train, y_train)\n"
   ]
  },
  {
   "cell_type": "code",
   "execution_count": 36,
   "metadata": {},
   "outputs": [
    {
     "name": "stdout",
     "output_type": "stream",
     "text": [
      "Best: 0.992333 using {'optimizer': 'Nadam'}\n",
      "0.990957 (0.011558) with: {'optimizer': 'SGD'}\n",
      "0.988795 (0.011321) with: {'optimizer': 'RMSprop'}\n",
      "0.989385 (0.011260) with: {'optimizer': 'Adagrad'}\n",
      "0.989188 (0.011538) with: {'optimizer': 'Adadelta'}\n",
      "0.991154 (0.009617) with: {'optimizer': 'Adam'}\n",
      "0.989778 (0.011558) with: {'optimizer': 'Adamax'}\n",
      "0.992333 (0.010018) with: {'optimizer': 'Nadam'}\n"
     ]
    }
   ],
   "source": [
    "# summarize results\n",
    "print(\"Best: %f using %s\" % (grid_result.best_score_, grid_result.best_params_))\n",
    "means = grid_result.cv_results_['mean_test_score']\n",
    "stds = grid_result.cv_results_['std_test_score']\n",
    "params = grid_result.cv_results_['params']\n",
    "for mean, stdev, param in zip(means, stds, params):\n",
    "    print(\"%f (%f) with: %r\" % (mean, stdev, param))"
   ]
  },
  {
   "cell_type": "markdown",
   "metadata": {},
   "source": [
    "### epochs=20, batch_size=20 (original train dataset)\n",
    "    Best: 0.991744 using {'optimizer': 'Nadam'}\n",
    "    0.991547 (0.011952) with: {'optimizer': 'SGD'}\n",
    "    0.988598 (0.011160) with: {'optimizer': 'RMSprop'}\n",
    "    0.991351 (0.010562) with: {'optimizer': 'Adagrad'}\n",
    "    0.989385 (0.011684) with: {'optimizer': 'Adadelta'}\n",
    "    0.991351 (0.009740) with: {'optimizer': 'Adam'}\n",
    "    0.990171 (0.011874) with: {'optimizer': 'Adamax'}\n",
    "    0.991744 (0.010449) with: {'optimizer': 'Nadam'}"
   ]
  },
  {
   "cell_type": "markdown",
   "metadata": {},
   "source": [
    "### epochs=10, batch_size=10 (original train dataset)\n",
    "    Best: 0.992137 using {'optimizer': 'SGD'}\n",
    "    0.992137 (0.010296) with: {'optimizer': 'SGD'}\n",
    "    0.990171 (0.009728) with: {'optimizer': 'RMSprop'}\n",
    "    0.988205 (0.010851) with: {'optimizer': 'Adagrad'}\n",
    "    0.988992 (0.011406) with: {'optimizer': 'Adadelta'}\n",
    "    0.990761 (0.012240) with: {'optimizer': 'Adam'}\n",
    "    0.988402 (0.011003) with: {'optimizer': 'Adamax'}\n",
    "    0.992137 (0.011119) with: {'optimizer': 'Nadam'}"
   ]
  },
  {
   "cell_type": "code",
   "execution_count": null,
   "metadata": {},
   "outputs": [],
   "source": []
  }
 ],
 "metadata": {
  "kernelspec": {
   "display_name": "Python 3",
   "language": "python",
   "name": "python3"
  },
  "language_info": {
   "codemirror_mode": {
    "name": "ipython",
    "version": 3
   },
   "file_extension": ".py",
   "mimetype": "text/x-python",
   "name": "python",
   "nbconvert_exporter": "python",
   "pygments_lexer": "ipython3",
   "version": "3.5.2"
  }
 },
 "nbformat": 4,
 "nbformat_minor": 2
}
